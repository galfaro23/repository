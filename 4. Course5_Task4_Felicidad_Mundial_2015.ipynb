{
 "cells": [
  {
   "cell_type": "markdown",
   "metadata": {},
   "source": [
    "# Informe de la Felicidad Mundial hasta el 2015"
   ]
  },
  {
   "cell_type": "markdown",
   "metadata": {},
   "source": [
    "# Objetivo del Proyecto\n",
    "\n",
    "A fin de obtener el informe de la felicidad mundial del año 2015, voy a hacer predicciones utilizando la esperanza de vida y tasa de desempleo para definir la felicidad percibida (baja o alta) de los habitantes de un determinado país.\n",
    "\n",
    "Se construirán modelos de clasificación usando Decision Trees (árboles de decisión) y Logistic Regression Algorithms (Algoritmos de Regresión Logística) con el objetivo de elegir el que tenga mejor rendimiento a fin de hacer el análisis respectivo indicando mis conclusiones.\n",
    "\n",
    "Cabe destacar que es posible lo que deseo hacer con el conjunto de datos que consolidé de las fuentes World Bank, Gapminder, y World Happiness Report\n"
   ]
  },
  {
   "cell_type": "markdown",
   "metadata": {},
   "source": [
    "## Importar Librerías\n",
    "Importar las librerías necesarias: pandas, NumPy y matplotlib; funcionalidades de sklearn y una pequeña biblioteca de funciones de conveniencia utilizadas específicamente para este proyecto. Siéntase libre de abrir el archivo \"functions.py\" para ver el contenido."
   ]
  },
  {
   "cell_type": "code",
   "execution_count": 1,
   "metadata": {},
   "outputs": [],
   "source": [
    "# Librerías del Core\n",
    "\n",
    "import pandas as pd\n",
    "import numpy as np\n",
    "import matplotlib.pyplot as pyplot\n",
    "\n",
    "# Procesamiento de Sklearn\n",
    "\n",
    "from sklearn.preprocessing import MinMaxScaler\n",
    "from sklearn.model_selection import train_test_split\n",
    "\n",
    "# Algoritmos de clasificación Sklearn\n",
    "\n",
    "from sklearn.tree import DecisionTreeClassifier\n",
    "from sklearn.linear_model import LogisticRegression\n",
    "\n",
    "# Función de evaluación del modelo de clasificación Sklearn\n",
    "\n",
    "from sklearn.metrics import accuracy_score\n",
    "\n",
    "# Funciones de conveniencia\n",
    "\n",
    "from functions import * "
   ]
  },
  {
   "cell_type": "markdown",
   "metadata": {},
   "source": [
    "# 2.\tAdquirir y Limpiar los Datos\n",
    "\n",
    "Luego de definir el objetivo del proyecto procedí con la recolección y limpieza de la data, siendo éste el principal recurso de Machine Learning.\n",
    "\n",
    "Es importante entender las fortalezas y limitaciones de la data porque pocas veces estas coincidirán con el problema a resolver. Así mismo, es importante tener presente que no necesariamente tendremos toda la data necesaria para resolver el problema. En algunos casos se tendrá que recurrir fuentes externas, tal fue mi caso para el análisis e implementación del presente proyecto.\n",
    "\n",
    "## Cargar los Datos\n",
    "\n",
    "\n",
    "Se consolidó la información del Banco Mundial, Gapminder y el Informe Mundial sobre la Felicidad. \n",
    "\n",
    "Seleccioné algunas de las características disponibles de estas fuentes, se hizo calidad de datos y se realizó la atribución de los mismos para proporcionar las medidas más recientes de cada país hasta el 2015."
   ]
  },
  {
   "cell_type": "code",
   "execution_count": 2,
   "metadata": {},
   "outputs": [],
   "source": [
    "# Cargar el data set\n",
    "\n",
    "dataset = pd.read_csv(\"Datos_Felicidad_Mundial_2015.csv\")"
   ]
  },
  {
   "cell_type": "markdown",
   "metadata": {},
   "source": [
    "## Inspeccionar los Datos\n",
    "\n",
    "Identificar el número de características (columnas) y muestras (filas)."
   ]
  },
  {
   "cell_type": "code",
   "execution_count": 3,
   "metadata": {},
   "outputs": [
    {
     "data": {
      "text/plain": [
       "(194, 17)"
      ]
     },
     "execution_count": 3,
     "metadata": {},
     "output_type": "execute_result"
    }
   ],
   "source": [
    "# Examinar la dimensión de la matriz\n",
    "\n",
    "dataset.shape"
   ]
  },
  {
   "cell_type": "markdown",
   "metadata": {},
   "source": [
    "Visualizar la información con la que estoy tratando."
   ]
  },
  {
   "cell_type": "code",
   "execution_count": 4,
   "metadata": {},
   "outputs": [
    {
     "data": {
      "text/html": [
       "<div>\n",
       "<style scoped>\n",
       "    .dataframe tbody tr th:only-of-type {\n",
       "        vertical-align: middle;\n",
       "    }\n",
       "\n",
       "    .dataframe tbody tr th {\n",
       "        vertical-align: top;\n",
       "    }\n",
       "\n",
       "    .dataframe thead th {\n",
       "        text-align: right;\n",
       "    }\n",
       "</style>\n",
       "<table border=\"1\" class=\"dataframe\">\n",
       "  <thead>\n",
       "    <tr style=\"text-align: right;\">\n",
       "      <th></th>\n",
       "      <th>country</th>\n",
       "      <th>happiness</th>\n",
       "      <th>income</th>\n",
       "      <th>lifeexp</th>\n",
       "      <th>sanitation</th>\n",
       "      <th>water</th>\n",
       "      <th>urbanpopulation</th>\n",
       "      <th>unemployment</th>\n",
       "      <th>literacy</th>\n",
       "      <th>inequality</th>\n",
       "      <th>murder</th>\n",
       "      <th>energy</th>\n",
       "      <th>childmortality</th>\n",
       "      <th>fertility</th>\n",
       "      <th>hiv</th>\n",
       "      <th>foodsupply</th>\n",
       "      <th>population</th>\n",
       "    </tr>\n",
       "  </thead>\n",
       "  <tbody>\n",
       "    <tr>\n",
       "      <td>0</td>\n",
       "      <td>Afghanistan</td>\n",
       "      <td>3.982855</td>\n",
       "      <td>1750.0</td>\n",
       "      <td>57.9</td>\n",
       "      <td>39.2</td>\n",
       "      <td>63.0</td>\n",
       "      <td>11.0</td>\n",
       "      <td>NaN</td>\n",
       "      <td>39.0</td>\n",
       "      <td>NaN</td>\n",
       "      <td>NaN</td>\n",
       "      <td>NaN</td>\n",
       "      <td>73.2</td>\n",
       "      <td>4.80</td>\n",
       "      <td>5800.0</td>\n",
       "      <td>2090.0</td>\n",
       "      <td>33700000</td>\n",
       "    </tr>\n",
       "    <tr>\n",
       "      <td>1</td>\n",
       "      <td>Albania</td>\n",
       "      <td>4.606651</td>\n",
       "      <td>11000.0</td>\n",
       "      <td>77.6</td>\n",
       "      <td>97.7</td>\n",
       "      <td>91.4</td>\n",
       "      <td>NaN</td>\n",
       "      <td>6.090</td>\n",
       "      <td>96.8</td>\n",
       "      <td>29.0</td>\n",
       "      <td>2.30</td>\n",
       "      <td>808.0</td>\n",
       "      <td>14.0</td>\n",
       "      <td>1.71</td>\n",
       "      <td>NaN</td>\n",
       "      <td>3190.0</td>\n",
       "      <td>2920000</td>\n",
       "    </tr>\n",
       "    <tr>\n",
       "      <td>2</td>\n",
       "      <td>Argentina</td>\n",
       "      <td>6.697131</td>\n",
       "      <td>19100.0</td>\n",
       "      <td>76.5</td>\n",
       "      <td>94.8</td>\n",
       "      <td>99.6</td>\n",
       "      <td>43.1</td>\n",
       "      <td>0.856</td>\n",
       "      <td>97.9</td>\n",
       "      <td>41.4</td>\n",
       "      <td>4.65</td>\n",
       "      <td>2020.0</td>\n",
       "      <td>11.6</td>\n",
       "      <td>2.31</td>\n",
       "      <td>95000.0</td>\n",
       "      <td>3230.0</td>\n",
       "      <td>43400000</td>\n",
       "    </tr>\n",
       "    <tr>\n",
       "      <td>3</td>\n",
       "      <td>Armenia</td>\n",
       "      <td>4.348320</td>\n",
       "      <td>8180.0</td>\n",
       "      <td>75.4</td>\n",
       "      <td>91.6</td>\n",
       "      <td>98.9</td>\n",
       "      <td>36.7</td>\n",
       "      <td>7.110</td>\n",
       "      <td>99.6</td>\n",
       "      <td>32.4</td>\n",
       "      <td>1.12</td>\n",
       "      <td>1020.0</td>\n",
       "      <td>14.0</td>\n",
       "      <td>1.66</td>\n",
       "      <td>3600.0</td>\n",
       "      <td>2930.0</td>\n",
       "      <td>2920000</td>\n",
       "    </tr>\n",
       "    <tr>\n",
       "      <td>4</td>\n",
       "      <td>Australia</td>\n",
       "      <td>7.309061</td>\n",
       "      <td>43800.0</td>\n",
       "      <td>82.6</td>\n",
       "      <td>100.0</td>\n",
       "      <td>100.0</td>\n",
       "      <td>60.2</td>\n",
       "      <td>1.240</td>\n",
       "      <td>NaN</td>\n",
       "      <td>34.7</td>\n",
       "      <td>1.11</td>\n",
       "      <td>5480.0</td>\n",
       "      <td>3.8</td>\n",
       "      <td>1.86</td>\n",
       "      <td>22000.0</td>\n",
       "      <td>3280.0</td>\n",
       "      <td>23800000</td>\n",
       "    </tr>\n",
       "  </tbody>\n",
       "</table>\n",
       "</div>"
      ],
      "text/plain": [
       "       country  happiness   income  lifeexp  sanitation  water  \\\n",
       "0  Afghanistan   3.982855   1750.0     57.9        39.2   63.0   \n",
       "1      Albania   4.606651  11000.0     77.6        97.7   91.4   \n",
       "2    Argentina   6.697131  19100.0     76.5        94.8   99.6   \n",
       "3      Armenia   4.348320   8180.0     75.4        91.6   98.9   \n",
       "4    Australia   7.309061  43800.0     82.6       100.0  100.0   \n",
       "\n",
       "   urbanpopulation  unemployment  literacy  inequality  murder  energy  \\\n",
       "0             11.0           NaN      39.0         NaN     NaN     NaN   \n",
       "1              NaN         6.090      96.8        29.0    2.30   808.0   \n",
       "2             43.1         0.856      97.9        41.4    4.65  2020.0   \n",
       "3             36.7         7.110      99.6        32.4    1.12  1020.0   \n",
       "4             60.2         1.240       NaN        34.7    1.11  5480.0   \n",
       "\n",
       "   childmortality  fertility      hiv  foodsupply  population  \n",
       "0            73.2       4.80   5800.0      2090.0    33700000  \n",
       "1            14.0       1.71      NaN      3190.0     2920000  \n",
       "2            11.6       2.31  95000.0      3230.0    43400000  \n",
       "3            14.0       1.66   3600.0      2930.0     2920000  \n",
       "4             3.8       1.86  22000.0      3280.0    23800000  "
      ]
     },
     "execution_count": 4,
     "metadata": {},
     "output_type": "execute_result"
    }
   ],
   "source": [
    "# Inspeccionar las primeras filas\n",
    "\n",
    "dataset.head()"
   ]
  },
  {
   "cell_type": "markdown",
   "metadata": {},
   "source": [
    "Renombrar Columnas."
   ]
  },
  {
   "cell_type": "code",
   "execution_count": 5,
   "metadata": {
    "scrolled": true
   },
   "outputs": [
    {
     "name": "stdout",
     "output_type": "stream",
     "text": [
      "                    País  Felicidad  Ingresos  Expectativa_Vida  Saneamiento  \\\n",
      "0            Afghanistan   3.982855    1750.0              57.9         39.2   \n",
      "1                Albania   4.606651   11000.0              77.6         97.7   \n",
      "2              Argentina   6.697131   19100.0              76.5         94.8   \n",
      "3                Armenia   4.348320    8180.0              75.4         91.6   \n",
      "4              Australia   7.309061   43800.0              82.6        100.0   \n",
      "..                   ...        ...       ...               ...          ...   \n",
      "189                Tonga        NaN    5190.0              70.3         93.5   \n",
      "190  Trinidad and Tobago        NaN   31300.0              73.1         92.1   \n",
      "191               Tuvalu        NaN    3320.0               NaN         91.4   \n",
      "192              Vanuatu        NaN    2810.0              63.6         53.5   \n",
      "193        Liechtenstein        NaN       NaN               NaN        100.0   \n",
      "\n",
      "      Agua  Población_Urbana  Desempleo  Alfabetización  Desigualdad  \\\n",
      "0     63.0              11.0        NaN            39.0          NaN   \n",
      "1     91.4               NaN      6.090            96.8         29.0   \n",
      "2     99.6              43.1      0.856            97.9         41.4   \n",
      "3     98.9              36.7      7.110            99.6         32.4   \n",
      "4    100.0              60.2      1.240             NaN         34.7   \n",
      "..     ...               ...        ...             ...          ...   \n",
      "189   99.9               NaN        NaN            99.0         37.5   \n",
      "190   96.9               NaN        NaN            98.8         40.3   \n",
      "191   99.3               NaN        NaN             NaN         39.1   \n",
      "192   90.5               NaN      0.978            83.2         37.6   \n",
      "193  100.0               NaN        NaN             NaN          NaN   \n",
      "\n",
      "     Asesinato  Energía  Mortalidad_Infantil  Fertilidad      VIH  \\\n",
      "0          NaN      NaN                 73.2        4.80   5800.0   \n",
      "1         2.30    808.0                 14.0        1.71      NaN   \n",
      "2         4.65   2020.0                 11.6        2.31  95000.0   \n",
      "3         1.12   1020.0                 14.0        1.66   3600.0   \n",
      "4         1.11   5480.0                  3.8        1.86  22000.0   \n",
      "..         ...      ...                  ...         ...      ...   \n",
      "189        NaN    567.0                 16.8        3.68      NaN   \n",
      "190      12.10  14400.0                 19.1        1.77  13000.0   \n",
      "191        NaN      NaN                 26.2         NaN      NaN   \n",
      "192        NaN    159.0                 28.2        3.31      NaN   \n",
      "193        NaN      NaN                  NaN         NaN      NaN   \n",
      "\n",
      "     Suministro_Alimentos  Población_Total  \n",
      "0                  2090.0         33700000  \n",
      "1                  3190.0          2920000  \n",
      "2                  3230.0         43400000  \n",
      "3                  2930.0          2920000  \n",
      "4                  3280.0         23800000  \n",
      "..                    ...              ...  \n",
      "189                   NaN           106000  \n",
      "190                3050.0          1360000  \n",
      "191                   NaN            11000  \n",
      "192                2840.0           265000  \n",
      "193                   NaN            37400  \n",
      "\n",
      "[194 rows x 17 columns]\n"
     ]
    }
   ],
   "source": [
    "dt_Felicidad_Mundial_2015 = dataset.rename(columns={'country': 'País', 'happiness': 'Felicidad','income': 'Ingresos','lifeexp': 'Expectativa_Vida','sanitation': 'Saneamiento','water': 'Agua','urbanpopulation': 'Población_Urbana','unemployment': 'Desempleo','literacy': 'Alfabetización','inequality': 'Desigualdad','murder': 'Asesinato','energy': 'Energía','childmortality': 'Mortalidad_Infantil','fertility': 'Fertilidad','hiv': 'VIH', 'foodsupply': 'Suministro_Alimentos', 'population': 'Población_Total'})\n",
    "print(dt_Felicidad_Mundial_2015)"
   ]
  },
  {
   "cell_type": "markdown",
   "metadata": {},
   "source": [
    "Comprobar que los tipos de datos son sensatos para cada característica, es decir, que ninguna característica numérica se muestre como object."
   ]
  },
  {
   "cell_type": "code",
   "execution_count": 6,
   "metadata": {},
   "outputs": [
    {
     "data": {
      "text/plain": [
       "País                     object\n",
       "Felicidad               float64\n",
       "Ingresos                float64\n",
       "Expectativa_Vida        float64\n",
       "Saneamiento             float64\n",
       "Agua                    float64\n",
       "Población_Urbana        float64\n",
       "Desempleo               float64\n",
       "Alfabetización          float64\n",
       "Desigualdad             float64\n",
       "Asesinato               float64\n",
       "Energía                 float64\n",
       "Mortalidad_Infantil     float64\n",
       "Fertilidad              float64\n",
       "VIH                     float64\n",
       "Suministro_Alimentos    float64\n",
       "Población_Total           int64\n",
       "dtype: object"
      ]
     },
     "execution_count": 6,
     "metadata": {},
     "output_type": "execute_result"
    }
   ],
   "source": [
    "# Revisar el tipo de dato\n",
    "\n",
    "dt_Felicidad_Mundial_2015.dtypes"
   ]
  },
  {
   "cell_type": "markdown",
   "metadata": {},
   "source": [
    "Revisar si hay registros nulos."
   ]
  },
  {
   "cell_type": "code",
   "execution_count": 37,
   "metadata": {},
   "outputs": [
    {
     "data": {
      "text/plain": [
       "País                           0.0\n",
       "Felicidad                      0.0\n",
       "Ingresos                       0.0\n",
       "Expectativa_Vida               0.0\n",
       "Saneamiento                    0.0\n",
       "Agua                           0.0\n",
       "Alfabetización                 0.0\n",
       "Desigualdad                    0.0\n",
       "Energía                        0.0\n",
       "Mortalidad_Infantil            0.0\n",
       "Fertilidad                     0.0\n",
       "VIH                            0.0\n",
       "Suministro_Alimentos           0.0\n",
       "Población_Total                0.0\n",
       "Expectativa_Vida_Predictiva    0.0\n",
       "dtype: float64"
      ]
     },
     "execution_count": 37,
     "metadata": {},
     "output_type": "execute_result"
    }
   ],
   "source": [
    "# Revisar si hay registros nulos\n",
    "\n",
    "dt_Felicidad_Mundial_2015.isnull().mean().sort_values()"
   ]
  },
  {
   "cell_type": "markdown",
   "metadata": {},
   "source": [
    "## Limpieza de Datos\n",
    "\n",
    "Al tener la data a mi disposición se continúa con el pre-procesamiento de la misma, esto normalmente lo conocemos como la limpieza de los datos.\n",
    "\n",
    "El objetivo de ésta etapa es manipular y convertir la data de tal forma que se produzcan mejores resultados.\n",
    "\n",
    "Como ejemplos típicos de limpieza de datos tenemos:  Eliminar o inferir datos nulos, categorizar los valores de las variables, normalizar los valores numéricos o escalarlos para que se puedan comparar.\n",
    "\n",
    "En la limpieza de datos se hizo lo siguiente:\n",
    "\n",
    "Los números representan el porcentaje de filas nulas en cada característica. Estas características: Asesinato, Población Urbana y Desempleo tienen muchos valores nulos. Si dejara los nulos, estaría estimando un gran número de valores por lo que voy a descartarlos."
   ]
  },
  {
   "cell_type": "code",
   "execution_count": 8,
   "metadata": {},
   "outputs": [],
   "source": [
    "# Discard very sparse features\n",
    "\n",
    "dt_Felicidad_Mundial_2015 = dt_Felicidad_Mundial_2015.drop([\"Asesinato\",\"Población_Urbana\",\"Desempleo\"], axis=1)"
   ]
  },
  {
   "cell_type": "markdown",
   "metadata": {},
   "source": [
    "A las demás características solo les asignaré el valor medio de cada una."
   ]
  },
  {
   "cell_type": "code",
   "execution_count": 9,
   "metadata": {},
   "outputs": [],
   "source": [
    "# Calcular la media de cada característica\n",
    "\n",
    "means = dt_Felicidad_Mundial_2015.mean().to_dict()\n",
    "\n",
    "# Asignar cada nulo con la media de esa característica\n",
    "\n",
    "for m in means:\n",
    "    dt_Felicidad_Mundial_2015[m] = dt_Felicidad_Mundial_2015[m].fillna(value=means[m])"
   ]
  },
  {
   "cell_type": "markdown",
   "metadata": {},
   "source": [
    "Efectivamente no tengo registros nulos luego de haber agregado la media en cada característica."
   ]
  },
  {
   "cell_type": "code",
   "execution_count": 10,
   "metadata": {},
   "outputs": [
    {
     "data": {
      "text/plain": [
       "País                    0.0\n",
       "Felicidad               0.0\n",
       "Ingresos                0.0\n",
       "Expectativa_Vida        0.0\n",
       "Saneamiento             0.0\n",
       "Agua                    0.0\n",
       "Alfabetización          0.0\n",
       "Desigualdad             0.0\n",
       "Energía                 0.0\n",
       "Mortalidad_Infantil     0.0\n",
       "Fertilidad              0.0\n",
       "VIH                     0.0\n",
       "Suministro_Alimentos    0.0\n",
       "Población_Total         0.0\n",
       "dtype: float64"
      ]
     },
     "execution_count": 10,
     "metadata": {},
     "output_type": "execute_result"
    }
   ],
   "source": [
    "# Revisar si hay registros nulos\n",
    "\n",
    "dt_Felicidad_Mundial_2015.isnull().mean()"
   ]
  },
  {
   "cell_type": "markdown",
   "metadata": {},
   "source": [
    "# 3. Comprender los Datos\n",
    "\n",
    "En ésta etapa se llevaron a cabo los siguientes pasos:\n",
    "\n",
    "### Estadísticas Descriptivas\n",
    "\n",
    "Calculé las estadísticas descriptivas, las cuales dan una idea del rango y la extensión de los valores para cada característica. También, da la oportunidad de verificar cualquier eventualidad, como estadísticas que no coinciden con la descripción de la función, dando como resultado que sean datos erróneos, ya sea desde la fuente o del proceso de limpieza.\n",
    "\n",
    "Las estadísticas descriptivas dan una idea del rango y la extensión de los valores de cada característica y nos permite detectar patrones inesperados. "
   ]
  },
  {
   "cell_type": "code",
   "execution_count": 11,
   "metadata": {},
   "outputs": [
    {
     "data": {
      "text/html": [
       "<div>\n",
       "<style scoped>\n",
       "    .dataframe tbody tr th:only-of-type {\n",
       "        vertical-align: middle;\n",
       "    }\n",
       "\n",
       "    .dataframe tbody tr th {\n",
       "        vertical-align: top;\n",
       "    }\n",
       "\n",
       "    .dataframe thead th {\n",
       "        text-align: right;\n",
       "    }\n",
       "</style>\n",
       "<table border=\"1\" class=\"dataframe\">\n",
       "  <thead>\n",
       "    <tr style=\"text-align: right;\">\n",
       "      <th></th>\n",
       "      <th>Felicidad</th>\n",
       "      <th>Ingresos</th>\n",
       "      <th>Expectativa_Vida</th>\n",
       "      <th>Saneamiento</th>\n",
       "      <th>Agua</th>\n",
       "      <th>Alfabetización</th>\n",
       "      <th>Desigualdad</th>\n",
       "      <th>Energía</th>\n",
       "      <th>Mortalidad_Infantil</th>\n",
       "      <th>Fertilidad</th>\n",
       "      <th>VIH</th>\n",
       "      <th>Suministro_Alimentos</th>\n",
       "      <th>Población_Total</th>\n",
       "    </tr>\n",
       "  </thead>\n",
       "  <tbody>\n",
       "    <tr>\n",
       "      <td>count</td>\n",
       "      <td>194.000000</td>\n",
       "      <td>194.000000</td>\n",
       "      <td>194.000000</td>\n",
       "      <td>194.000000</td>\n",
       "      <td>194.000000</td>\n",
       "      <td>194.000000</td>\n",
       "      <td>194.000000</td>\n",
       "      <td>194.000000</td>\n",
       "      <td>194.000000</td>\n",
       "      <td>194.000000</td>\n",
       "      <td>1.940000e+02</td>\n",
       "      <td>194.000000</td>\n",
       "      <td>1.940000e+02</td>\n",
       "    </tr>\n",
       "    <tr>\n",
       "      <td>mean</td>\n",
       "      <td>5.395765</td>\n",
       "      <td>17432.849741</td>\n",
       "      <td>71.933690</td>\n",
       "      <td>73.838247</td>\n",
       "      <td>86.329381</td>\n",
       "      <td>81.573826</td>\n",
       "      <td>38.579375</td>\n",
       "      <td>2183.725325</td>\n",
       "      <td>31.441451</td>\n",
       "      <td>2.835924</td>\n",
       "      <td>2.179917e+05</td>\n",
       "      <td>2845.952381</td>\n",
       "      <td>3.787195e+07</td>\n",
       "    </tr>\n",
       "    <tr>\n",
       "      <td>std</td>\n",
       "      <td>0.953547</td>\n",
       "      <td>19072.580021</td>\n",
       "      <td>7.466359</td>\n",
       "      <td>29.269367</td>\n",
       "      <td>17.568245</td>\n",
       "      <td>17.055722</td>\n",
       "      <td>7.257464</td>\n",
       "      <td>2618.536430</td>\n",
       "      <td>31.237992</td>\n",
       "      <td>1.336162</td>\n",
       "      <td>5.521169e+05</td>\n",
       "      <td>413.199619</td>\n",
       "      <td>1.419670e+08</td>\n",
       "    </tr>\n",
       "    <tr>\n",
       "      <td>min</td>\n",
       "      <td>2.701591</td>\n",
       "      <td>623.000000</td>\n",
       "      <td>49.600000</td>\n",
       "      <td>7.080000</td>\n",
       "      <td>19.300000</td>\n",
       "      <td>25.300000</td>\n",
       "      <td>16.600000</td>\n",
       "      <td>9.580000</td>\n",
       "      <td>2.200000</td>\n",
       "      <td>1.240000</td>\n",
       "      <td>6.000000e+01</td>\n",
       "      <td>1880.000000</td>\n",
       "      <td>1.100000e+04</td>\n",
       "    </tr>\n",
       "    <tr>\n",
       "      <td>25%</td>\n",
       "      <td>4.891838</td>\n",
       "      <td>3297.500000</td>\n",
       "      <td>66.425000</td>\n",
       "      <td>49.225000</td>\n",
       "      <td>77.900000</td>\n",
       "      <td>75.575000</td>\n",
       "      <td>34.000000</td>\n",
       "      <td>614.500000</td>\n",
       "      <td>8.200000</td>\n",
       "      <td>1.790000</td>\n",
       "      <td>1.025000e+04</td>\n",
       "      <td>2570.000000</td>\n",
       "      <td>1.982500e+06</td>\n",
       "    </tr>\n",
       "    <tr>\n",
       "      <td>50%</td>\n",
       "      <td>5.395765</td>\n",
       "      <td>11050.000000</td>\n",
       "      <td>72.550000</td>\n",
       "      <td>87.900000</td>\n",
       "      <td>94.950000</td>\n",
       "      <td>81.573826</td>\n",
       "      <td>38.579375</td>\n",
       "      <td>1565.000000</td>\n",
       "      <td>17.900000</td>\n",
       "      <td>2.415000</td>\n",
       "      <td>7.000000e+04</td>\n",
       "      <td>2845.952381</td>\n",
       "      <td>8.435000e+06</td>\n",
       "    </tr>\n",
       "    <tr>\n",
       "      <td>75%</td>\n",
       "      <td>5.880369</td>\n",
       "      <td>24100.000000</td>\n",
       "      <td>77.400000</td>\n",
       "      <td>97.700000</td>\n",
       "      <td>99.300000</td>\n",
       "      <td>95.375000</td>\n",
       "      <td>42.175000</td>\n",
       "      <td>2425.000000</td>\n",
       "      <td>49.225000</td>\n",
       "      <td>3.687500</td>\n",
       "      <td>2.179917e+05</td>\n",
       "      <td>3140.000000</td>\n",
       "      <td>2.742500e+07</td>\n",
       "    </tr>\n",
       "    <tr>\n",
       "      <td>max</td>\n",
       "      <td>7.603434</td>\n",
       "      <td>120000.000000</td>\n",
       "      <td>83.800000</td>\n",
       "      <td>100.000000</td>\n",
       "      <td>100.000000</td>\n",
       "      <td>100.000000</td>\n",
       "      <td>63.000000</td>\n",
       "      <td>18600.000000</td>\n",
       "      <td>137.000000</td>\n",
       "      <td>7.290000</td>\n",
       "      <td>5.600000e+06</td>\n",
       "      <td>3770.000000</td>\n",
       "      <td>1.400000e+09</td>\n",
       "    </tr>\n",
       "  </tbody>\n",
       "</table>\n",
       "</div>"
      ],
      "text/plain": [
       "        Felicidad       Ingresos  Expectativa_Vida  Saneamiento        Agua  \\\n",
       "count  194.000000     194.000000        194.000000   194.000000  194.000000   \n",
       "mean     5.395765   17432.849741         71.933690    73.838247   86.329381   \n",
       "std      0.953547   19072.580021          7.466359    29.269367   17.568245   \n",
       "min      2.701591     623.000000         49.600000     7.080000   19.300000   \n",
       "25%      4.891838    3297.500000         66.425000    49.225000   77.900000   \n",
       "50%      5.395765   11050.000000         72.550000    87.900000   94.950000   \n",
       "75%      5.880369   24100.000000         77.400000    97.700000   99.300000   \n",
       "max      7.603434  120000.000000         83.800000   100.000000  100.000000   \n",
       "\n",
       "       Alfabetización  Desigualdad       Energía  Mortalidad_Infantil  \\\n",
       "count      194.000000   194.000000    194.000000           194.000000   \n",
       "mean        81.573826    38.579375   2183.725325            31.441451   \n",
       "std         17.055722     7.257464   2618.536430            31.237992   \n",
       "min         25.300000    16.600000      9.580000             2.200000   \n",
       "25%         75.575000    34.000000    614.500000             8.200000   \n",
       "50%         81.573826    38.579375   1565.000000            17.900000   \n",
       "75%         95.375000    42.175000   2425.000000            49.225000   \n",
       "max        100.000000    63.000000  18600.000000           137.000000   \n",
       "\n",
       "       Fertilidad           VIH  Suministro_Alimentos  Población_Total  \n",
       "count  194.000000  1.940000e+02            194.000000     1.940000e+02  \n",
       "mean     2.835924  2.179917e+05           2845.952381     3.787195e+07  \n",
       "std      1.336162  5.521169e+05            413.199619     1.419670e+08  \n",
       "min      1.240000  6.000000e+01           1880.000000     1.100000e+04  \n",
       "25%      1.790000  1.025000e+04           2570.000000     1.982500e+06  \n",
       "50%      2.415000  7.000000e+04           2845.952381     8.435000e+06  \n",
       "75%      3.687500  2.179917e+05           3140.000000     2.742500e+07  \n",
       "max      7.290000  5.600000e+06           3770.000000     1.400000e+09  "
      ]
     },
     "execution_count": 11,
     "metadata": {},
     "output_type": "execute_result"
    }
   ],
   "source": [
    "# Procesar las estadísticas descriptivas\n",
    "\n",
    "dt_Felicidad_Mundial_2015.describe()"
   ]
  },
  {
   "cell_type": "markdown",
   "metadata": {},
   "source": [
    "### Visualizar - Matriz de Correlación\n",
    "\n",
    "Utilicé la matriz de correlación para detectar correlaciones entre las características con el objetivo de detectar buenas correlaciones de Expectativa_Vida con otras características ya que es la que voy a predecir. Usaré una de las funciones de conveniencia que se encuentran en el archivo “functions.py”:"
   ]
  },
  {
   "cell_type": "code",
   "execution_count": 12,
   "metadata": {},
   "outputs": [
    {
     "data": {
      "image/png": "[encoded data removed]",
      "text/plain": [
       "<Figure size 720x720 with 2 Axes>"
      ]
     },
     "metadata": {
      "needs_background": "light"
     },
     "output_type": "display_data"
    }
   ],
   "source": [
    "# Display a correlation matrix\n",
    "\n",
    "correlationMatrix(dt_Felicidad_Mundial_2015)"
   ]
  },
  {
   "cell_type": "markdown",
   "metadata": {},
   "source": [
    "La barra de color que está a lado derecho muestra los colores que representan diferentes niveles de correlación.\n",
    "\n",
    "Partiendo de la característica Expectativa_Vida, se obtienen las siguientes observaciones:\n",
    "\n",
    "- Las características: Saneamiento, el Agua, el Suministro de Alimentos y la Felicidad están en azul oscuro, lo que indica fuertes correlaciones positivas con la vida. \n",
    "\n",
    "- Las características: Mortalidad y Fertilidad Infantil están en rojo oscuro, lo que indica fuertes correlaciones negativas con la vida. \n",
    "\n",
    "Conforme a éstas observaciones surge la siguiente pregunta:\n",
    "\n",
    "¿Estas observaciones se ajustan a la comprensión de los factores que pueden influir en la esperanza de vida? \n",
    "\n",
    "R/: Si lo hacen, son buenas noticias ya que el modelo lo va a captar y va a exponer la situación del mundo con datos reales que corresponden al 2015, lo cual demuestra el buen uso del conocimiento del dominio para el proyecto en cuestión."
   ]
  },
  {
   "cell_type": "markdown",
   "metadata": {},
   "source": [
    "Por otra parte, hice varios diagramas (box plots) para comprender la distribución de cada característica a fin de tener un panorama más claro. "
   ]
  },
  {
   "cell_type": "code",
   "execution_count": 13,
   "metadata": {},
   "outputs": [
    {
     "data": {
      "image/png": "[encoded data removed]",
      "text/plain": [
       "<Figure size 1440x2520 with 28 Axes>"
      ]
     },
     "metadata": {
      "needs_background": "light"
     },
     "output_type": "display_data"
    }
   ],
   "source": [
    "# Visualizar boxplots para cada característica numérica\n",
    "\n",
    "boxPlotAll(dt_Felicidad_Mundial_2015)"
   ]
  },
  {
   "cell_type": "markdown",
   "metadata": {},
   "source": [
    "Nuevamente:\n",
    "\n",
    "¿Estos diagramas reflejan la comprensión de los datos? ¿Hay alguna sorpresa? \n",
    "\n",
    "R/: Si los hay, más adelante se investigarán más a fondo.\n"
   ]
  },
  {
   "cell_type": "markdown",
   "metadata": {},
   "source": [
    "# 4. Preparar los Datos\n",
    "\n",
    "Una vez que disponemos de la data recolectada, limpia y analizada se lleva a cabo el procesamiento de la misma.\n",
    "\n",
    "El objetivo de ésta etapa es hacer predicciones sobre la esperanza de vida de un determinado país a partir del conjunto de métricas del mismo. "
   ]
  },
  {
   "cell_type": "markdown",
   "metadata": {},
   "source": [
    "### Característica \"ExpectativaVida_Predictiva”\n",
    "\n",
    "Se creó la característica \"ExpectativaVida_Predictiva\", la cuál es la característica defina como target (destino) en donde los datos se agruparon en las categorías “Baja, Media y Alta”.\n",
    "\n",
    "Se añadió la función appendEqualCountsClass() (se puede encontrar en el archivo \"functions.py\").\n"
   ]
  },
  {
   "cell_type": "code",
   "execution_count": 14,
   "metadata": {},
   "outputs": [],
   "source": [
    "# Crear el target \"Expectativa_Vida_Predictiva\" clasificándose como \"Baja\", \"Media\" y \"Alta\"grupo\n",
    "\n",
    "dt_Felicidad_Mundial_2015 = appendEqualCountsClass(dt_Felicidad_Mundial_2015, \"Expectativa_Vida_Predictiva\", \"Expectativa_Vida\", 3, [\"Baja\",\"Media\",\"Alta\"])"
   ]
  },
  {
   "cell_type": "markdown",
   "metadata": {},
   "source": [
    "Se comprobó que la distribución es uniforme a las filas requeridas a través de las categorías previamente creadas."
   ]
  },
  {
   "cell_type": "code",
   "execution_count": 15,
   "metadata": {},
   "outputs": [
    {
     "data": {
      "text/plain": [
       "Alta     65\n",
       "Baja     65\n",
       "Media    64\n",
       "Name: Expectativa_Vida_Predictiva, dtype: int64"
      ]
     },
     "execution_count": 15,
     "metadata": {},
     "output_type": "execute_result"
    }
   ],
   "source": [
    "# Comprobar cuántas filas hay en cada categoría\n",
    "\n",
    "dt_Felicidad_Mundial_2015.Expectativa_Vida_Predictiva.value_counts()"
   ]
  },
  {
   "cell_type": "markdown",
   "metadata": {},
   "source": [
    "Efectivamente el resultado es como se esperaba."
   ]
  },
  {
   "cell_type": "code",
   "execution_count": 16,
   "metadata": {},
   "outputs": [
    {
     "data": {
      "text/html": [
       "<div>\n",
       "<style scoped>\n",
       "    .dataframe tbody tr th:only-of-type {\n",
       "        vertical-align: middle;\n",
       "    }\n",
       "\n",
       "    .dataframe tbody tr th {\n",
       "        vertical-align: top;\n",
       "    }\n",
       "\n",
       "    .dataframe thead th {\n",
       "        text-align: right;\n",
       "    }\n",
       "</style>\n",
       "<table border=\"1\" class=\"dataframe\">\n",
       "  <thead>\n",
       "    <tr style=\"text-align: right;\">\n",
       "      <th></th>\n",
       "      <th>Expectativa_Vida</th>\n",
       "      <th>Expectativa_Vida_Predictiva</th>\n",
       "    </tr>\n",
       "  </thead>\n",
       "  <tbody>\n",
       "    <tr>\n",
       "      <td>0</td>\n",
       "      <td>57.9</td>\n",
       "      <td>Baja</td>\n",
       "    </tr>\n",
       "    <tr>\n",
       "      <td>1</td>\n",
       "      <td>77.6</td>\n",
       "      <td>Alta</td>\n",
       "    </tr>\n",
       "    <tr>\n",
       "      <td>2</td>\n",
       "      <td>76.5</td>\n",
       "      <td>Alta</td>\n",
       "    </tr>\n",
       "    <tr>\n",
       "      <td>3</td>\n",
       "      <td>75.4</td>\n",
       "      <td>Media</td>\n",
       "    </tr>\n",
       "    <tr>\n",
       "      <td>4</td>\n",
       "      <td>82.6</td>\n",
       "      <td>Alta</td>\n",
       "    </tr>\n",
       "  </tbody>\n",
       "</table>\n",
       "</div>"
      ],
      "text/plain": [
       "   Expectativa_Vida Expectativa_Vida_Predictiva\n",
       "0              57.9                        Baja\n",
       "1              77.6                        Alta\n",
       "2              76.5                        Alta\n",
       "3              75.4                       Media\n",
       "4              82.6                        Alta"
      ]
     },
     "execution_count": 16,
     "metadata": {},
     "output_type": "execute_result"
    }
   ],
   "source": [
    "# Comprobar que funcione como se espera\n",
    "\n",
    "dt_Felicidad_Mundial_2015[['Expectativa_Vida','Expectativa_Vida_Predictiva']].head()"
   ]
  },
  {
   "cell_type": "markdown",
   "metadata": {},
   "source": [
    "### Características Divididas como Entrada y Destinoo\t\n",
    "\n",
    "Se clasificaron unas características como entrada y otras como target (destino). Antes de hacer dicha clasificación es importante recordar las columnas que tenemos a nuestra disposición:"
   ]
  },
  {
   "cell_type": "code",
   "execution_count": 17,
   "metadata": {},
   "outputs": [
    {
     "data": {
      "text/plain": [
       "Index(['País', 'Felicidad', 'Ingresos', 'Expectativa_Vida', 'Saneamiento',\n",
       "       'Agua', 'Alfabetización', 'Desigualdad', 'Energía',\n",
       "       'Mortalidad_Infantil', 'Fertilidad', 'VIH', 'Suministro_Alimentos',\n",
       "       'Población_Total', 'Expectativa_Vida_Predictiva'],\n",
       "      dtype='object')"
      ]
     },
     "execution_count": 17,
     "metadata": {},
     "output_type": "execute_result"
    }
   ],
   "source": [
    "dt_Felicidad_Mundial_2015.columns"
   ]
  },
  {
   "cell_type": "markdown",
   "metadata": {},
   "source": [
    "Se seleccionó \"Expectativa_Vida_Predictiva\" como nuestra característica de destino (la que predecimos) y todo lo demás como las características de entrada (las que usaremos para hacer la predicción)."
   ]
  },
  {
   "cell_type": "code",
   "execution_count": 18,
   "metadata": {},
   "outputs": [],
   "source": [
    "# Dividir en características de entrada y de destino\n",
    "\n",
    "y = dt_Felicidad_Mundial_2015[\"Expectativa_Vida_Predictiva\"]\n",
    "X = dt_Felicidad_Mundial_2015[['Felicidad', 'Ingresos', 'Saneamiento', 'Agua', 'Alfabetización', 'Desigualdad', 'Energía', 'Mortalidad_Infantil', 'Fertilidad',  'VIH', 'Suministro_Alimentos', 'Población_Total']]"
   ]
  },
  {
   "cell_type": "code",
   "execution_count": 19,
   "metadata": {},
   "outputs": [
    {
     "data": {
      "text/html": [
       "<div>\n",
       "<style scoped>\n",
       "    .dataframe tbody tr th:only-of-type {\n",
       "        vertical-align: middle;\n",
       "    }\n",
       "\n",
       "    .dataframe tbody tr th {\n",
       "        vertical-align: top;\n",
       "    }\n",
       "\n",
       "    .dataframe thead th {\n",
       "        text-align: right;\n",
       "    }\n",
       "</style>\n",
       "<table border=\"1\" class=\"dataframe\">\n",
       "  <thead>\n",
       "    <tr style=\"text-align: right;\">\n",
       "      <th></th>\n",
       "      <th>Felicidad</th>\n",
       "      <th>Ingresos</th>\n",
       "      <th>Saneamiento</th>\n",
       "      <th>Agua</th>\n",
       "      <th>Alfabetización</th>\n",
       "      <th>Desigualdad</th>\n",
       "      <th>Energía</th>\n",
       "      <th>Mortalidad_Infantil</th>\n",
       "      <th>Fertilidad</th>\n",
       "      <th>VIH</th>\n",
       "      <th>Suministro_Alimentos</th>\n",
       "      <th>Población_Total</th>\n",
       "    </tr>\n",
       "  </thead>\n",
       "  <tbody>\n",
       "    <tr>\n",
       "      <td>0</td>\n",
       "      <td>3.982855</td>\n",
       "      <td>1750.0</td>\n",
       "      <td>39.2</td>\n",
       "      <td>63.0</td>\n",
       "      <td>39.000000</td>\n",
       "      <td>38.579375</td>\n",
       "      <td>2183.725325</td>\n",
       "      <td>73.2</td>\n",
       "      <td>4.80</td>\n",
       "      <td>5800.000000</td>\n",
       "      <td>2090.0</td>\n",
       "      <td>33700000</td>\n",
       "    </tr>\n",
       "    <tr>\n",
       "      <td>1</td>\n",
       "      <td>4.606651</td>\n",
       "      <td>11000.0</td>\n",
       "      <td>97.7</td>\n",
       "      <td>91.4</td>\n",
       "      <td>96.800000</td>\n",
       "      <td>29.000000</td>\n",
       "      <td>808.000000</td>\n",
       "      <td>14.0</td>\n",
       "      <td>1.71</td>\n",
       "      <td>217991.677852</td>\n",
       "      <td>3190.0</td>\n",
       "      <td>2920000</td>\n",
       "    </tr>\n",
       "    <tr>\n",
       "      <td>2</td>\n",
       "      <td>6.697131</td>\n",
       "      <td>19100.0</td>\n",
       "      <td>94.8</td>\n",
       "      <td>99.6</td>\n",
       "      <td>97.900000</td>\n",
       "      <td>41.400000</td>\n",
       "      <td>2020.000000</td>\n",
       "      <td>11.6</td>\n",
       "      <td>2.31</td>\n",
       "      <td>95000.000000</td>\n",
       "      <td>3230.0</td>\n",
       "      <td>43400000</td>\n",
       "    </tr>\n",
       "    <tr>\n",
       "      <td>3</td>\n",
       "      <td>4.348320</td>\n",
       "      <td>8180.0</td>\n",
       "      <td>91.6</td>\n",
       "      <td>98.9</td>\n",
       "      <td>99.600000</td>\n",
       "      <td>32.400000</td>\n",
       "      <td>1020.000000</td>\n",
       "      <td>14.0</td>\n",
       "      <td>1.66</td>\n",
       "      <td>3600.000000</td>\n",
       "      <td>2930.0</td>\n",
       "      <td>2920000</td>\n",
       "    </tr>\n",
       "    <tr>\n",
       "      <td>4</td>\n",
       "      <td>7.309061</td>\n",
       "      <td>43800.0</td>\n",
       "      <td>100.0</td>\n",
       "      <td>100.0</td>\n",
       "      <td>81.573826</td>\n",
       "      <td>34.700000</td>\n",
       "      <td>5480.000000</td>\n",
       "      <td>3.8</td>\n",
       "      <td>1.86</td>\n",
       "      <td>22000.000000</td>\n",
       "      <td>3280.0</td>\n",
       "      <td>23800000</td>\n",
       "    </tr>\n",
       "  </tbody>\n",
       "</table>\n",
       "</div>"
      ],
      "text/plain": [
       "   Felicidad  Ingresos  Saneamiento   Agua  Alfabetización  Desigualdad  \\\n",
       "0   3.982855    1750.0         39.2   63.0       39.000000    38.579375   \n",
       "1   4.606651   11000.0         97.7   91.4       96.800000    29.000000   \n",
       "2   6.697131   19100.0         94.8   99.6       97.900000    41.400000   \n",
       "3   4.348320    8180.0         91.6   98.9       99.600000    32.400000   \n",
       "4   7.309061   43800.0        100.0  100.0       81.573826    34.700000   \n",
       "\n",
       "       Energía  Mortalidad_Infantil  Fertilidad            VIH  \\\n",
       "0  2183.725325                 73.2        4.80    5800.000000   \n",
       "1   808.000000                 14.0        1.71  217991.677852   \n",
       "2  2020.000000                 11.6        2.31   95000.000000   \n",
       "3  1020.000000                 14.0        1.66    3600.000000   \n",
       "4  5480.000000                  3.8        1.86   22000.000000   \n",
       "\n",
       "   Suministro_Alimentos  Población_Total  \n",
       "0                2090.0         33700000  \n",
       "1                3190.0          2920000  \n",
       "2                3230.0         43400000  \n",
       "3                2930.0          2920000  \n",
       "4                3280.0         23800000  "
      ]
     },
     "execution_count": 19,
     "metadata": {},
     "output_type": "execute_result"
    }
   ],
   "source": [
    "X.head()"
   ]
  },
  {
   "cell_type": "code",
   "execution_count": 20,
   "metadata": {},
   "outputs": [
    {
     "data": {
      "text/plain": [
       "0     Baja\n",
       "1     Alta\n",
       "2     Alta\n",
       "3    Media\n",
       "4     Alta\n",
       "Name: Expectativa_Vida_Predictiva, dtype: category\n",
       "Categories (3, object): [Baja < Media < Alta]"
      ]
     },
     "execution_count": 20,
     "metadata": {},
     "output_type": "execute_result"
    }
   ],
   "source": [
    "y.head()"
   ]
  },
  {
   "cell_type": "markdown",
   "metadata": {},
   "source": [
    "### Características de Escala\n",
    "\n",
    "Es útil normalizar los datos para hacer más fácil la técnica de Machine Learning, por normalizar me refiero a poner todos los datos en una escala similar.\n",
    "\n",
    "Cuando ejecuté dataset.describe(), el rango de valores entre el mínimo y el máximo era diferente entre las características. El Saneamiento iba de 7 a 100, pero los Ingresos iban de 623 a 120.000. Muchos algoritmos no funcionarán de manera óptima con datos en escalas tan diferentes, para evitarlo, escalé los datos antes de construir el modelo. En este caso, usé el MinMaxScaler() para escalar los datos de manera que cada característica vaya de 0 a 1."
   ]
  },
  {
   "cell_type": "code",
   "execution_count": 21,
   "metadata": {},
   "outputs": [
    {
     "data": {
      "text/html": [
       "<div>\n",
       "<style scoped>\n",
       "    .dataframe tbody tr th:only-of-type {\n",
       "        vertical-align: middle;\n",
       "    }\n",
       "\n",
       "    .dataframe tbody tr th {\n",
       "        vertical-align: top;\n",
       "    }\n",
       "\n",
       "    .dataframe thead th {\n",
       "        text-align: right;\n",
       "    }\n",
       "</style>\n",
       "<table border=\"1\" class=\"dataframe\">\n",
       "  <thead>\n",
       "    <tr style=\"text-align: right;\">\n",
       "      <th></th>\n",
       "      <th>Felicidad</th>\n",
       "      <th>Ingresos</th>\n",
       "      <th>Saneamiento</th>\n",
       "      <th>Agua</th>\n",
       "      <th>Alfabetización</th>\n",
       "      <th>Desigualdad</th>\n",
       "      <th>Energía</th>\n",
       "      <th>Mortalidad_Infantil</th>\n",
       "      <th>Fertilidad</th>\n",
       "      <th>VIH</th>\n",
       "      <th>Suministro_Alimentos</th>\n",
       "      <th>Población_Total</th>\n",
       "    </tr>\n",
       "  </thead>\n",
       "  <tbody>\n",
       "    <tr>\n",
       "      <td>count</td>\n",
       "      <td>194.000000</td>\n",
       "      <td>194.000000</td>\n",
       "      <td>194.000000</td>\n",
       "      <td>194.000000</td>\n",
       "      <td>194.000000</td>\n",
       "      <td>194.000000</td>\n",
       "      <td>194.000000</td>\n",
       "      <td>194.000000</td>\n",
       "      <td>194.000000</td>\n",
       "      <td>1.940000e+02</td>\n",
       "      <td>194.000000</td>\n",
       "      <td>1.940000e+02</td>\n",
       "    </tr>\n",
       "    <tr>\n",
       "      <td>mean</td>\n",
       "      <td>5.395765</td>\n",
       "      <td>17432.849741</td>\n",
       "      <td>73.838247</td>\n",
       "      <td>86.329381</td>\n",
       "      <td>81.573826</td>\n",
       "      <td>38.579375</td>\n",
       "      <td>2183.725325</td>\n",
       "      <td>31.441451</td>\n",
       "      <td>2.835924</td>\n",
       "      <td>2.179917e+05</td>\n",
       "      <td>2845.952381</td>\n",
       "      <td>3.787195e+07</td>\n",
       "    </tr>\n",
       "    <tr>\n",
       "      <td>std</td>\n",
       "      <td>0.953547</td>\n",
       "      <td>19072.580021</td>\n",
       "      <td>29.269367</td>\n",
       "      <td>17.568245</td>\n",
       "      <td>17.055722</td>\n",
       "      <td>7.257464</td>\n",
       "      <td>2618.536430</td>\n",
       "      <td>31.237992</td>\n",
       "      <td>1.336162</td>\n",
       "      <td>5.521169e+05</td>\n",
       "      <td>413.199619</td>\n",
       "      <td>1.419670e+08</td>\n",
       "    </tr>\n",
       "    <tr>\n",
       "      <td>min</td>\n",
       "      <td>2.701591</td>\n",
       "      <td>623.000000</td>\n",
       "      <td>7.080000</td>\n",
       "      <td>19.300000</td>\n",
       "      <td>25.300000</td>\n",
       "      <td>16.600000</td>\n",
       "      <td>9.580000</td>\n",
       "      <td>2.200000</td>\n",
       "      <td>1.240000</td>\n",
       "      <td>6.000000e+01</td>\n",
       "      <td>1880.000000</td>\n",
       "      <td>1.100000e+04</td>\n",
       "    </tr>\n",
       "    <tr>\n",
       "      <td>25%</td>\n",
       "      <td>4.891838</td>\n",
       "      <td>3297.500000</td>\n",
       "      <td>49.225000</td>\n",
       "      <td>77.900000</td>\n",
       "      <td>75.575000</td>\n",
       "      <td>34.000000</td>\n",
       "      <td>614.500000</td>\n",
       "      <td>8.200000</td>\n",
       "      <td>1.790000</td>\n",
       "      <td>1.025000e+04</td>\n",
       "      <td>2570.000000</td>\n",
       "      <td>1.982500e+06</td>\n",
       "    </tr>\n",
       "    <tr>\n",
       "      <td>50%</td>\n",
       "      <td>5.395765</td>\n",
       "      <td>11050.000000</td>\n",
       "      <td>87.900000</td>\n",
       "      <td>94.950000</td>\n",
       "      <td>81.573826</td>\n",
       "      <td>38.579375</td>\n",
       "      <td>1565.000000</td>\n",
       "      <td>17.900000</td>\n",
       "      <td>2.415000</td>\n",
       "      <td>7.000000e+04</td>\n",
       "      <td>2845.952381</td>\n",
       "      <td>8.435000e+06</td>\n",
       "    </tr>\n",
       "    <tr>\n",
       "      <td>75%</td>\n",
       "      <td>5.880369</td>\n",
       "      <td>24100.000000</td>\n",
       "      <td>97.700000</td>\n",
       "      <td>99.300000</td>\n",
       "      <td>95.375000</td>\n",
       "      <td>42.175000</td>\n",
       "      <td>2425.000000</td>\n",
       "      <td>49.225000</td>\n",
       "      <td>3.687500</td>\n",
       "      <td>2.179917e+05</td>\n",
       "      <td>3140.000000</td>\n",
       "      <td>2.742500e+07</td>\n",
       "    </tr>\n",
       "    <tr>\n",
       "      <td>max</td>\n",
       "      <td>7.603434</td>\n",
       "      <td>120000.000000</td>\n",
       "      <td>100.000000</td>\n",
       "      <td>100.000000</td>\n",
       "      <td>100.000000</td>\n",
       "      <td>63.000000</td>\n",
       "      <td>18600.000000</td>\n",
       "      <td>137.000000</td>\n",
       "      <td>7.290000</td>\n",
       "      <td>5.600000e+06</td>\n",
       "      <td>3770.000000</td>\n",
       "      <td>1.400000e+09</td>\n",
       "    </tr>\n",
       "  </tbody>\n",
       "</table>\n",
       "</div>"
      ],
      "text/plain": [
       "        Felicidad       Ingresos  Saneamiento        Agua  Alfabetización  \\\n",
       "count  194.000000     194.000000   194.000000  194.000000      194.000000   \n",
       "mean     5.395765   17432.849741    73.838247   86.329381       81.573826   \n",
       "std      0.953547   19072.580021    29.269367   17.568245       17.055722   \n",
       "min      2.701591     623.000000     7.080000   19.300000       25.300000   \n",
       "25%      4.891838    3297.500000    49.225000   77.900000       75.575000   \n",
       "50%      5.395765   11050.000000    87.900000   94.950000       81.573826   \n",
       "75%      5.880369   24100.000000    97.700000   99.300000       95.375000   \n",
       "max      7.603434  120000.000000   100.000000  100.000000      100.000000   \n",
       "\n",
       "       Desigualdad       Energía  Mortalidad_Infantil  Fertilidad  \\\n",
       "count   194.000000    194.000000           194.000000  194.000000   \n",
       "mean     38.579375   2183.725325            31.441451    2.835924   \n",
       "std       7.257464   2618.536430            31.237992    1.336162   \n",
       "min      16.600000      9.580000             2.200000    1.240000   \n",
       "25%      34.000000    614.500000             8.200000    1.790000   \n",
       "50%      38.579375   1565.000000            17.900000    2.415000   \n",
       "75%      42.175000   2425.000000            49.225000    3.687500   \n",
       "max      63.000000  18600.000000           137.000000    7.290000   \n",
       "\n",
       "                VIH  Suministro_Alimentos  Población_Total  \n",
       "count  1.940000e+02            194.000000     1.940000e+02  \n",
       "mean   2.179917e+05           2845.952381     3.787195e+07  \n",
       "std    5.521169e+05            413.199619     1.419670e+08  \n",
       "min    6.000000e+01           1880.000000     1.100000e+04  \n",
       "25%    1.025000e+04           2570.000000     1.982500e+06  \n",
       "50%    7.000000e+04           2845.952381     8.435000e+06  \n",
       "75%    2.179917e+05           3140.000000     2.742500e+07  \n",
       "max    5.600000e+06           3770.000000     1.400000e+09  "
      ]
     },
     "execution_count": 21,
     "metadata": {},
     "output_type": "execute_result"
    }
   ],
   "source": [
    "X.describe()"
   ]
  },
  {
   "cell_type": "markdown",
   "metadata": {},
   "source": [
    "Muchos algoritmos no funcionarán al máximo cuando se les presenten tales datos, por lo que los escalaré para que todos estén en el rango de 0 a 1."
   ]
  },
  {
   "cell_type": "code",
   "execution_count": 22,
   "metadata": {},
   "outputs": [],
   "source": [
    "# Reescalar los datos\n",
    "\n",
    "scaler = MinMaxScaler(feature_range=(0,1))\n",
    "rescaledX = scaler.fit_transform(X)\n",
    "\n",
    "# Convertir X de nuevo en un DataFrame de Pandas por conveniencia\n",
    "\n",
    "X = pd.DataFrame(rescaledX, columns=X.columns)"
   ]
  },
  {
   "cell_type": "markdown",
   "metadata": {},
   "source": [
    "Observe el resultado de ésta escalada. Ahora cada característica tiene un mínimo de 0 y un máximo de 1:"
   ]
  },
  {
   "cell_type": "code",
   "execution_count": 23,
   "metadata": {},
   "outputs": [
    {
     "data": {
      "text/html": [
       "<div>\n",
       "<style scoped>\n",
       "    .dataframe tbody tr th:only-of-type {\n",
       "        vertical-align: middle;\n",
       "    }\n",
       "\n",
       "    .dataframe tbody tr th {\n",
       "        vertical-align: top;\n",
       "    }\n",
       "\n",
       "    .dataframe thead th {\n",
       "        text-align: right;\n",
       "    }\n",
       "</style>\n",
       "<table border=\"1\" class=\"dataframe\">\n",
       "  <thead>\n",
       "    <tr style=\"text-align: right;\">\n",
       "      <th></th>\n",
       "      <th>Felicidad</th>\n",
       "      <th>Ingresos</th>\n",
       "      <th>Saneamiento</th>\n",
       "      <th>Agua</th>\n",
       "      <th>Alfabetización</th>\n",
       "      <th>Desigualdad</th>\n",
       "      <th>Energía</th>\n",
       "      <th>Mortalidad_Infantil</th>\n",
       "      <th>Fertilidad</th>\n",
       "      <th>VIH</th>\n",
       "      <th>Suministro_Alimentos</th>\n",
       "      <th>Población_Total</th>\n",
       "    </tr>\n",
       "  </thead>\n",
       "  <tbody>\n",
       "    <tr>\n",
       "      <td>count</td>\n",
       "      <td>194.000000</td>\n",
       "      <td>194.000000</td>\n",
       "      <td>194.000000</td>\n",
       "      <td>194.000000</td>\n",
       "      <td>194.000000</td>\n",
       "      <td>194.000000</td>\n",
       "      <td>194.000000</td>\n",
       "      <td>194.000000</td>\n",
       "      <td>194.000000</td>\n",
       "      <td>194.000000</td>\n",
       "      <td>194.000000</td>\n",
       "      <td>194.000000</td>\n",
       "    </tr>\n",
       "    <tr>\n",
       "      <td>mean</td>\n",
       "      <td>0.549625</td>\n",
       "      <td>0.140813</td>\n",
       "      <td>0.718449</td>\n",
       "      <td>0.830600</td>\n",
       "      <td>0.753331</td>\n",
       "      <td>0.473693</td>\n",
       "      <td>0.116950</td>\n",
       "      <td>0.216925</td>\n",
       "      <td>0.263789</td>\n",
       "      <td>0.038917</td>\n",
       "      <td>0.511086</td>\n",
       "      <td>0.027044</td>\n",
       "    </tr>\n",
       "    <tr>\n",
       "      <td>std</td>\n",
       "      <td>0.194528</td>\n",
       "      <td>0.159768</td>\n",
       "      <td>0.314995</td>\n",
       "      <td>0.217698</td>\n",
       "      <td>0.228323</td>\n",
       "      <td>0.156411</td>\n",
       "      <td>0.140854</td>\n",
       "      <td>0.231736</td>\n",
       "      <td>0.220853</td>\n",
       "      <td>0.098593</td>\n",
       "      <td>0.218624</td>\n",
       "      <td>0.101406</td>\n",
       "    </tr>\n",
       "    <tr>\n",
       "      <td>min</td>\n",
       "      <td>0.000000</td>\n",
       "      <td>0.000000</td>\n",
       "      <td>0.000000</td>\n",
       "      <td>0.000000</td>\n",
       "      <td>0.000000</td>\n",
       "      <td>0.000000</td>\n",
       "      <td>0.000000</td>\n",
       "      <td>0.000000</td>\n",
       "      <td>0.000000</td>\n",
       "      <td>0.000000</td>\n",
       "      <td>0.000000</td>\n",
       "      <td>0.000000</td>\n",
       "    </tr>\n",
       "    <tr>\n",
       "      <td>25%</td>\n",
       "      <td>0.446821</td>\n",
       "      <td>0.022404</td>\n",
       "      <td>0.453562</td>\n",
       "      <td>0.726146</td>\n",
       "      <td>0.673025</td>\n",
       "      <td>0.375000</td>\n",
       "      <td>0.032539</td>\n",
       "      <td>0.044510</td>\n",
       "      <td>0.090909</td>\n",
       "      <td>0.001820</td>\n",
       "      <td>0.365079</td>\n",
       "      <td>0.001408</td>\n",
       "    </tr>\n",
       "    <tr>\n",
       "      <td>50%</td>\n",
       "      <td>0.549625</td>\n",
       "      <td>0.087345</td>\n",
       "      <td>0.869780</td>\n",
       "      <td>0.937423</td>\n",
       "      <td>0.753331</td>\n",
       "      <td>0.473693</td>\n",
       "      <td>0.083668</td>\n",
       "      <td>0.116469</td>\n",
       "      <td>0.194215</td>\n",
       "      <td>0.012489</td>\n",
       "      <td>0.511086</td>\n",
       "      <td>0.006017</td>\n",
       "    </tr>\n",
       "    <tr>\n",
       "      <td>75%</td>\n",
       "      <td>0.648486</td>\n",
       "      <td>0.196663</td>\n",
       "      <td>0.975248</td>\n",
       "      <td>0.991326</td>\n",
       "      <td>0.938086</td>\n",
       "      <td>0.551185</td>\n",
       "      <td>0.129928</td>\n",
       "      <td>0.348850</td>\n",
       "      <td>0.404545</td>\n",
       "      <td>0.038917</td>\n",
       "      <td>0.666667</td>\n",
       "      <td>0.019582</td>\n",
       "    </tr>\n",
       "    <tr>\n",
       "      <td>max</td>\n",
       "      <td>1.000000</td>\n",
       "      <td>1.000000</td>\n",
       "      <td>1.000000</td>\n",
       "      <td>1.000000</td>\n",
       "      <td>1.000000</td>\n",
       "      <td>1.000000</td>\n",
       "      <td>1.000000</td>\n",
       "      <td>1.000000</td>\n",
       "      <td>1.000000</td>\n",
       "      <td>1.000000</td>\n",
       "      <td>1.000000</td>\n",
       "      <td>1.000000</td>\n",
       "    </tr>\n",
       "  </tbody>\n",
       "</table>\n",
       "</div>"
      ],
      "text/plain": [
       "        Felicidad    Ingresos  Saneamiento        Agua  Alfabetización  \\\n",
       "count  194.000000  194.000000   194.000000  194.000000      194.000000   \n",
       "mean     0.549625    0.140813     0.718449    0.830600        0.753331   \n",
       "std      0.194528    0.159768     0.314995    0.217698        0.228323   \n",
       "min      0.000000    0.000000     0.000000    0.000000        0.000000   \n",
       "25%      0.446821    0.022404     0.453562    0.726146        0.673025   \n",
       "50%      0.549625    0.087345     0.869780    0.937423        0.753331   \n",
       "75%      0.648486    0.196663     0.975248    0.991326        0.938086   \n",
       "max      1.000000    1.000000     1.000000    1.000000        1.000000   \n",
       "\n",
       "       Desigualdad     Energía  Mortalidad_Infantil  Fertilidad         VIH  \\\n",
       "count   194.000000  194.000000           194.000000  194.000000  194.000000   \n",
       "mean      0.473693    0.116950             0.216925    0.263789    0.038917   \n",
       "std       0.156411    0.140854             0.231736    0.220853    0.098593   \n",
       "min       0.000000    0.000000             0.000000    0.000000    0.000000   \n",
       "25%       0.375000    0.032539             0.044510    0.090909    0.001820   \n",
       "50%       0.473693    0.083668             0.116469    0.194215    0.012489   \n",
       "75%       0.551185    0.129928             0.348850    0.404545    0.038917   \n",
       "max       1.000000    1.000000             1.000000    1.000000    1.000000   \n",
       "\n",
       "       Suministro_Alimentos  Población_Total  \n",
       "count            194.000000       194.000000  \n",
       "mean               0.511086         0.027044  \n",
       "std                0.218624         0.101406  \n",
       "min                0.000000         0.000000  \n",
       "25%                0.365079         0.001408  \n",
       "50%                0.511086         0.006017  \n",
       "75%                0.666667         0.019582  \n",
       "max                1.000000         1.000000  "
      ]
     },
     "execution_count": 23,
     "metadata": {},
     "output_type": "execute_result"
    }
   ],
   "source": [
    "X.describe()"
   ]
  },
  {
   "cell_type": "markdown",
   "metadata": {},
   "source": [
    "# 5. Modelos de Construcción\n",
    "Una vez que la data se ha procesado, el paso a seguir es elegir el algoritmo más adecuado en relación al caso a resolver.\n",
    "\n",
    "Utilicé los modelos de Decision tree y Logistic Regression para definir cual tiene un mejor rendimiento.\n",
    "\n",
    "Quero que ambos modelos tengan una oportunidad justa de triunfar. Así que tengo que presentar a ambos con un set de datos de prueba (test) y entrenamiento idénticos. Los generaré usando una semilla (seed) específica para obtener la misma muestra aleatoria cada vez que se ejecute éste código.\n",
    "\n",
    "En la presente etapa se llevaron a cabo los siguientes pasos:\n",
    "\n",
    "### Dividir en Conjuntos de Prueba y Entrenamiento\n",
    "Se dividieron los conjuntos X e Y en conjuntos de prueba y entrenamiento."
   ]
  },
  {
   "cell_type": "code",
   "execution_count": 24,
   "metadata": {},
   "outputs": [],
   "source": [
    "# Dividir en sets de entrenamiento y prueba\n",
    "\n",
    "test_size = 0.33\n",
    "seed = 1\n",
    "X_train, X_test, Y_train, Y_test =  train_test_split(X, y, test_size=test_size, random_state=seed)"
   ]
  },
  {
   "cell_type": "markdown",
   "metadata": {},
   "source": [
    "### Crear Múltiples Modelos, Ajustarlos y Comprobarlos\n",
    "Se construyeron y se ajustaron (fit) ambos modelos (Decision Tree y Logistic Regression) con los datos de entrenamiento.\n",
    "\n",
    "Primero, el modelo Decision Tree:"
   ]
  },
  {
   "cell_type": "code",
   "execution_count": 25,
   "metadata": {},
   "outputs": [
    {
     "data": {
      "text/plain": [
       "DecisionTreeClassifier(class_weight=None, criterion='gini', max_depth=None,\n",
       "                       max_features=None, max_leaf_nodes=None,\n",
       "                       min_impurity_decrease=0.0, min_impurity_split=None,\n",
       "                       min_samples_leaf=1, min_samples_split=2,\n",
       "                       min_weight_fraction_leaf=0.0, presort=False,\n",
       "                       random_state=None, splitter='best')"
      ]
     },
     "execution_count": 25,
     "metadata": {},
     "output_type": "execute_result"
    }
   ],
   "source": [
    "# Construir un modelo de Decision Tree\n",
    "\n",
    "model_dt = DecisionTreeClassifier()\n",
    "model_dt.fit(X_train, Y_train)"
   ]
  },
  {
   "cell_type": "markdown",
   "metadata": {},
   "source": [
    "Luego, el modelo Logistic Regression:"
   ]
  },
  {
   "cell_type": "code",
   "execution_count": 26,
   "metadata": {},
   "outputs": [
    {
     "data": {
      "text/plain": [
       "LogisticRegression(C=1.0, class_weight=None, dual=False, fit_intercept=True,\n",
       "                   intercept_scaling=1, l1_ratio=None, max_iter=100,\n",
       "                   multi_class='auto', n_jobs=None, penalty='l2',\n",
       "                   random_state=None, solver='lbfgs', tol=0.0001, verbose=0,\n",
       "                   warm_start=False)"
      ]
     },
     "execution_count": 26,
     "metadata": {},
     "output_type": "execute_result"
    }
   ],
   "source": [
    "# Construir un modelo de Logistic Regression\n",
    "\n",
    "model_lr = LogisticRegression(solver='lbfgs', multi_class='auto')\n",
    "model_lr.fit(X_train, Y_train)"
   ]
  },
  {
   "cell_type": "markdown",
   "metadata": {},
   "source": [
    "### Revisar los Modelos\n",
    "\n",
    "Se comprueba lo bien que los modelos funcionaron con los datos de entrenamiento en sí, y se calcula la puntuación de precisión (accuracy score) para cada modelo, la cual es solo una métrica para evaluar los modelos de clasificación. La puntuación de precisión es:\n",
    "\n",
    "Así mismo, se usan los datos de entrenamiento en ambos modelos para validar el rendimiento de los mismos."
   ]
  },
  {
   "cell_type": "code",
   "execution_count": 27,
   "metadata": {},
   "outputs": [
    {
     "name": "stdout",
     "output_type": "stream",
     "text": [
      "DecisionTreeClassifier 1.0\n"
     ]
    }
   ],
   "source": [
    "# Verificar el rendimiento del modelo con los datos de entrenamiento\n",
    "\n",
    "predictions_dt = model_dt.predict(X_train)\n",
    "print(\"DecisionTreeClassifier\", accuracy_score(Y_train, predictions_dt))"
   ]
  },
  {
   "cell_type": "code",
   "execution_count": 28,
   "metadata": {},
   "outputs": [
    {
     "name": "stdout",
     "output_type": "stream",
     "text": [
      "LogisticRegression 0.8217054263565892\n"
     ]
    }
   ],
   "source": [
    "# Comprobar el rendimiento del modelo Logistic Regression con los datos de entrenamiento\n",
    "\n",
    "predictions_lr = model_lr.predict(X_train)\n",
    "print(\"LogisticRegression\", accuracy_score(Y_train, predictions_lr))"
   ]
  },
  {
   "cell_type": "markdown",
   "metadata": {},
   "source": [
    "# 6. Evaluar los Modelos\n",
    "Al revisar los modelos se identifica que la puntuación de precisión (accuracy score) de cada modelo de predicción con los datos de entrenamiento está por debajo de cada bloque. Basado en los datos de entrenamiento, el modelo Decision Tree ha hecho un gran trabajo consiguiendo el 100% de las clasificaciones correctas, sin embargo, no puedo confiar en las pruebas con los datos de entrenamiento. Por lo tanto, es necesario evaluar los modelos utilizando los datos definidos en el set de pruebas."
   ]
  },
  {
   "cell_type": "code",
   "execution_count": 29,
   "metadata": {},
   "outputs": [
    {
     "name": "stdout",
     "output_type": "stream",
     "text": [
      "DecisionTreeClassifier 0.6615384615384615\n"
     ]
    }
   ],
   "source": [
    "# Evaluar el modelo de Decision Tree\n",
    "\n",
    "predictions_dt = model_dt.predict(X_test)\n",
    "print(\"DecisionTreeClassifier\", accuracy_score(Y_test, predictions_dt))"
   ]
  },
  {
   "cell_type": "code",
   "execution_count": 30,
   "metadata": {},
   "outputs": [
    {
     "name": "stdout",
     "output_type": "stream",
     "text": [
      "LogisticRegression 0.7230769230769231\n"
     ]
    }
   ],
   "source": [
    "# Evaludar el modelo de Logistic Regression\n",
    "\n",
    "predictions_lr = model_lr.predict(X_test)\n",
    "print(\"LogisticRegression\", accuracy_score(Y_test, predictions_lr))"
   ]
  },
  {
   "cell_type": "markdown",
   "metadata": {},
   "source": [
    "Los resultados han cambiado.  El modelo Logistic Regression muestra una mejor puntuación de precisión al evaluarlos con los datos de la prueba, a pesar que el modelo Decision Tree se desempeñó mejor con los datos de entrenamiento.\n",
    "\n",
    "El modelo Decision Tree tiende a sufrir éste problema, funciona bien en los datos de entrenamiento, pero rinden mal en los datos de la prueba. "
   ]
  },
  {
   "cell_type": "markdown",
   "metadata": {},
   "source": [
    "### Elegir el Modelo con Mejor Rendimiento\n",
    "El modelo logistic regression es el modelo elegido ya que fue el que tuvo mejor rendimiento."
   ]
  },
  {
   "cell_type": "code",
   "execution_count": 31,
   "metadata": {},
   "outputs": [],
   "source": [
    "model = model_lr"
   ]
  },
  {
   "cell_type": "markdown",
   "metadata": {},
   "source": [
    "# 7.\tFinalizar e Implementar\n",
    "Para tener una mejor comprensión los modelos se deben ver con más detalle. Los modelos Decision Tree y Logistic Regression utilizan formas muy diferentes para construiros, así que, cuando se visualizan de forma más detallada salen a relucir valores muy diferentes.\n",
    "\n",
    "## Inspeccionar los Modelos\n",
    "\n",
    "### Decision Tree\n",
    "Aquí está el modelo Decision Tree creado para el presente proyecto. Admire la complejidad por un momento.\n",
    "\n",
    "Para ejecutar el siguiente código, es se instaló graphviz.  La función viewDecisionTree() se puede encontrar en el archivo “functions.py”."
   ]
  },
  {
   "cell_type": "code",
   "execution_count": 32,
   "metadata": {},
   "outputs": [
    {
     "data": {
      "image/svg+xml": [
       "<?xml version=\"1.0\" encoding=\"UTF-8\" standalone=\"no\"?>\r\n",
       "<!DOCTYPE svg PUBLIC \"-//W3C//DTD SVG 1.1//EN\"\r\n",
       " \"http://www.w3.org/Graphics/SVG/1.1/DTD/svg11.dtd\">\r\n",
       "<!-- Generated by graphviz version 2.38.0 (20140413.2041)\r\n",
       " -->\r\n",
       "<!-- Title: Tree Pages: 1 -->\r\n",
       "<svg width=\"1488pt\" height=\"1028pt\"\r\n",
       " viewBox=\"0.00 0.00 1488.00 1028.00\" xmlns=\"http://www.w3.org/2000/svg\" xmlns:xlink=\"http://www.w3.org/1999/xlink\">\r\n",
       "<g id=\"graph0\" class=\"graph\" transform=\"scale(1 1) rotate(0) translate(4 1024)\">\r\n",
       "<title>Tree</title>\r\n",
       "<polygon fill=\"white\" stroke=\"none\" points=\"-4,4 -4,-1024 1484,-1024 1484,4 -4,4\"/>\r\n",
       "<!-- 0 -->\r\n",
       "<g id=\"node1\" class=\"node\"><title>0</title>\r\n",
       "<path fill=\"#effdf5\" stroke=\"black\" d=\"M662.5,-1020C662.5,-1020 534.5,-1020 534.5,-1020 528.5,-1020 522.5,-1014 522.5,-1008 522.5,-1008 522.5,-949 522.5,-949 522.5,-943 528.5,-937 534.5,-937 534.5,-937 662.5,-937 662.5,-937 668.5,-937 674.5,-943 674.5,-949 674.5,-949 674.5,-1008 674.5,-1008 674.5,-1014 668.5,-1020 662.5,-1020\"/>\r\n",
       "<text text-anchor=\"start\" x=\"530.5\" y=\"-1004.8\" font-family=\"Helvetica,sans-Serif\" font-size=\"14.00\">Saneamiento ≤ 0.728</text>\r\n",
       "<text text-anchor=\"start\" x=\"561\" y=\"-989.8\" font-family=\"Helvetica,sans-Serif\" font-size=\"14.00\">gini = 0.663</text>\r\n",
       "<text text-anchor=\"start\" x=\"551\" y=\"-974.8\" font-family=\"Helvetica,sans-Serif\" font-size=\"14.00\">samples = 129</text>\r\n",
       "<text text-anchor=\"start\" x=\"538\" y=\"-959.8\" font-family=\"Helvetica,sans-Serif\" font-size=\"14.00\">value = [38, 49, 42]</text>\r\n",
       "<text text-anchor=\"start\" x=\"560\" y=\"-944.8\" font-family=\"Helvetica,sans-Serif\" font-size=\"14.00\">class = Baja</text>\r\n",
       "</g>\r\n",
       "<!-- 1 -->\r\n",
       "<g id=\"node2\" class=\"node\"><title>1</title>\r\n",
       "<path fill=\"#53e891\" stroke=\"black\" d=\"M563,-901C563,-901 466,-901 466,-901 460,-901 454,-895 454,-889 454,-889 454,-830 454,-830 454,-824 460,-818 466,-818 466,-818 563,-818 563,-818 569,-818 575,-824 575,-830 575,-830 575,-889 575,-889 575,-895 569,-901 563,-901\"/>\r\n",
       "<text text-anchor=\"start\" x=\"472\" y=\"-885.8\" font-family=\"Helvetica,sans-Serif\" font-size=\"14.00\">Agua ≤ 0.897</text>\r\n",
       "<text text-anchor=\"start\" x=\"477\" y=\"-870.8\" font-family=\"Helvetica,sans-Serif\" font-size=\"14.00\">gini = 0.204</text>\r\n",
       "<text text-anchor=\"start\" x=\"471\" y=\"-855.8\" font-family=\"Helvetica,sans-Serif\" font-size=\"14.00\">samples = 52</text>\r\n",
       "<text text-anchor=\"start\" x=\"462\" y=\"-840.8\" font-family=\"Helvetica,sans-Serif\" font-size=\"14.00\">value = [0, 46, 6]</text>\r\n",
       "<text text-anchor=\"start\" x=\"476\" y=\"-825.8\" font-family=\"Helvetica,sans-Serif\" font-size=\"14.00\">class = Baja</text>\r\n",
       "</g>\r\n",
       "<!-- 0&#45;&gt;1 -->\r\n",
       "<g id=\"edge1\" class=\"edge\"><title>0&#45;&gt;1</title>\r\n",
       "<path fill=\"none\" stroke=\"black\" d=\"M569.357,-936.907C562.971,-928.014 556.148,-918.509 549.558,-909.331\"/>\r\n",
       "<polygon fill=\"black\" stroke=\"black\" points=\"552.267,-907.103 543.592,-901.021 546.581,-911.185 552.267,-907.103\"/>\r\n",
       "<text text-anchor=\"middle\" x=\"539.542\" y=\"-921.991\" font-family=\"Helvetica,sans-Serif\" font-size=\"14.00\">True</text>\r\n",
       "</g>\r\n",
       "<!-- 10 -->\r\n",
       "<g id=\"node11\" class=\"node\"><title>10</title>\r\n",
       "<path fill=\"#fef9f5\" stroke=\"black\" d=\"M735,-901C735,-901 630,-901 630,-901 624,-901 618,-895 618,-889 618,-889 618,-830 618,-830 618,-824 624,-818 630,-818 630,-818 735,-818 735,-818 741,-818 747,-824 747,-830 747,-830 747,-889 747,-889 747,-895 741,-901 735,-901\"/>\r\n",
       "<text text-anchor=\"start\" x=\"627.5\" y=\"-885.8\" font-family=\"Helvetica,sans-Serif\" font-size=\"14.00\">Felicidad ≤ 0.744</text>\r\n",
       "<text text-anchor=\"start\" x=\"645\" y=\"-870.8\" font-family=\"Helvetica,sans-Serif\" font-size=\"14.00\">gini = 0.536</text>\r\n",
       "<text text-anchor=\"start\" x=\"639\" y=\"-855.8\" font-family=\"Helvetica,sans-Serif\" font-size=\"14.00\">samples = 77</text>\r\n",
       "<text text-anchor=\"start\" x=\"626\" y=\"-840.8\" font-family=\"Helvetica,sans-Serif\" font-size=\"14.00\">value = [38, 3, 36]</text>\r\n",
       "<text text-anchor=\"start\" x=\"646\" y=\"-825.8\" font-family=\"Helvetica,sans-Serif\" font-size=\"14.00\">class = Alta</text>\r\n",
       "</g>\r\n",
       "<!-- 0&#45;&gt;10 -->\r\n",
       "<g id=\"edge10\" class=\"edge\"><title>0&#45;&gt;10</title>\r\n",
       "<path fill=\"none\" stroke=\"black\" d=\"M627.643,-936.907C634.029,-928.014 640.852,-918.509 647.442,-909.331\"/>\r\n",
       "<polygon fill=\"black\" stroke=\"black\" points=\"650.419,-911.185 653.408,-901.021 644.733,-907.103 650.419,-911.185\"/>\r\n",
       "<text text-anchor=\"middle\" x=\"657.458\" y=\"-921.991\" font-family=\"Helvetica,sans-Serif\" font-size=\"14.00\">False</text>\r\n",
       "</g>\r\n",
       "<!-- 2 -->\r\n",
       "<g id=\"node3\" class=\"node\"><title>2</title>\r\n",
       "<path fill=\"#42e686\" stroke=\"black\" d=\"M418.5,-782C418.5,-782 294.5,-782 294.5,-782 288.5,-782 282.5,-776 282.5,-770 282.5,-770 282.5,-711 282.5,-711 282.5,-705 288.5,-699 294.5,-699 294.5,-699 418.5,-699 418.5,-699 424.5,-699 430.5,-705 430.5,-711 430.5,-711 430.5,-770 430.5,-770 430.5,-776 424.5,-782 418.5,-782\"/>\r\n",
       "<text text-anchor=\"start\" x=\"290.5\" y=\"-766.8\" font-family=\"Helvetica,sans-Serif\" font-size=\"14.00\">Desigualdad ≤ 0.319</text>\r\n",
       "<text text-anchor=\"start\" x=\"323\" y=\"-751.8\" font-family=\"Helvetica,sans-Serif\" font-size=\"14.00\">gini = 0.08</text>\r\n",
       "<text text-anchor=\"start\" x=\"313\" y=\"-736.8\" font-family=\"Helvetica,sans-Serif\" font-size=\"14.00\">samples = 48</text>\r\n",
       "<text text-anchor=\"start\" x=\"304\" y=\"-721.8\" font-family=\"Helvetica,sans-Serif\" font-size=\"14.00\">value = [0, 46, 2]</text>\r\n",
       "<text text-anchor=\"start\" x=\"318\" y=\"-706.8\" font-family=\"Helvetica,sans-Serif\" font-size=\"14.00\">class = Baja</text>\r\n",
       "</g>\r\n",
       "<!-- 1&#45;&gt;2 -->\r\n",
       "<g id=\"edge2\" class=\"edge\"><title>1&#45;&gt;2</title>\r\n",
       "<path fill=\"none\" stroke=\"black\" d=\"M459.683,-817.907C446.692,-808.288 432.736,-797.953 419.417,-788.09\"/>\r\n",
       "<polygon fill=\"black\" stroke=\"black\" points=\"421.34,-785.159 411.22,-782.021 417.174,-790.785 421.34,-785.159\"/>\r\n",
       "</g>\r\n",
       "<!-- 9 -->\r\n",
       "<g id=\"node10\" class=\"node\"><title>9</title>\r\n",
       "<path fill=\"#8139e5\" stroke=\"black\" d=\"M559,-774.5C559,-774.5 470,-774.5 470,-774.5 464,-774.5 458,-768.5 458,-762.5 458,-762.5 458,-718.5 458,-718.5 458,-712.5 464,-706.5 470,-706.5 470,-706.5 559,-706.5 559,-706.5 565,-706.5 571,-712.5 571,-718.5 571,-718.5 571,-762.5 571,-762.5 571,-768.5 565,-774.5 559,-774.5\"/>\r\n",
       "<text text-anchor=\"start\" x=\"485.5\" y=\"-759.3\" font-family=\"Helvetica,sans-Serif\" font-size=\"14.00\">gini = 0.0</text>\r\n",
       "<text text-anchor=\"start\" x=\"475\" y=\"-744.3\" font-family=\"Helvetica,sans-Serif\" font-size=\"14.00\">samples = 4</text>\r\n",
       "<text text-anchor=\"start\" x=\"466\" y=\"-729.3\" font-family=\"Helvetica,sans-Serif\" font-size=\"14.00\">value = [0, 0, 4]</text>\r\n",
       "<text text-anchor=\"start\" x=\"470.5\" y=\"-714.3\" font-family=\"Helvetica,sans-Serif\" font-size=\"14.00\">class = Media</text>\r\n",
       "</g>\r\n",
       "<!-- 1&#45;&gt;9 -->\r\n",
       "<g id=\"edge9\" class=\"edge\"><title>1&#45;&gt;9</title>\r\n",
       "<path fill=\"none\" stroke=\"black\" d=\"M514.5,-817.907C514.5,-807.204 514.5,-795.615 514.5,-784.776\"/>\r\n",
       "<polygon fill=\"black\" stroke=\"black\" points=\"518,-784.667 514.5,-774.667 511,-784.667 518,-784.667\"/>\r\n",
       "</g>\r\n",
       "<!-- 3 -->\r\n",
       "<g id=\"node4\" class=\"node\"><title>3</title>\r\n",
       "<path fill=\"#8139e5\" stroke=\"black\" d=\"M235,-655.5C235,-655.5 146,-655.5 146,-655.5 140,-655.5 134,-649.5 134,-643.5 134,-643.5 134,-599.5 134,-599.5 134,-593.5 140,-587.5 146,-587.5 146,-587.5 235,-587.5 235,-587.5 241,-587.5 247,-593.5 247,-599.5 247,-599.5 247,-643.5 247,-643.5 247,-649.5 241,-655.5 235,-655.5\"/>\r\n",
       "<text text-anchor=\"start\" x=\"161.5\" y=\"-640.3\" font-family=\"Helvetica,sans-Serif\" font-size=\"14.00\">gini = 0.0</text>\r\n",
       "<text text-anchor=\"start\" x=\"151\" y=\"-625.3\" font-family=\"Helvetica,sans-Serif\" font-size=\"14.00\">samples = 1</text>\r\n",
       "<text text-anchor=\"start\" x=\"142\" y=\"-610.3\" font-family=\"Helvetica,sans-Serif\" font-size=\"14.00\">value = [0, 0, 1]</text>\r\n",
       "<text text-anchor=\"start\" x=\"146.5\" y=\"-595.3\" font-family=\"Helvetica,sans-Serif\" font-size=\"14.00\">class = Media</text>\r\n",
       "</g>\r\n",
       "<!-- 2&#45;&gt;3 -->\r\n",
       "<g id=\"edge3\" class=\"edge\"><title>2&#45;&gt;3</title>\r\n",
       "<path fill=\"none\" stroke=\"black\" d=\"M298.907,-698.907C281.686,-686.769 262.849,-673.493 245.78,-661.462\"/>\r\n",
       "<polygon fill=\"black\" stroke=\"black\" points=\"247.748,-658.567 237.557,-655.667 243.715,-664.289 247.748,-658.567\"/>\r\n",
       "</g>\r\n",
       "<!-- 4 -->\r\n",
       "<g id=\"node5\" class=\"node\"><title>4</title>\r\n",
       "<path fill=\"#3de684\" stroke=\"black\" d=\"M436,-663C436,-663 277,-663 277,-663 271,-663 265,-657 265,-651 265,-651 265,-592 265,-592 265,-586 271,-580 277,-580 277,-580 436,-580 436,-580 442,-580 448,-586 448,-592 448,-592 448,-651 448,-651 448,-657 442,-663 436,-663\"/>\r\n",
       "<text text-anchor=\"start\" x=\"273\" y=\"-647.8\" font-family=\"Helvetica,sans-Serif\" font-size=\"14.00\">Mortalidad_Infantil ≤ 0.164</text>\r\n",
       "<text text-anchor=\"start\" x=\"319\" y=\"-632.8\" font-family=\"Helvetica,sans-Serif\" font-size=\"14.00\">gini = 0.042</text>\r\n",
       "<text text-anchor=\"start\" x=\"313\" y=\"-617.8\" font-family=\"Helvetica,sans-Serif\" font-size=\"14.00\">samples = 47</text>\r\n",
       "<text text-anchor=\"start\" x=\"304\" y=\"-602.8\" font-family=\"Helvetica,sans-Serif\" font-size=\"14.00\">value = [0, 46, 1]</text>\r\n",
       "<text text-anchor=\"start\" x=\"318\" y=\"-587.8\" font-family=\"Helvetica,sans-Serif\" font-size=\"14.00\">class = Baja</text>\r\n",
       "</g>\r\n",
       "<!-- 2&#45;&gt;4 -->\r\n",
       "<g id=\"edge4\" class=\"edge\"><title>2&#45;&gt;4</title>\r\n",
       "<path fill=\"none\" stroke=\"black\" d=\"M356.5,-698.907C356.5,-690.649 356.5,-681.864 356.5,-673.302\"/>\r\n",
       "<polygon fill=\"black\" stroke=\"black\" points=\"360,-673.021 356.5,-663.021 353,-673.021 360,-673.021\"/>\r\n",
       "</g>\r\n",
       "<!-- 5 -->\r\n",
       "<g id=\"node6\" class=\"node\"><title>5</title>\r\n",
       "<path fill=\"#ffffff\" stroke=\"black\" d=\"M232,-544C232,-544 143,-544 143,-544 137,-544 131,-538 131,-532 131,-532 131,-473 131,-473 131,-467 137,-461 143,-461 143,-461 232,-461 232,-461 238,-461 244,-467 244,-473 244,-473 244,-532 244,-532 244,-538 238,-544 232,-544\"/>\r\n",
       "<text text-anchor=\"start\" x=\"157.5\" y=\"-528.8\" font-family=\"Helvetica,sans-Serif\" font-size=\"14.00\">VIH ≤ 0.0</text>\r\n",
       "<text text-anchor=\"start\" x=\"158.5\" y=\"-513.8\" font-family=\"Helvetica,sans-Serif\" font-size=\"14.00\">gini = 0.5</text>\r\n",
       "<text text-anchor=\"start\" x=\"148\" y=\"-498.8\" font-family=\"Helvetica,sans-Serif\" font-size=\"14.00\">samples = 2</text>\r\n",
       "<text text-anchor=\"start\" x=\"139\" y=\"-483.8\" font-family=\"Helvetica,sans-Serif\" font-size=\"14.00\">value = [0, 1, 1]</text>\r\n",
       "<text text-anchor=\"start\" x=\"149\" y=\"-468.8\" font-family=\"Helvetica,sans-Serif\" font-size=\"14.00\">class = Baja</text>\r\n",
       "</g>\r\n",
       "<!-- 4&#45;&gt;5 -->\r\n",
       "<g id=\"edge5\" class=\"edge\"><title>4&#45;&gt;5</title>\r\n",
       "<path fill=\"none\" stroke=\"black\" d=\"M297.866,-579.907C283.146,-569.717 267.267,-558.723 252.266,-548.338\"/>\r\n",
       "<polygon fill=\"black\" stroke=\"black\" points=\"254.25,-545.455 244.036,-542.64 250.266,-551.21 254.25,-545.455\"/>\r\n",
       "</g>\r\n",
       "<!-- 8 -->\r\n",
       "<g id=\"node9\" class=\"node\"><title>8</title>\r\n",
       "<path fill=\"#39e581\" stroke=\"black\" d=\"M405,-536.5C405,-536.5 308,-536.5 308,-536.5 302,-536.5 296,-530.5 296,-524.5 296,-524.5 296,-480.5 296,-480.5 296,-474.5 302,-468.5 308,-468.5 308,-468.5 405,-468.5 405,-468.5 411,-468.5 417,-474.5 417,-480.5 417,-480.5 417,-524.5 417,-524.5 417,-530.5 411,-536.5 405,-536.5\"/>\r\n",
       "<text text-anchor=\"start\" x=\"327.5\" y=\"-521.3\" font-family=\"Helvetica,sans-Serif\" font-size=\"14.00\">gini = 0.0</text>\r\n",
       "<text text-anchor=\"start\" x=\"313\" y=\"-506.3\" font-family=\"Helvetica,sans-Serif\" font-size=\"14.00\">samples = 45</text>\r\n",
       "<text text-anchor=\"start\" x=\"304\" y=\"-491.3\" font-family=\"Helvetica,sans-Serif\" font-size=\"14.00\">value = [0, 45, 0]</text>\r\n",
       "<text text-anchor=\"start\" x=\"318\" y=\"-476.3\" font-family=\"Helvetica,sans-Serif\" font-size=\"14.00\">class = Baja</text>\r\n",
       "</g>\r\n",
       "<!-- 4&#45;&gt;8 -->\r\n",
       "<g id=\"edge8\" class=\"edge\"><title>4&#45;&gt;8</title>\r\n",
       "<path fill=\"none\" stroke=\"black\" d=\"M356.5,-579.907C356.5,-569.204 356.5,-557.615 356.5,-546.776\"/>\r\n",
       "<polygon fill=\"black\" stroke=\"black\" points=\"360,-546.667 356.5,-536.667 353,-546.667 360,-546.667\"/>\r\n",
       "</g>\r\n",
       "<!-- 6 -->\r\n",
       "<g id=\"node7\" class=\"node\"><title>6</title>\r\n",
       "<path fill=\"#39e581\" stroke=\"black\" d=\"M101,-417.5C101,-417.5 12,-417.5 12,-417.5 6,-417.5 0,-411.5 0,-405.5 0,-405.5 0,-361.5 0,-361.5 0,-355.5 6,-349.5 12,-349.5 12,-349.5 101,-349.5 101,-349.5 107,-349.5 113,-355.5 113,-361.5 113,-361.5 113,-405.5 113,-405.5 113,-411.5 107,-417.5 101,-417.5\"/>\r\n",
       "<text text-anchor=\"start\" x=\"27.5\" y=\"-402.3\" font-family=\"Helvetica,sans-Serif\" font-size=\"14.00\">gini = 0.0</text>\r\n",
       "<text text-anchor=\"start\" x=\"17\" y=\"-387.3\" font-family=\"Helvetica,sans-Serif\" font-size=\"14.00\">samples = 1</text>\r\n",
       "<text text-anchor=\"start\" x=\"8\" y=\"-372.3\" font-family=\"Helvetica,sans-Serif\" font-size=\"14.00\">value = [0, 1, 0]</text>\r\n",
       "<text text-anchor=\"start\" x=\"18\" y=\"-357.3\" font-family=\"Helvetica,sans-Serif\" font-size=\"14.00\">class = Baja</text>\r\n",
       "</g>\r\n",
       "<!-- 5&#45;&gt;6 -->\r\n",
       "<g id=\"edge6\" class=\"edge\"><title>5&#45;&gt;6</title>\r\n",
       "<path fill=\"none\" stroke=\"black\" d=\"M142.05,-460.907C128.83,-449.101 114.405,-436.217 101.23,-424.45\"/>\r\n",
       "<polygon fill=\"black\" stroke=\"black\" points=\"103.425,-421.718 93.6356,-417.667 98.7626,-426.939 103.425,-421.718\"/>\r\n",
       "</g>\r\n",
       "<!-- 7 -->\r\n",
       "<g id=\"node8\" class=\"node\"><title>7</title>\r\n",
       "<path fill=\"#8139e5\" stroke=\"black\" d=\"M232,-417.5C232,-417.5 143,-417.5 143,-417.5 137,-417.5 131,-411.5 131,-405.5 131,-405.5 131,-361.5 131,-361.5 131,-355.5 137,-349.5 143,-349.5 143,-349.5 232,-349.5 232,-349.5 238,-349.5 244,-355.5 244,-361.5 244,-361.5 244,-405.5 244,-405.5 244,-411.5 238,-417.5 232,-417.5\"/>\r\n",
       "<text text-anchor=\"start\" x=\"158.5\" y=\"-402.3\" font-family=\"Helvetica,sans-Serif\" font-size=\"14.00\">gini = 0.0</text>\r\n",
       "<text text-anchor=\"start\" x=\"148\" y=\"-387.3\" font-family=\"Helvetica,sans-Serif\" font-size=\"14.00\">samples = 1</text>\r\n",
       "<text text-anchor=\"start\" x=\"139\" y=\"-372.3\" font-family=\"Helvetica,sans-Serif\" font-size=\"14.00\">value = [0, 0, 1]</text>\r\n",
       "<text text-anchor=\"start\" x=\"143.5\" y=\"-357.3\" font-family=\"Helvetica,sans-Serif\" font-size=\"14.00\">class = Media</text>\r\n",
       "</g>\r\n",
       "<!-- 5&#45;&gt;7 -->\r\n",
       "<g id=\"edge7\" class=\"edge\"><title>5&#45;&gt;7</title>\r\n",
       "<path fill=\"none\" stroke=\"black\" d=\"M187.5,-460.907C187.5,-450.204 187.5,-438.615 187.5,-427.776\"/>\r\n",
       "<polygon fill=\"black\" stroke=\"black\" points=\"191,-427.667 187.5,-417.667 184,-427.667 191,-427.667\"/>\r\n",
       "</g>\r\n",
       "<!-- 11 -->\r\n",
       "<g id=\"node12\" class=\"node\"><title>11</title>\r\n",
       "<path fill=\"#c29ff2\" stroke=\"black\" d=\"M746.5,-782C746.5,-782 618.5,-782 618.5,-782 612.5,-782 606.5,-776 606.5,-770 606.5,-770 606.5,-711 606.5,-711 606.5,-705 612.5,-699 618.5,-699 618.5,-699 746.5,-699 746.5,-699 752.5,-699 758.5,-705 758.5,-711 758.5,-711 758.5,-770 758.5,-770 758.5,-776 752.5,-782 746.5,-782\"/>\r\n",
       "<text text-anchor=\"start\" x=\"614.5\" y=\"-766.8\" font-family=\"Helvetica,sans-Serif\" font-size=\"14.00\">Saneamiento ≤ 0.959</text>\r\n",
       "<text text-anchor=\"start\" x=\"645\" y=\"-751.8\" font-family=\"Helvetica,sans-Serif\" font-size=\"14.00\">gini = 0.492</text>\r\n",
       "<text text-anchor=\"start\" x=\"639\" y=\"-736.8\" font-family=\"Helvetica,sans-Serif\" font-size=\"14.00\">samples = 56</text>\r\n",
       "<text text-anchor=\"start\" x=\"626\" y=\"-721.8\" font-family=\"Helvetica,sans-Serif\" font-size=\"14.00\">value = [17, 3, 36]</text>\r\n",
       "<text text-anchor=\"start\" x=\"638.5\" y=\"-706.8\" font-family=\"Helvetica,sans-Serif\" font-size=\"14.00\">class = Media</text>\r\n",
       "</g>\r\n",
       "<!-- 10&#45;&gt;11 -->\r\n",
       "<g id=\"edge11\" class=\"edge\"><title>10&#45;&gt;11</title>\r\n",
       "<path fill=\"none\" stroke=\"black\" d=\"M682.5,-817.907C682.5,-809.649 682.5,-800.864 682.5,-792.302\"/>\r\n",
       "<polygon fill=\"black\" stroke=\"black\" points=\"686,-792.021 682.5,-782.021 679,-792.021 686,-792.021\"/>\r\n",
       "</g>\r\n",
       "<!-- 38 -->\r\n",
       "<g id=\"node39\" class=\"node\"><title>38</title>\r\n",
       "<path fill=\"#e58139\" stroke=\"black\" d=\"M886,-774.5C886,-774.5 789,-774.5 789,-774.5 783,-774.5 777,-768.5 777,-762.5 777,-762.5 777,-718.5 777,-718.5 777,-712.5 783,-706.5 789,-706.5 789,-706.5 886,-706.5 886,-706.5 892,-706.5 898,-712.5 898,-718.5 898,-718.5 898,-762.5 898,-762.5 898,-768.5 892,-774.5 886,-774.5\"/>\r\n",
       "<text text-anchor=\"start\" x=\"808.5\" y=\"-759.3\" font-family=\"Helvetica,sans-Serif\" font-size=\"14.00\">gini = 0.0</text>\r\n",
       "<text text-anchor=\"start\" x=\"794\" y=\"-744.3\" font-family=\"Helvetica,sans-Serif\" font-size=\"14.00\">samples = 21</text>\r\n",
       "<text text-anchor=\"start\" x=\"785\" y=\"-729.3\" font-family=\"Helvetica,sans-Serif\" font-size=\"14.00\">value = [21, 0, 0]</text>\r\n",
       "<text text-anchor=\"start\" x=\"801\" y=\"-714.3\" font-family=\"Helvetica,sans-Serif\" font-size=\"14.00\">class = Alta</text>\r\n",
       "</g>\r\n",
       "<!-- 10&#45;&gt;38 -->\r\n",
       "<g id=\"edge38\" class=\"edge\"><title>10&#45;&gt;38</title>\r\n",
       "<path fill=\"none\" stroke=\"black\" d=\"M736.276,-817.907C752.21,-805.88 769.625,-792.735 785.448,-780.791\"/>\r\n",
       "<polygon fill=\"black\" stroke=\"black\" points=\"787.688,-783.485 793.561,-774.667 783.471,-777.898 787.688,-783.485\"/>\r\n",
       "</g>\r\n",
       "<!-- 12 -->\r\n",
       "<g id=\"node13\" class=\"node\"><title>12</title>\r\n",
       "<path fill=\"#9a61ea\" stroke=\"black\" d=\"M762,-663C762,-663 603,-663 603,-663 597,-663 591,-657 591,-651 591,-651 591,-592 591,-592 591,-586 597,-580 603,-580 603,-580 762,-580 762,-580 768,-580 774,-586 774,-592 774,-592 774,-651 774,-651 774,-657 768,-663 762,-663\"/>\r\n",
       "<text text-anchor=\"start\" x=\"599\" y=\"-647.8\" font-family=\"Helvetica,sans-Serif\" font-size=\"14.00\">Mortalidad_Infantil ≤ 0.142</text>\r\n",
       "<text text-anchor=\"start\" x=\"645\" y=\"-632.8\" font-family=\"Helvetica,sans-Serif\" font-size=\"14.00\">gini = 0.314</text>\r\n",
       "<text text-anchor=\"start\" x=\"639\" y=\"-617.8\" font-family=\"Helvetica,sans-Serif\" font-size=\"14.00\">samples = 33</text>\r\n",
       "<text text-anchor=\"start\" x=\"630\" y=\"-602.8\" font-family=\"Helvetica,sans-Serif\" font-size=\"14.00\">value = [3, 3, 27]</text>\r\n",
       "<text text-anchor=\"start\" x=\"638.5\" y=\"-587.8\" font-family=\"Helvetica,sans-Serif\" font-size=\"14.00\">class = Media</text>\r\n",
       "</g>\r\n",
       "<!-- 11&#45;&gt;12 -->\r\n",
       "<g id=\"edge12\" class=\"edge\"><title>11&#45;&gt;12</title>\r\n",
       "<path fill=\"none\" stroke=\"black\" d=\"M682.5,-698.907C682.5,-690.649 682.5,-681.864 682.5,-673.302\"/>\r\n",
       "<polygon fill=\"black\" stroke=\"black\" points=\"686,-673.021 682.5,-663.021 679,-673.021 686,-673.021\"/>\r\n",
       "</g>\r\n",
       "<!-- 27 -->\r\n",
       "<g id=\"node28\" class=\"node\"><title>27</title>\r\n",
       "<path fill=\"#f6d2b8\" stroke=\"black\" d=\"M1058,-663C1058,-663 955,-663 955,-663 949,-663 943,-657 943,-651 943,-651 943,-592 943,-592 943,-586 949,-580 955,-580 955,-580 1058,-580 1058,-580 1064,-580 1070,-586 1070,-592 1070,-592 1070,-651 1070,-651 1070,-657 1064,-663 1058,-663\"/>\r\n",
       "<text text-anchor=\"start\" x=\"951\" y=\"-647.8\" font-family=\"Helvetica,sans-Serif\" font-size=\"14.00\">Fertilidad ≤ 0.135</text>\r\n",
       "<text text-anchor=\"start\" x=\"969\" y=\"-632.8\" font-family=\"Helvetica,sans-Serif\" font-size=\"14.00\">gini = 0.476</text>\r\n",
       "<text text-anchor=\"start\" x=\"963\" y=\"-617.8\" font-family=\"Helvetica,sans-Serif\" font-size=\"14.00\">samples = 23</text>\r\n",
       "<text text-anchor=\"start\" x=\"954\" y=\"-602.8\" font-family=\"Helvetica,sans-Serif\" font-size=\"14.00\">value = [14, 0, 9]</text>\r\n",
       "<text text-anchor=\"start\" x=\"970\" y=\"-587.8\" font-family=\"Helvetica,sans-Serif\" font-size=\"14.00\">class = Alta</text>\r\n",
       "</g>\r\n",
       "<!-- 11&#45;&gt;27 -->\r\n",
       "<g id=\"edge27\" class=\"edge\"><title>11&#45;&gt;27</title>\r\n",
       "<path fill=\"none\" stroke=\"black\" d=\"M758.708,-702.986C762.002,-701.606 765.276,-700.271 768.5,-699 822.8,-677.591 885.731,-657.564 933.239,-643.375\"/>\r\n",
       "<polygon fill=\"black\" stroke=\"black\" points=\"934.24,-646.728 942.83,-640.527 932.248,-640.018 934.24,-646.728\"/>\r\n",
       "</g>\r\n",
       "<!-- 13 -->\r\n",
       "<g id=\"node14\" class=\"node\"><title>13</title>\r\n",
       "<path fill=\"#8642e6\" stroke=\"black\" d=\"M605,-544C605,-544 472,-544 472,-544 466,-544 460,-538 460,-532 460,-532 460,-473 460,-473 460,-467 466,-461 472,-461 472,-461 605,-461 605,-461 611,-461 617,-467 617,-473 617,-473 617,-532 617,-532 617,-538 611,-544 605,-544\"/>\r\n",
       "<text text-anchor=\"start\" x=\"468\" y=\"-528.8\" font-family=\"Helvetica,sans-Serif\" font-size=\"14.00\">Alfabetización ≤ 0.737</text>\r\n",
       "<text text-anchor=\"start\" x=\"505\" y=\"-513.8\" font-family=\"Helvetica,sans-Serif\" font-size=\"14.00\">gini = 0.08</text>\r\n",
       "<text text-anchor=\"start\" x=\"495\" y=\"-498.8\" font-family=\"Helvetica,sans-Serif\" font-size=\"14.00\">samples = 24</text>\r\n",
       "<text text-anchor=\"start\" x=\"486\" y=\"-483.8\" font-family=\"Helvetica,sans-Serif\" font-size=\"14.00\">value = [1, 0, 23]</text>\r\n",
       "<text text-anchor=\"start\" x=\"494.5\" y=\"-468.8\" font-family=\"Helvetica,sans-Serif\" font-size=\"14.00\">class = Media</text>\r\n",
       "</g>\r\n",
       "<!-- 12&#45;&gt;13 -->\r\n",
       "<g id=\"edge13\" class=\"edge\"><title>12&#45;&gt;13</title>\r\n",
       "<path fill=\"none\" stroke=\"black\" d=\"M632.54,-579.907C620.812,-570.379 608.221,-560.148 596.186,-550.37\"/>\r\n",
       "<polygon fill=\"black\" stroke=\"black\" points=\"598.34,-547.61 588.372,-544.021 593.926,-553.043 598.34,-547.61\"/>\r\n",
       "</g>\r\n",
       "<!-- 18 -->\r\n",
       "<g id=\"node19\" class=\"node\"><title>18</title>\r\n",
       "<path fill=\"#eadefb\" stroke=\"black\" d=\"M736,-544C736,-544 647,-544 647,-544 641,-544 635,-538 635,-532 635,-532 635,-473 635,-473 635,-467 641,-461 647,-461 647,-461 736,-461 736,-461 742,-461 748,-467 748,-473 748,-473 748,-532 748,-532 748,-538 742,-544 736,-544\"/>\r\n",
       "<text text-anchor=\"start\" x=\"649\" y=\"-528.8\" font-family=\"Helvetica,sans-Serif\" font-size=\"14.00\">Agua ≤ 0.817</text>\r\n",
       "<text text-anchor=\"start\" x=\"654\" y=\"-513.8\" font-family=\"Helvetica,sans-Serif\" font-size=\"14.00\">gini = 0.642</text>\r\n",
       "<text text-anchor=\"start\" x=\"652\" y=\"-498.8\" font-family=\"Helvetica,sans-Serif\" font-size=\"14.00\">samples = 9</text>\r\n",
       "<text text-anchor=\"start\" x=\"643\" y=\"-483.8\" font-family=\"Helvetica,sans-Serif\" font-size=\"14.00\">value = [2, 3, 4]</text>\r\n",
       "<text text-anchor=\"start\" x=\"647.5\" y=\"-468.8\" font-family=\"Helvetica,sans-Serif\" font-size=\"14.00\">class = Media</text>\r\n",
       "</g>\r\n",
       "<!-- 12&#45;&gt;18 -->\r\n",
       "<g id=\"edge18\" class=\"edge\"><title>12&#45;&gt;18</title>\r\n",
       "<path fill=\"none\" stroke=\"black\" d=\"M685.623,-579.907C686.265,-571.558 686.948,-562.671 687.614,-554.02\"/>\r\n",
       "<polygon fill=\"black\" stroke=\"black\" points=\"691.106,-554.26 688.383,-544.021 684.126,-553.723 691.106,-554.26\"/>\r\n",
       "</g>\r\n",
       "<!-- 14 -->\r\n",
       "<g id=\"node15\" class=\"node\"><title>14</title>\r\n",
       "<path fill=\"#ffffff\" stroke=\"black\" d=\"M456.5,-425C456.5,-425 274.5,-425 274.5,-425 268.5,-425 262.5,-419 262.5,-413 262.5,-413 262.5,-354 262.5,-354 262.5,-348 268.5,-342 274.5,-342 274.5,-342 456.5,-342 456.5,-342 462.5,-342 468.5,-348 468.5,-354 468.5,-354 468.5,-413 468.5,-413 468.5,-419 462.5,-425 456.5,-425\"/>\r\n",
       "<text text-anchor=\"start\" x=\"270.5\" y=\"-409.8\" font-family=\"Helvetica,sans-Serif\" font-size=\"14.00\">Suministro_Alimentos ≤ 0.619</text>\r\n",
       "<text text-anchor=\"start\" x=\"336.5\" y=\"-394.8\" font-family=\"Helvetica,sans-Serif\" font-size=\"14.00\">gini = 0.5</text>\r\n",
       "<text text-anchor=\"start\" x=\"326\" y=\"-379.8\" font-family=\"Helvetica,sans-Serif\" font-size=\"14.00\">samples = 2</text>\r\n",
       "<text text-anchor=\"start\" x=\"317\" y=\"-364.8\" font-family=\"Helvetica,sans-Serif\" font-size=\"14.00\">value = [1, 0, 1]</text>\r\n",
       "<text text-anchor=\"start\" x=\"329\" y=\"-349.8\" font-family=\"Helvetica,sans-Serif\" font-size=\"14.00\">class = Alta</text>\r\n",
       "</g>\r\n",
       "<!-- 13&#45;&gt;14 -->\r\n",
       "<g id=\"edge14\" class=\"edge\"><title>13&#45;&gt;14</title>\r\n",
       "<path fill=\"none\" stroke=\"black\" d=\"M478.479,-460.907C464.12,-451.197 448.685,-440.758 433.977,-430.811\"/>\r\n",
       "<polygon fill=\"black\" stroke=\"black\" points=\"435.66,-427.724 425.415,-425.021 431.738,-433.522 435.66,-427.724\"/>\r\n",
       "</g>\r\n",
       "<!-- 17 -->\r\n",
       "<g id=\"node18\" class=\"node\"><title>17</title>\r\n",
       "<path fill=\"#8139e5\" stroke=\"black\" d=\"M596,-417.5C596,-417.5 499,-417.5 499,-417.5 493,-417.5 487,-411.5 487,-405.5 487,-405.5 487,-361.5 487,-361.5 487,-355.5 493,-349.5 499,-349.5 499,-349.5 596,-349.5 596,-349.5 602,-349.5 608,-355.5 608,-361.5 608,-361.5 608,-405.5 608,-405.5 608,-411.5 602,-417.5 596,-417.5\"/>\r\n",
       "<text text-anchor=\"start\" x=\"518.5\" y=\"-402.3\" font-family=\"Helvetica,sans-Serif\" font-size=\"14.00\">gini = 0.0</text>\r\n",
       "<text text-anchor=\"start\" x=\"504\" y=\"-387.3\" font-family=\"Helvetica,sans-Serif\" font-size=\"14.00\">samples = 22</text>\r\n",
       "<text text-anchor=\"start\" x=\"495\" y=\"-372.3\" font-family=\"Helvetica,sans-Serif\" font-size=\"14.00\">value = [0, 0, 22]</text>\r\n",
       "<text text-anchor=\"start\" x=\"503.5\" y=\"-357.3\" font-family=\"Helvetica,sans-Serif\" font-size=\"14.00\">class = Media</text>\r\n",
       "</g>\r\n",
       "<!-- 13&#45;&gt;17 -->\r\n",
       "<g id=\"edge17\" class=\"edge\"><title>13&#45;&gt;17</title>\r\n",
       "<path fill=\"none\" stroke=\"black\" d=\"M541.623,-460.907C542.446,-450.204 543.337,-438.615 544.171,-427.776\"/>\r\n",
       "<polygon fill=\"black\" stroke=\"black\" points=\"547.671,-427.906 544.949,-417.667 540.692,-427.369 547.671,-427.906\"/>\r\n",
       "</g>\r\n",
       "<!-- 15 -->\r\n",
       "<g id=\"node16\" class=\"node\"><title>15</title>\r\n",
       "<path fill=\"#8139e5\" stroke=\"black\" d=\"M344,-298.5C344,-298.5 255,-298.5 255,-298.5 249,-298.5 243,-292.5 243,-286.5 243,-286.5 243,-242.5 243,-242.5 243,-236.5 249,-230.5 255,-230.5 255,-230.5 344,-230.5 344,-230.5 350,-230.5 356,-236.5 356,-242.5 356,-242.5 356,-286.5 356,-286.5 356,-292.5 350,-298.5 344,-298.5\"/>\r\n",
       "<text text-anchor=\"start\" x=\"270.5\" y=\"-283.3\" font-family=\"Helvetica,sans-Serif\" font-size=\"14.00\">gini = 0.0</text>\r\n",
       "<text text-anchor=\"start\" x=\"260\" y=\"-268.3\" font-family=\"Helvetica,sans-Serif\" font-size=\"14.00\">samples = 1</text>\r\n",
       "<text text-anchor=\"start\" x=\"251\" y=\"-253.3\" font-family=\"Helvetica,sans-Serif\" font-size=\"14.00\">value = [0, 0, 1]</text>\r\n",
       "<text text-anchor=\"start\" x=\"255.5\" y=\"-238.3\" font-family=\"Helvetica,sans-Serif\" font-size=\"14.00\">class = Media</text>\r\n",
       "</g>\r\n",
       "<!-- 14&#45;&gt;15 -->\r\n",
       "<g id=\"edge15\" class=\"edge\"><title>14&#45;&gt;15</title>\r\n",
       "<path fill=\"none\" stroke=\"black\" d=\"M342.602,-341.907C336.315,-330.763 329.487,-318.658 323.158,-307.439\"/>\r\n",
       "<polygon fill=\"black\" stroke=\"black\" points=\"326.171,-305.657 318.21,-298.667 320.074,-309.096 326.171,-305.657\"/>\r\n",
       "</g>\r\n",
       "<!-- 16 -->\r\n",
       "<g id=\"node17\" class=\"node\"><title>16</title>\r\n",
       "<path fill=\"#e58139\" stroke=\"black\" d=\"M475,-298.5C475,-298.5 386,-298.5 386,-298.5 380,-298.5 374,-292.5 374,-286.5 374,-286.5 374,-242.5 374,-242.5 374,-236.5 380,-230.5 386,-230.5 386,-230.5 475,-230.5 475,-230.5 481,-230.5 487,-236.5 487,-242.5 487,-242.5 487,-286.5 487,-286.5 487,-292.5 481,-298.5 475,-298.5\"/>\r\n",
       "<text text-anchor=\"start\" x=\"401.5\" y=\"-283.3\" font-family=\"Helvetica,sans-Serif\" font-size=\"14.00\">gini = 0.0</text>\r\n",
       "<text text-anchor=\"start\" x=\"391\" y=\"-268.3\" font-family=\"Helvetica,sans-Serif\" font-size=\"14.00\">samples = 1</text>\r\n",
       "<text text-anchor=\"start\" x=\"382\" y=\"-253.3\" font-family=\"Helvetica,sans-Serif\" font-size=\"14.00\">value = [1, 0, 0]</text>\r\n",
       "<text text-anchor=\"start\" x=\"394\" y=\"-238.3\" font-family=\"Helvetica,sans-Serif\" font-size=\"14.00\">class = Alta</text>\r\n",
       "</g>\r\n",
       "<!-- 14&#45;&gt;16 -->\r\n",
       "<g id=\"edge16\" class=\"edge\"><title>14&#45;&gt;16</title>\r\n",
       "<path fill=\"none\" stroke=\"black\" d=\"M388.051,-341.907C394.243,-330.763 400.968,-318.658 407.2,-307.439\"/>\r\n",
       "<polygon fill=\"black\" stroke=\"black\" points=\"410.277,-309.108 412.074,-298.667 404.158,-305.709 410.277,-309.108\"/>\r\n",
       "</g>\r\n",
       "<!-- 19 -->\r\n",
       "<g id=\"node20\" class=\"node\"><title>19</title>\r\n",
       "<path fill=\"#8139e5\" stroke=\"black\" d=\"M727,-417.5C727,-417.5 638,-417.5 638,-417.5 632,-417.5 626,-411.5 626,-405.5 626,-405.5 626,-361.5 626,-361.5 626,-355.5 632,-349.5 638,-349.5 638,-349.5 727,-349.5 727,-349.5 733,-349.5 739,-355.5 739,-361.5 739,-361.5 739,-405.5 739,-405.5 739,-411.5 733,-417.5 727,-417.5\"/>\r\n",
       "<text text-anchor=\"start\" x=\"653.5\" y=\"-402.3\" font-family=\"Helvetica,sans-Serif\" font-size=\"14.00\">gini = 0.0</text>\r\n",
       "<text text-anchor=\"start\" x=\"643\" y=\"-387.3\" font-family=\"Helvetica,sans-Serif\" font-size=\"14.00\">samples = 3</text>\r\n",
       "<text text-anchor=\"start\" x=\"634\" y=\"-372.3\" font-family=\"Helvetica,sans-Serif\" font-size=\"14.00\">value = [0, 0, 3]</text>\r\n",
       "<text text-anchor=\"start\" x=\"638.5\" y=\"-357.3\" font-family=\"Helvetica,sans-Serif\" font-size=\"14.00\">class = Media</text>\r\n",
       "</g>\r\n",
       "<!-- 18&#45;&gt;19 -->\r\n",
       "<g id=\"edge19\" class=\"edge\"><title>18&#45;&gt;19</title>\r\n",
       "<path fill=\"none\" stroke=\"black\" d=\"M688.377,-460.907C687.554,-450.204 686.663,-438.615 685.829,-427.776\"/>\r\n",
       "<polygon fill=\"black\" stroke=\"black\" points=\"689.308,-427.369 685.051,-417.667 682.329,-427.906 689.308,-427.369\"/>\r\n",
       "</g>\r\n",
       "<!-- 20 -->\r\n",
       "<g id=\"node21\" class=\"node\"><title>20</title>\r\n",
       "<path fill=\"#cef8e0\" stroke=\"black\" d=\"M858,-425C858,-425 769,-425 769,-425 763,-425 757,-419 757,-413 757,-413 757,-354 757,-354 757,-348 763,-342 769,-342 769,-342 858,-342 858,-342 864,-342 870,-348 870,-354 870,-354 870,-413 870,-413 870,-419 864,-425 858,-425\"/>\r\n",
       "<text text-anchor=\"start\" x=\"771\" y=\"-409.8\" font-family=\"Helvetica,sans-Serif\" font-size=\"14.00\">Agua ≤ 0.965</text>\r\n",
       "<text text-anchor=\"start\" x=\"776\" y=\"-394.8\" font-family=\"Helvetica,sans-Serif\" font-size=\"14.00\">gini = 0.611</text>\r\n",
       "<text text-anchor=\"start\" x=\"774\" y=\"-379.8\" font-family=\"Helvetica,sans-Serif\" font-size=\"14.00\">samples = 6</text>\r\n",
       "<text text-anchor=\"start\" x=\"765\" y=\"-364.8\" font-family=\"Helvetica,sans-Serif\" font-size=\"14.00\">value = [2, 3, 1]</text>\r\n",
       "<text text-anchor=\"start\" x=\"775\" y=\"-349.8\" font-family=\"Helvetica,sans-Serif\" font-size=\"14.00\">class = Baja</text>\r\n",
       "</g>\r\n",
       "<!-- 18&#45;&gt;20 -->\r\n",
       "<g id=\"edge20\" class=\"edge\"><title>18&#45;&gt;20</title>\r\n",
       "<path fill=\"none\" stroke=\"black\" d=\"M733.827,-460.907C743.479,-451.651 753.822,-441.732 763.752,-432.209\"/>\r\n",
       "<polygon fill=\"black\" stroke=\"black\" points=\"766.453,-434.469 771.248,-425.021 761.608,-429.416 766.453,-434.469\"/>\r\n",
       "</g>\r\n",
       "<!-- 21 -->\r\n",
       "<g id=\"node22\" class=\"node\"><title>21</title>\r\n",
       "<path fill=\"#bdf6d5\" stroke=\"black\" d=\"M727,-306C727,-306 632,-306 632,-306 626,-306 620,-300 620,-294 620,-294 620,-235 620,-235 620,-229 626,-223 632,-223 632,-223 727,-223 727,-223 733,-223 739,-229 739,-235 739,-235 739,-294 739,-294 739,-300 733,-306 727,-306\"/>\r\n",
       "<text text-anchor=\"start\" x=\"628\" y=\"-290.8\" font-family=\"Helvetica,sans-Serif\" font-size=\"14.00\">Energía ≤ 0.041</text>\r\n",
       "<text text-anchor=\"start\" x=\"646\" y=\"-275.8\" font-family=\"Helvetica,sans-Serif\" font-size=\"14.00\">gini = 0.48</text>\r\n",
       "<text text-anchor=\"start\" x=\"640\" y=\"-260.8\" font-family=\"Helvetica,sans-Serif\" font-size=\"14.00\">samples = 5</text>\r\n",
       "<text text-anchor=\"start\" x=\"631\" y=\"-245.8\" font-family=\"Helvetica,sans-Serif\" font-size=\"14.00\">value = [2, 3, 0]</text>\r\n",
       "<text text-anchor=\"start\" x=\"641\" y=\"-230.8\" font-family=\"Helvetica,sans-Serif\" font-size=\"14.00\">class = Baja</text>\r\n",
       "</g>\r\n",
       "<!-- 20&#45;&gt;21 -->\r\n",
       "<g id=\"edge21\" class=\"edge\"><title>20&#45;&gt;21</title>\r\n",
       "<path fill=\"none\" stroke=\"black\" d=\"M767.009,-341.907C756.2,-332.469 744.602,-322.343 733.5,-312.649\"/>\r\n",
       "<polygon fill=\"black\" stroke=\"black\" points=\"735.743,-309.961 725.908,-306.021 731.139,-315.234 735.743,-309.961\"/>\r\n",
       "</g>\r\n",
       "<!-- 26 -->\r\n",
       "<g id=\"node27\" class=\"node\"><title>26</title>\r\n",
       "<path fill=\"#8139e5\" stroke=\"black\" d=\"M858,-298.5C858,-298.5 769,-298.5 769,-298.5 763,-298.5 757,-292.5 757,-286.5 757,-286.5 757,-242.5 757,-242.5 757,-236.5 763,-230.5 769,-230.5 769,-230.5 858,-230.5 858,-230.5 864,-230.5 870,-236.5 870,-242.5 870,-242.5 870,-286.5 870,-286.5 870,-292.5 864,-298.5 858,-298.5\"/>\r\n",
       "<text text-anchor=\"start\" x=\"784.5\" y=\"-283.3\" font-family=\"Helvetica,sans-Serif\" font-size=\"14.00\">gini = 0.0</text>\r\n",
       "<text text-anchor=\"start\" x=\"774\" y=\"-268.3\" font-family=\"Helvetica,sans-Serif\" font-size=\"14.00\">samples = 1</text>\r\n",
       "<text text-anchor=\"start\" x=\"765\" y=\"-253.3\" font-family=\"Helvetica,sans-Serif\" font-size=\"14.00\">value = [0, 0, 1]</text>\r\n",
       "<text text-anchor=\"start\" x=\"769.5\" y=\"-238.3\" font-family=\"Helvetica,sans-Serif\" font-size=\"14.00\">class = Media</text>\r\n",
       "</g>\r\n",
       "<!-- 20&#45;&gt;26 -->\r\n",
       "<g id=\"edge26\" class=\"edge\"><title>20&#45;&gt;26</title>\r\n",
       "<path fill=\"none\" stroke=\"black\" d=\"M813.5,-341.907C813.5,-331.204 813.5,-319.615 813.5,-308.776\"/>\r\n",
       "<polygon fill=\"black\" stroke=\"black\" points=\"817,-308.667 813.5,-298.667 810,-308.667 817,-308.667\"/>\r\n",
       "</g>\r\n",
       "<!-- 22 -->\r\n",
       "<g id=\"node23\" class=\"node\"><title>22</title>\r\n",
       "<path fill=\"#39e581\" stroke=\"black\" d=\"M655,-179.5C655,-179.5 566,-179.5 566,-179.5 560,-179.5 554,-173.5 554,-167.5 554,-167.5 554,-123.5 554,-123.5 554,-117.5 560,-111.5 566,-111.5 566,-111.5 655,-111.5 655,-111.5 661,-111.5 667,-117.5 667,-123.5 667,-123.5 667,-167.5 667,-167.5 667,-173.5 661,-179.5 655,-179.5\"/>\r\n",
       "<text text-anchor=\"start\" x=\"581.5\" y=\"-164.3\" font-family=\"Helvetica,sans-Serif\" font-size=\"14.00\">gini = 0.0</text>\r\n",
       "<text text-anchor=\"start\" x=\"571\" y=\"-149.3\" font-family=\"Helvetica,sans-Serif\" font-size=\"14.00\">samples = 2</text>\r\n",
       "<text text-anchor=\"start\" x=\"562\" y=\"-134.3\" font-family=\"Helvetica,sans-Serif\" font-size=\"14.00\">value = [0, 2, 0]</text>\r\n",
       "<text text-anchor=\"start\" x=\"572\" y=\"-119.3\" font-family=\"Helvetica,sans-Serif\" font-size=\"14.00\">class = Baja</text>\r\n",
       "</g>\r\n",
       "<!-- 21&#45;&gt;22 -->\r\n",
       "<g id=\"edge22\" class=\"edge\"><title>21&#45;&gt;22</title>\r\n",
       "<path fill=\"none\" stroke=\"black\" d=\"M655.561,-222.907C648.988,-211.763 641.85,-199.658 635.233,-188.439\"/>\r\n",
       "<polygon fill=\"black\" stroke=\"black\" points=\"638.155,-186.503 630.06,-179.667 632.125,-190.059 638.155,-186.503\"/>\r\n",
       "</g>\r\n",
       "<!-- 23 -->\r\n",
       "<g id=\"node24\" class=\"node\"><title>23</title>\r\n",
       "<path fill=\"#f2c09c\" stroke=\"black\" d=\"M798,-187C798,-187 697,-187 697,-187 691,-187 685,-181 685,-175 685,-175 685,-116 685,-116 685,-110 691,-104 697,-104 697,-104 798,-104 798,-104 804,-104 810,-110 810,-116 810,-116 810,-175 810,-175 810,-181 804,-187 798,-187\"/>\r\n",
       "<text text-anchor=\"start\" x=\"693\" y=\"-171.8\" font-family=\"Helvetica,sans-Serif\" font-size=\"14.00\">Ingresos ≤ 0.115</text>\r\n",
       "<text text-anchor=\"start\" x=\"710\" y=\"-156.8\" font-family=\"Helvetica,sans-Serif\" font-size=\"14.00\">gini = 0.444</text>\r\n",
       "<text text-anchor=\"start\" x=\"708\" y=\"-141.8\" font-family=\"Helvetica,sans-Serif\" font-size=\"14.00\">samples = 3</text>\r\n",
       "<text text-anchor=\"start\" x=\"699\" y=\"-126.8\" font-family=\"Helvetica,sans-Serif\" font-size=\"14.00\">value = [2, 1, 0]</text>\r\n",
       "<text text-anchor=\"start\" x=\"711\" y=\"-111.8\" font-family=\"Helvetica,sans-Serif\" font-size=\"14.00\">class = Alta</text>\r\n",
       "</g>\r\n",
       "<!-- 21&#45;&gt;23 -->\r\n",
       "<g id=\"edge23\" class=\"edge\"><title>21&#45;&gt;23</title>\r\n",
       "<path fill=\"none\" stroke=\"black\" d=\"M703.092,-222.907C708.156,-214.195 713.56,-204.897 718.793,-195.893\"/>\r\n",
       "<polygon fill=\"black\" stroke=\"black\" points=\"721.951,-197.425 723.949,-187.021 715.898,-193.908 721.951,-197.425\"/>\r\n",
       "</g>\r\n",
       "<!-- 24 -->\r\n",
       "<g id=\"node25\" class=\"node\"><title>24</title>\r\n",
       "<path fill=\"#e58139\" stroke=\"black\" d=\"M726,-68C726,-68 637,-68 637,-68 631,-68 625,-62 625,-56 625,-56 625,-12 625,-12 625,-6 631,-0 637,-0 637,-0 726,-0 726,-0 732,-0 738,-6 738,-12 738,-12 738,-56 738,-56 738,-62 732,-68 726,-68\"/>\r\n",
       "<text text-anchor=\"start\" x=\"652.5\" y=\"-52.8\" font-family=\"Helvetica,sans-Serif\" font-size=\"14.00\">gini = 0.0</text>\r\n",
       "<text text-anchor=\"start\" x=\"642\" y=\"-37.8\" font-family=\"Helvetica,sans-Serif\" font-size=\"14.00\">samples = 2</text>\r\n",
       "<text text-anchor=\"start\" x=\"633\" y=\"-22.8\" font-family=\"Helvetica,sans-Serif\" font-size=\"14.00\">value = [2, 0, 0]</text>\r\n",
       "<text text-anchor=\"start\" x=\"645\" y=\"-7.8\" font-family=\"Helvetica,sans-Serif\" font-size=\"14.00\">class = Alta</text>\r\n",
       "</g>\r\n",
       "<!-- 23&#45;&gt;24 -->\r\n",
       "<g id=\"edge24\" class=\"edge\"><title>23&#45;&gt;24</title>\r\n",
       "<path fill=\"none\" stroke=\"black\" d=\"M722.924,-103.726C717.646,-94.9703 712.061,-85.7032 706.758,-76.9051\"/>\r\n",
       "<polygon fill=\"black\" stroke=\"black\" points=\"709.731,-75.0574 701.571,-68.2996 703.736,-78.671 709.731,-75.0574\"/>\r\n",
       "</g>\r\n",
       "<!-- 25 -->\r\n",
       "<g id=\"node26\" class=\"node\"><title>25</title>\r\n",
       "<path fill=\"#39e581\" stroke=\"black\" d=\"M857,-68C857,-68 768,-68 768,-68 762,-68 756,-62 756,-56 756,-56 756,-12 756,-12 756,-6 762,-0 768,-0 768,-0 857,-0 857,-0 863,-0 869,-6 869,-12 869,-12 869,-56 869,-56 869,-62 863,-68 857,-68\"/>\r\n",
       "<text text-anchor=\"start\" x=\"783.5\" y=\"-52.8\" font-family=\"Helvetica,sans-Serif\" font-size=\"14.00\">gini = 0.0</text>\r\n",
       "<text text-anchor=\"start\" x=\"773\" y=\"-37.8\" font-family=\"Helvetica,sans-Serif\" font-size=\"14.00\">samples = 1</text>\r\n",
       "<text text-anchor=\"start\" x=\"764\" y=\"-22.8\" font-family=\"Helvetica,sans-Serif\" font-size=\"14.00\">value = [0, 1, 0]</text>\r\n",
       "<text text-anchor=\"start\" x=\"774\" y=\"-7.8\" font-family=\"Helvetica,sans-Serif\" font-size=\"14.00\">class = Baja</text>\r\n",
       "</g>\r\n",
       "<!-- 23&#45;&gt;25 -->\r\n",
       "<g id=\"edge25\" class=\"edge\"><title>23&#45;&gt;25</title>\r\n",
       "<path fill=\"none\" stroke=\"black\" d=\"M771.704,-103.726C776.901,-94.9703 782.402,-85.7032 787.625,-76.9051\"/>\r\n",
       "<polygon fill=\"black\" stroke=\"black\" points=\"790.638,-78.6853 792.733,-68.2996 784.619,-75.1121 790.638,-78.6853\"/>\r\n",
       "</g>\r\n",
       "<!-- 28 -->\r\n",
       "<g id=\"node29\" class=\"node\"><title>28</title>\r\n",
       "<path fill=\"#e78c4b\" stroke=\"black\" d=\"M1057.5,-544C1057.5,-544 955.5,-544 955.5,-544 949.5,-544 943.5,-538 943.5,-532 943.5,-532 943.5,-473 943.5,-473 943.5,-467 949.5,-461 955.5,-461 955.5,-461 1057.5,-461 1057.5,-461 1063.5,-461 1069.5,-467 1069.5,-473 1069.5,-473 1069.5,-532 1069.5,-532 1069.5,-538 1063.5,-544 1057.5,-544\"/>\r\n",
       "<text text-anchor=\"start\" x=\"951.5\" y=\"-528.8\" font-family=\"Helvetica,sans-Serif\" font-size=\"14.00\">Felicidad ≤ 0.544</text>\r\n",
       "<text text-anchor=\"start\" x=\"969\" y=\"-513.8\" font-family=\"Helvetica,sans-Serif\" font-size=\"14.00\">gini = 0.153</text>\r\n",
       "<text text-anchor=\"start\" x=\"963\" y=\"-498.8\" font-family=\"Helvetica,sans-Serif\" font-size=\"14.00\">samples = 12</text>\r\n",
       "<text text-anchor=\"start\" x=\"954\" y=\"-483.8\" font-family=\"Helvetica,sans-Serif\" font-size=\"14.00\">value = [11, 0, 1]</text>\r\n",
       "<text text-anchor=\"start\" x=\"970\" y=\"-468.8\" font-family=\"Helvetica,sans-Serif\" font-size=\"14.00\">class = Alta</text>\r\n",
       "</g>\r\n",
       "<!-- 27&#45;&gt;28 -->\r\n",
       "<g id=\"edge28\" class=\"edge\"><title>27&#45;&gt;28</title>\r\n",
       "<path fill=\"none\" stroke=\"black\" d=\"M1006.5,-579.907C1006.5,-571.649 1006.5,-562.864 1006.5,-554.302\"/>\r\n",
       "<polygon fill=\"black\" stroke=\"black\" points=\"1010,-554.021 1006.5,-544.021 1003,-554.021 1010,-554.021\"/>\r\n",
       "</g>\r\n",
       "<!-- 33 -->\r\n",
       "<g id=\"node34\" class=\"node\"><title>33</title>\r\n",
       "<path fill=\"#b083ef\" stroke=\"black\" d=\"M1251,-544C1251,-544 1162,-544 1162,-544 1156,-544 1150,-538 1150,-532 1150,-532 1150,-473 1150,-473 1150,-467 1156,-461 1162,-461 1162,-461 1251,-461 1251,-461 1257,-461 1263,-467 1263,-473 1263,-473 1263,-532 1263,-532 1263,-538 1257,-544 1251,-544\"/>\r\n",
       "<text text-anchor=\"start\" x=\"1164\" y=\"-528.8\" font-family=\"Helvetica,sans-Serif\" font-size=\"14.00\">Agua ≤ 0.969</text>\r\n",
       "<text text-anchor=\"start\" x=\"1169\" y=\"-513.8\" font-family=\"Helvetica,sans-Serif\" font-size=\"14.00\">gini = 0.397</text>\r\n",
       "<text text-anchor=\"start\" x=\"1163\" y=\"-498.8\" font-family=\"Helvetica,sans-Serif\" font-size=\"14.00\">samples = 11</text>\r\n",
       "<text text-anchor=\"start\" x=\"1158\" y=\"-483.8\" font-family=\"Helvetica,sans-Serif\" font-size=\"14.00\">value = [3, 0, 8]</text>\r\n",
       "<text text-anchor=\"start\" x=\"1162.5\" y=\"-468.8\" font-family=\"Helvetica,sans-Serif\" font-size=\"14.00\">class = Media</text>\r\n",
       "</g>\r\n",
       "<!-- 27&#45;&gt;33 -->\r\n",
       "<g id=\"edge33\" class=\"edge\"><title>27&#45;&gt;33</title>\r\n",
       "<path fill=\"none\" stroke=\"black\" d=\"M1070.06,-583.32C1092.67,-570.088 1118.18,-555.17 1140.96,-541.842\"/>\r\n",
       "<polygon fill=\"black\" stroke=\"black\" points=\"1143.01,-544.697 1149.87,-536.627 1139.47,-538.655 1143.01,-544.697\"/>\r\n",
       "</g>\r\n",
       "<!-- 29 -->\r\n",
       "<g id=\"node30\" class=\"node\"><title>29</title>\r\n",
       "<path fill=\"#f2c09c\" stroke=\"black\" d=\"M989,-425C989,-425 900,-425 900,-425 894,-425 888,-419 888,-413 888,-413 888,-354 888,-354 888,-348 894,-342 900,-342 900,-342 989,-342 989,-342 995,-342 1001,-348 1001,-354 1001,-354 1001,-413 1001,-413 1001,-419 995,-425 989,-425\"/>\r\n",
       "<text text-anchor=\"start\" x=\"906.5\" y=\"-409.8\" font-family=\"Helvetica,sans-Serif\" font-size=\"14.00\">VIH ≤ 0.005</text>\r\n",
       "<text text-anchor=\"start\" x=\"907\" y=\"-394.8\" font-family=\"Helvetica,sans-Serif\" font-size=\"14.00\">gini = 0.444</text>\r\n",
       "<text text-anchor=\"start\" x=\"905\" y=\"-379.8\" font-family=\"Helvetica,sans-Serif\" font-size=\"14.00\">samples = 3</text>\r\n",
       "<text text-anchor=\"start\" x=\"896\" y=\"-364.8\" font-family=\"Helvetica,sans-Serif\" font-size=\"14.00\">value = [2, 0, 1]</text>\r\n",
       "<text text-anchor=\"start\" x=\"908\" y=\"-349.8\" font-family=\"Helvetica,sans-Serif\" font-size=\"14.00\">class = Alta</text>\r\n",
       "</g>\r\n",
       "<!-- 28&#45;&gt;29 -->\r\n",
       "<g id=\"edge29\" class=\"edge\"><title>28&#45;&gt;29</title>\r\n",
       "<path fill=\"none\" stroke=\"black\" d=\"M984.989,-460.907C980.373,-452.195 975.445,-442.897 970.674,-433.893\"/>\r\n",
       "<polygon fill=\"black\" stroke=\"black\" points=\"973.748,-432.218 965.973,-425.021 967.562,-435.496 973.748,-432.218\"/>\r\n",
       "</g>\r\n",
       "<!-- 32 -->\r\n",
       "<g id=\"node33\" class=\"node\"><title>32</title>\r\n",
       "<path fill=\"#e58139\" stroke=\"black\" d=\"M1120,-417.5C1120,-417.5 1031,-417.5 1031,-417.5 1025,-417.5 1019,-411.5 1019,-405.5 1019,-405.5 1019,-361.5 1019,-361.5 1019,-355.5 1025,-349.5 1031,-349.5 1031,-349.5 1120,-349.5 1120,-349.5 1126,-349.5 1132,-355.5 1132,-361.5 1132,-361.5 1132,-405.5 1132,-405.5 1132,-411.5 1126,-417.5 1120,-417.5\"/>\r\n",
       "<text text-anchor=\"start\" x=\"1046.5\" y=\"-402.3\" font-family=\"Helvetica,sans-Serif\" font-size=\"14.00\">gini = 0.0</text>\r\n",
       "<text text-anchor=\"start\" x=\"1036\" y=\"-387.3\" font-family=\"Helvetica,sans-Serif\" font-size=\"14.00\">samples = 9</text>\r\n",
       "<text text-anchor=\"start\" x=\"1027\" y=\"-372.3\" font-family=\"Helvetica,sans-Serif\" font-size=\"14.00\">value = [9, 0, 0]</text>\r\n",
       "<text text-anchor=\"start\" x=\"1039\" y=\"-357.3\" font-family=\"Helvetica,sans-Serif\" font-size=\"14.00\">class = Alta</text>\r\n",
       "</g>\r\n",
       "<!-- 28&#45;&gt;32 -->\r\n",
       "<g id=\"edge32\" class=\"edge\"><title>28&#45;&gt;32</title>\r\n",
       "<path fill=\"none\" stroke=\"black\" d=\"M1030.44,-460.907C1037.01,-449.763 1044.15,-437.658 1050.77,-426.439\"/>\r\n",
       "<polygon fill=\"black\" stroke=\"black\" points=\"1053.87,-428.059 1055.94,-417.667 1047.85,-424.503 1053.87,-428.059\"/>\r\n",
       "</g>\r\n",
       "<!-- 30 -->\r\n",
       "<g id=\"node31\" class=\"node\"><title>30</title>\r\n",
       "<path fill=\"#8139e5\" stroke=\"black\" d=\"M989,-298.5C989,-298.5 900,-298.5 900,-298.5 894,-298.5 888,-292.5 888,-286.5 888,-286.5 888,-242.5 888,-242.5 888,-236.5 894,-230.5 900,-230.5 900,-230.5 989,-230.5 989,-230.5 995,-230.5 1001,-236.5 1001,-242.5 1001,-242.5 1001,-286.5 1001,-286.5 1001,-292.5 995,-298.5 989,-298.5\"/>\r\n",
       "<text text-anchor=\"start\" x=\"915.5\" y=\"-283.3\" font-family=\"Helvetica,sans-Serif\" font-size=\"14.00\">gini = 0.0</text>\r\n",
       "<text text-anchor=\"start\" x=\"905\" y=\"-268.3\" font-family=\"Helvetica,sans-Serif\" font-size=\"14.00\">samples = 1</text>\r\n",
       "<text text-anchor=\"start\" x=\"896\" y=\"-253.3\" font-family=\"Helvetica,sans-Serif\" font-size=\"14.00\">value = [0, 0, 1]</text>\r\n",
       "<text text-anchor=\"start\" x=\"900.5\" y=\"-238.3\" font-family=\"Helvetica,sans-Serif\" font-size=\"14.00\">class = Media</text>\r\n",
       "</g>\r\n",
       "<!-- 29&#45;&gt;30 -->\r\n",
       "<g id=\"edge30\" class=\"edge\"><title>29&#45;&gt;30</title>\r\n",
       "<path fill=\"none\" stroke=\"black\" d=\"M944.5,-341.907C944.5,-331.204 944.5,-319.615 944.5,-308.776\"/>\r\n",
       "<polygon fill=\"black\" stroke=\"black\" points=\"948,-308.667 944.5,-298.667 941,-308.667 948,-308.667\"/>\r\n",
       "</g>\r\n",
       "<!-- 31 -->\r\n",
       "<g id=\"node32\" class=\"node\"><title>31</title>\r\n",
       "<path fill=\"#e58139\" stroke=\"black\" d=\"M1120,-298.5C1120,-298.5 1031,-298.5 1031,-298.5 1025,-298.5 1019,-292.5 1019,-286.5 1019,-286.5 1019,-242.5 1019,-242.5 1019,-236.5 1025,-230.5 1031,-230.5 1031,-230.5 1120,-230.5 1120,-230.5 1126,-230.5 1132,-236.5 1132,-242.5 1132,-242.5 1132,-286.5 1132,-286.5 1132,-292.5 1126,-298.5 1120,-298.5\"/>\r\n",
       "<text text-anchor=\"start\" x=\"1046.5\" y=\"-283.3\" font-family=\"Helvetica,sans-Serif\" font-size=\"14.00\">gini = 0.0</text>\r\n",
       "<text text-anchor=\"start\" x=\"1036\" y=\"-268.3\" font-family=\"Helvetica,sans-Serif\" font-size=\"14.00\">samples = 2</text>\r\n",
       "<text text-anchor=\"start\" x=\"1027\" y=\"-253.3\" font-family=\"Helvetica,sans-Serif\" font-size=\"14.00\">value = [2, 0, 0]</text>\r\n",
       "<text text-anchor=\"start\" x=\"1039\" y=\"-238.3\" font-family=\"Helvetica,sans-Serif\" font-size=\"14.00\">class = Alta</text>\r\n",
       "</g>\r\n",
       "<!-- 29&#45;&gt;31 -->\r\n",
       "<g id=\"edge31\" class=\"edge\"><title>29&#45;&gt;31</title>\r\n",
       "<path fill=\"none\" stroke=\"black\" d=\"M989.95,-341.907C1003.17,-330.101 1017.6,-317.217 1030.77,-305.45\"/>\r\n",
       "<polygon fill=\"black\" stroke=\"black\" points=\"1033.24,-307.939 1038.36,-298.667 1028.57,-302.718 1033.24,-307.939\"/>\r\n",
       "</g>\r\n",
       "<!-- 34 -->\r\n",
       "<g id=\"node35\" class=\"node\"><title>34</title>\r\n",
       "<path fill=\"#8139e5\" stroke=\"black\" d=\"M1251,-417.5C1251,-417.5 1162,-417.5 1162,-417.5 1156,-417.5 1150,-411.5 1150,-405.5 1150,-405.5 1150,-361.5 1150,-361.5 1150,-355.5 1156,-349.5 1162,-349.5 1162,-349.5 1251,-349.5 1251,-349.5 1257,-349.5 1263,-355.5 1263,-361.5 1263,-361.5 1263,-405.5 1263,-405.5 1263,-411.5 1257,-417.5 1251,-417.5\"/>\r\n",
       "<text text-anchor=\"start\" x=\"1177.5\" y=\"-402.3\" font-family=\"Helvetica,sans-Serif\" font-size=\"14.00\">gini = 0.0</text>\r\n",
       "<text text-anchor=\"start\" x=\"1167\" y=\"-387.3\" font-family=\"Helvetica,sans-Serif\" font-size=\"14.00\">samples = 5</text>\r\n",
       "<text text-anchor=\"start\" x=\"1158\" y=\"-372.3\" font-family=\"Helvetica,sans-Serif\" font-size=\"14.00\">value = [0, 0, 5]</text>\r\n",
       "<text text-anchor=\"start\" x=\"1162.5\" y=\"-357.3\" font-family=\"Helvetica,sans-Serif\" font-size=\"14.00\">class = Media</text>\r\n",
       "</g>\r\n",
       "<!-- 33&#45;&gt;34 -->\r\n",
       "<g id=\"edge34\" class=\"edge\"><title>33&#45;&gt;34</title>\r\n",
       "<path fill=\"none\" stroke=\"black\" d=\"M1206.5,-460.907C1206.5,-450.204 1206.5,-438.615 1206.5,-427.776\"/>\r\n",
       "<polygon fill=\"black\" stroke=\"black\" points=\"1210,-427.667 1206.5,-417.667 1203,-427.667 1210,-427.667\"/>\r\n",
       "</g>\r\n",
       "<!-- 35 -->\r\n",
       "<g id=\"node36\" class=\"node\"><title>35</title>\r\n",
       "<path fill=\"#ffffff\" stroke=\"black\" d=\"M1424,-425C1424,-425 1293,-425 1293,-425 1287,-425 1281,-419 1281,-413 1281,-413 1281,-354 1281,-354 1281,-348 1287,-342 1293,-342 1293,-342 1424,-342 1424,-342 1430,-342 1436,-348 1436,-354 1436,-354 1436,-413 1436,-413 1436,-419 1430,-425 1424,-425\"/>\r\n",
       "<text text-anchor=\"start\" x=\"1289\" y=\"-409.8\" font-family=\"Helvetica,sans-Serif\" font-size=\"14.00\">Población_Total ≤ 0.0</text>\r\n",
       "<text text-anchor=\"start\" x=\"1329.5\" y=\"-394.8\" font-family=\"Helvetica,sans-Serif\" font-size=\"14.00\">gini = 0.5</text>\r\n",
       "<text text-anchor=\"start\" x=\"1319\" y=\"-379.8\" font-family=\"Helvetica,sans-Serif\" font-size=\"14.00\">samples = 6</text>\r\n",
       "<text text-anchor=\"start\" x=\"1310\" y=\"-364.8\" font-family=\"Helvetica,sans-Serif\" font-size=\"14.00\">value = [3, 0, 3]</text>\r\n",
       "<text text-anchor=\"start\" x=\"1322\" y=\"-349.8\" font-family=\"Helvetica,sans-Serif\" font-size=\"14.00\">class = Alta</text>\r\n",
       "</g>\r\n",
       "<!-- 33&#45;&gt;35 -->\r\n",
       "<g id=\"edge35\" class=\"edge\"><title>33&#45;&gt;35</title>\r\n",
       "<path fill=\"none\" stroke=\"black\" d=\"M1259.24,-460.907C1271.62,-451.379 1284.91,-441.148 1297.61,-431.37\"/>\r\n",
       "<polygon fill=\"black\" stroke=\"black\" points=\"1300.07,-433.894 1305.86,-425.021 1295.8,-428.347 1300.07,-433.894\"/>\r\n",
       "</g>\r\n",
       "<!-- 36 -->\r\n",
       "<g id=\"node37\" class=\"node\"><title>36</title>\r\n",
       "<path fill=\"#8139e5\" stroke=\"black\" d=\"M1337,-298.5C1337,-298.5 1248,-298.5 1248,-298.5 1242,-298.5 1236,-292.5 1236,-286.5 1236,-286.5 1236,-242.5 1236,-242.5 1236,-236.5 1242,-230.5 1248,-230.5 1248,-230.5 1337,-230.5 1337,-230.5 1343,-230.5 1349,-236.5 1349,-242.5 1349,-242.5 1349,-286.5 1349,-286.5 1349,-292.5 1343,-298.5 1337,-298.5\"/>\r\n",
       "<text text-anchor=\"start\" x=\"1263.5\" y=\"-283.3\" font-family=\"Helvetica,sans-Serif\" font-size=\"14.00\">gini = 0.0</text>\r\n",
       "<text text-anchor=\"start\" x=\"1253\" y=\"-268.3\" font-family=\"Helvetica,sans-Serif\" font-size=\"14.00\">samples = 3</text>\r\n",
       "<text text-anchor=\"start\" x=\"1244\" y=\"-253.3\" font-family=\"Helvetica,sans-Serif\" font-size=\"14.00\">value = [0, 0, 3]</text>\r\n",
       "<text text-anchor=\"start\" x=\"1248.5\" y=\"-238.3\" font-family=\"Helvetica,sans-Serif\" font-size=\"14.00\">class = Media</text>\r\n",
       "</g>\r\n",
       "<!-- 35&#45;&gt;36 -->\r\n",
       "<g id=\"edge36\" class=\"edge\"><title>35&#45;&gt;36</title>\r\n",
       "<path fill=\"none\" stroke=\"black\" d=\"M1335.6,-341.907C1329.31,-330.763 1322.49,-318.658 1316.16,-307.439\"/>\r\n",
       "<polygon fill=\"black\" stroke=\"black\" points=\"1319.17,-305.657 1311.21,-298.667 1313.07,-309.096 1319.17,-305.657\"/>\r\n",
       "</g>\r\n",
       "<!-- 37 -->\r\n",
       "<g id=\"node38\" class=\"node\"><title>37</title>\r\n",
       "<path fill=\"#e58139\" stroke=\"black\" d=\"M1468,-298.5C1468,-298.5 1379,-298.5 1379,-298.5 1373,-298.5 1367,-292.5 1367,-286.5 1367,-286.5 1367,-242.5 1367,-242.5 1367,-236.5 1373,-230.5 1379,-230.5 1379,-230.5 1468,-230.5 1468,-230.5 1474,-230.5 1480,-236.5 1480,-242.5 1480,-242.5 1480,-286.5 1480,-286.5 1480,-292.5 1474,-298.5 1468,-298.5\"/>\r\n",
       "<text text-anchor=\"start\" x=\"1394.5\" y=\"-283.3\" font-family=\"Helvetica,sans-Serif\" font-size=\"14.00\">gini = 0.0</text>\r\n",
       "<text text-anchor=\"start\" x=\"1384\" y=\"-268.3\" font-family=\"Helvetica,sans-Serif\" font-size=\"14.00\">samples = 3</text>\r\n",
       "<text text-anchor=\"start\" x=\"1375\" y=\"-253.3\" font-family=\"Helvetica,sans-Serif\" font-size=\"14.00\">value = [3, 0, 0]</text>\r\n",
       "<text text-anchor=\"start\" x=\"1387\" y=\"-238.3\" font-family=\"Helvetica,sans-Serif\" font-size=\"14.00\">class = Alta</text>\r\n",
       "</g>\r\n",
       "<!-- 35&#45;&gt;37 -->\r\n",
       "<g id=\"edge37\" class=\"edge\"><title>35&#45;&gt;37</title>\r\n",
       "<path fill=\"none\" stroke=\"black\" d=\"M1381.05,-341.907C1387.24,-330.763 1393.97,-318.658 1400.2,-307.439\"/>\r\n",
       "<polygon fill=\"black\" stroke=\"black\" points=\"1403.28,-309.108 1405.07,-298.667 1397.16,-305.709 1403.28,-309.108\"/>\r\n",
       "</g>\r\n",
       "</g>\r\n",
       "</svg>\r\n"
      ],
      "text/plain": [
       "<graphviz.files.Source at 0x2e84756d7c8>"
      ]
     },
     "execution_count": 32,
     "metadata": {},
     "output_type": "execute_result"
    }
   ],
   "source": [
    "viewDecisionTree(model_dt, X.columns)"
   ]
  },
  {
   "cell_type": "markdown",
   "metadata": {},
   "source": [
    "#### Importancia de las Características de Decision Tree\n",
    "\n",
    "La importancia de las características que se muestra a continuación, examina cada una y determina la importancia que tienen en la construcción del modelo Decision Tree. \n",
    "\n",
    "La función decisionTreeSummary() se puede encontrar en el archivo “functions.py” en donde se utiliza el atributo feature_importances_ del DecisionTreeClassifier."
   ]
  },
  {
   "cell_type": "code",
   "execution_count": 33,
   "metadata": {},
   "outputs": [
    {
     "data": {
      "image/png": "[encoded data removed]",
      "text/plain": [
       "<Figure size 576x288 with 1 Axes>"
      ]
     },
     "metadata": {
      "needs_background": "light"
     },
     "output_type": "display_data"
    }
   ],
   "source": [
    "decisionTreeSummary(model_dt, X.columns)"
   ]
  },
  {
   "cell_type": "markdown",
   "metadata": {},
   "source": [
    "En el gráfico previo, se muestra la reducción total de los Ingresos y se puede apreciar que el Saneamiento es la característica más importante, seguido de la Felicidad. Lo cual no me dice nada acerca de que clase ayuda a predecir cada característica, solo su impacto en la clasificación general. "
   ]
  },
  {
   "cell_type": "markdown",
   "metadata": {},
   "source": [
    "### Logistic Regression\n",
    "\n",
    "#### Examinar los Coeficientes del Modelo Logistic Regression\n",
    "\n",
    "Los coeficientes del modelo Logistic Regression definen la forma de la curva sigmoide que modela los datos. Hay un coeficiente para cada característica. El signo y la magnitud indican el grado que las características influyen en la decisión de clasificación. \n",
    "\n",
    "La función logisticRegressionSummary() se puede encontrar en el archivo “functions.py”. Se utiliza el atributo coef_ del LogisticRegressionClassifier."
   ]
  },
  {
   "cell_type": "code",
   "execution_count": 34,
   "metadata": {},
   "outputs": [
    {
     "data": {
      "text/plain": [
       "array(['Alta', 'Baja', 'Media'], dtype=object)"
      ]
     },
     "execution_count": 34,
     "metadata": {},
     "output_type": "execute_result"
    }
   ],
   "source": [
    "model_lr.classes_"
   ]
  },
  {
   "cell_type": "code",
   "execution_count": 35,
   "metadata": {},
   "outputs": [
    {
     "data": {
      "text/plain": [
       "array([[ 1.56109512,  1.43854829,  1.21032309,  0.71015589,  0.16496136,\n",
       "        -0.21151471,  0.38168319, -0.90984066, -0.7007721 , -0.06693589,\n",
       "         1.35850726, -0.26528544],\n",
       "       [-1.04391607, -0.40989364, -1.85609818, -1.39903662, -0.71497946,\n",
       "         0.2072231 , -0.15851575,  1.53414928,  1.15354453,  0.24971128,\n",
       "        -0.74221789,  0.09642796],\n",
       "       [-0.51717906, -1.02865465,  0.64577509,  0.68888074,  0.5500181 ,\n",
       "         0.00429161, -0.22316744, -0.62430862, -0.45277243, -0.18277539,\n",
       "        -0.61628937,  0.16885748]])"
      ]
     },
     "execution_count": 35,
     "metadata": {},
     "output_type": "execute_result"
    }
   ],
   "source": [
    "model_lr.coef_"
   ]
  },
  {
   "cell_type": "markdown",
   "metadata": {},
   "source": [
    "#### Gráficas (plots) de los Coeficientes del Modelo Logistic Regression."
   ]
  },
  {
   "cell_type": "code",
   "execution_count": 36,
   "metadata": {},
   "outputs": [
    {
     "data": {
      "image/png": "[encoded data removed]",
      "text/plain": [
       "<Figure size 576x288 with 1 Axes>"
      ]
     },
     "metadata": {
      "needs_background": "light"
     },
     "output_type": "display_data"
    },
    {
     "data": {
      "image/png": "[encoded data removed]",
      "text/plain": [
       "<Figure size 576x288 with 1 Axes>"
      ]
     },
     "metadata": {
      "needs_background": "light"
     },
     "output_type": "display_data"
    },
    {
     "data": {
      "image/png": "[encoded data removed]",
      "text/plain": [
       "<Figure size 576x288 with 1 Axes>"
      ]
     },
     "metadata": {
      "needs_background": "light"
     },
     "output_type": "display_data"
    }
   ],
   "source": [
    "logisticRegressionSummary(model_lr, X.columns)"
   ]
  },
  {
   "cell_type": "markdown",
   "metadata": {},
   "source": [
    "# Conclusiones\n",
    "\n",
    "- En el primer gráfico se puede ver que el alto Suministro de Alimentos, los Ingresos y el Saneamiento son indicadores de una alta esperanza de vida.\n",
    " \n",
    "- El bajo nivel de Saneamiento es el indicador más significativo de la baja esperanza de vida.\n",
    " \n",
    "- Los bajos Ingresos son el indicador más significativo de la esperanza de vida media."
   ]
  }
 ],
 "metadata": {
  "kernelspec": {
   "display_name": "Python 3",
   "language": "python",
   "name": "python3"
  },
  "language_info": {
   "codemirror_mode": {
    "name": "ipython",
    "version": 3
   },
   "file_extension": ".py",
   "mimetype": "text/x-python",
   "name": "python",
   "nbconvert_exporter": "python",
   "pygments_lexer": "ipython3",
   "version": "3.7.4"
  }
 },
 "nbformat": 4,
 "nbformat_minor": 2
}
