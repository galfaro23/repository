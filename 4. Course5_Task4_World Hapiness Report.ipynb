{
 "cells": [
  {
   "cell_type": "markdown",
   "metadata": {},
   "source": [
    "# Informe de la Felicidad Mundial hasta el 2015"
   ]
  },
  {
   "cell_type": "markdown",
   "metadata": {},
   "source": [
    "# Objetivo del Proyecto\n",
    "\n",
    "\"Hacer predicciones sobre la esperanza de vida de un país (bandas L/M/H) a partir de un conjunto de métricas para el país correspondiente\"."
   ]
  },
  {
   "cell_type": "markdown",
   "metadata": {},
   "source": [
    "## Construir y Evaluar un Modelo de Clasificación\n",
    "\n",
    "En el presente notebook construiré modelos de clasificación usando los modelos de decision trees (árboles de decisión) y logistic regression (algoritmos de regresión logística) con el objetivo de elegir el que tenga mejor rendimiento."
   ]
  },
  {
   "cell_type": "markdown",
   "metadata": {},
   "source": [
    "## Importar Librerías"
   ]
  },
  {
   "cell_type": "code",
   "execution_count": 21,
   "metadata": {},
   "outputs": [],
   "source": [
    "# Core libraries\n",
    "\n",
    "import pandas as pd\n",
    "import numpy as np\n",
    "import matplotlib.pyplot as pyplot\n",
    "\n",
    "# Sklearn processing\n",
    "\n",
    "from sklearn.preprocessing import MinMaxScaler\n",
    "from sklearn.model_selection import train_test_split\n",
    "\n",
    "# Sklearn classification algorithms\n",
    "\n",
    "from sklearn.tree import DecisionTreeClassifier\n",
    "from sklearn.linear_model import LogisticRegression\n",
    "\n",
    "# Sklearn classification model evaluation function\n",
    "\n",
    "from sklearn.metrics import accuracy_score\n",
    "\n",
    "# Convenience functions.  This can be found on the course github\n",
    "\n",
    "from functions import *"
   ]
  },
  {
   "cell_type": "markdown",
   "metadata": {},
   "source": [
    "## Cargar los Datos\n",
    "\n",
    "Se consolidó la información del Banco Mundial, Gapminder y el Informe Mundial sobre la Felicidad. \n",
    "\n",
    "Seleccioné algunas de las características disponibles de estas fuentes, se hizo calidad de datos y se realizó la atribución de los datos para proporcionarlas medidas más recientes de cada país hasta 2015."
   ]
  },
  {
   "cell_type": "code",
   "execution_count": 6,
   "metadata": {},
   "outputs": [],
   "source": [
    "# Cargar el data set\n",
    "\n",
    "dataset = pd.read_csv(\"world_data.csv\")"
   ]
  },
  {
   "cell_type": "markdown",
   "metadata": {},
   "source": [
    "## Inspeccionar los Datos\n",
    "\n",
    "Identificar el número de características (columnas) y muestras (filas)."
   ]
  },
  {
   "cell_type": "code",
   "execution_count": 7,
   "metadata": {},
   "outputs": [
    {
     "data": {
      "text/plain": [
       "(194, 17)"
      ]
     },
     "execution_count": 7,
     "metadata": {},
     "output_type": "execute_result"
    }
   ],
   "source": [
    "# Examinar la dimensión de la matriz\n",
    "\n",
    "dataset.shape"
   ]
  },
  {
   "cell_type": "markdown",
   "metadata": {},
   "source": [
    "Visualizar la información con la que estoy tratando."
   ]
  },
  {
   "cell_type": "code",
   "execution_count": 9,
   "metadata": {},
   "outputs": [
    {
     "data": {
      "text/html": [
       "<div>\n",
       "<style scoped>\n",
       "    .dataframe tbody tr th:only-of-type {\n",
       "        vertical-align: middle;\n",
       "    }\n",
       "\n",
       "    .dataframe tbody tr th {\n",
       "        vertical-align: top;\n",
       "    }\n",
       "\n",
       "    .dataframe thead th {\n",
       "        text-align: right;\n",
       "    }\n",
       "</style>\n",
       "<table border=\"1\" class=\"dataframe\">\n",
       "  <thead>\n",
       "    <tr style=\"text-align: right;\">\n",
       "      <th></th>\n",
       "      <th>country</th>\n",
       "      <th>happiness</th>\n",
       "      <th>income</th>\n",
       "      <th>lifeexp</th>\n",
       "      <th>sanitation</th>\n",
       "      <th>water</th>\n",
       "      <th>urbanpopulation</th>\n",
       "      <th>unemployment</th>\n",
       "      <th>literacy</th>\n",
       "      <th>inequality</th>\n",
       "      <th>murder</th>\n",
       "      <th>energy</th>\n",
       "      <th>childmortality</th>\n",
       "      <th>fertility</th>\n",
       "      <th>hiv</th>\n",
       "      <th>foodsupply</th>\n",
       "      <th>population</th>\n",
       "    </tr>\n",
       "  </thead>\n",
       "  <tbody>\n",
       "    <tr>\n",
       "      <td>0</td>\n",
       "      <td>Afghanistan</td>\n",
       "      <td>3.982855</td>\n",
       "      <td>1750.0</td>\n",
       "      <td>57.9</td>\n",
       "      <td>39.2</td>\n",
       "      <td>63.0</td>\n",
       "      <td>11.0</td>\n",
       "      <td>NaN</td>\n",
       "      <td>39.0</td>\n",
       "      <td>NaN</td>\n",
       "      <td>NaN</td>\n",
       "      <td>NaN</td>\n",
       "      <td>73.2</td>\n",
       "      <td>4.80</td>\n",
       "      <td>5800.0</td>\n",
       "      <td>2090.0</td>\n",
       "      <td>33700000</td>\n",
       "    </tr>\n",
       "    <tr>\n",
       "      <td>1</td>\n",
       "      <td>Albania</td>\n",
       "      <td>4.606651</td>\n",
       "      <td>11000.0</td>\n",
       "      <td>77.6</td>\n",
       "      <td>97.7</td>\n",
       "      <td>91.4</td>\n",
       "      <td>NaN</td>\n",
       "      <td>6.090</td>\n",
       "      <td>96.8</td>\n",
       "      <td>29.0</td>\n",
       "      <td>2.30</td>\n",
       "      <td>808.0</td>\n",
       "      <td>14.0</td>\n",
       "      <td>1.71</td>\n",
       "      <td>NaN</td>\n",
       "      <td>3190.0</td>\n",
       "      <td>2920000</td>\n",
       "    </tr>\n",
       "    <tr>\n",
       "      <td>2</td>\n",
       "      <td>Argentina</td>\n",
       "      <td>6.697131</td>\n",
       "      <td>19100.0</td>\n",
       "      <td>76.5</td>\n",
       "      <td>94.8</td>\n",
       "      <td>99.6</td>\n",
       "      <td>43.1</td>\n",
       "      <td>0.856</td>\n",
       "      <td>97.9</td>\n",
       "      <td>41.4</td>\n",
       "      <td>4.65</td>\n",
       "      <td>2020.0</td>\n",
       "      <td>11.6</td>\n",
       "      <td>2.31</td>\n",
       "      <td>95000.0</td>\n",
       "      <td>3230.0</td>\n",
       "      <td>43400000</td>\n",
       "    </tr>\n",
       "    <tr>\n",
       "      <td>3</td>\n",
       "      <td>Armenia</td>\n",
       "      <td>4.348320</td>\n",
       "      <td>8180.0</td>\n",
       "      <td>75.4</td>\n",
       "      <td>91.6</td>\n",
       "      <td>98.9</td>\n",
       "      <td>36.7</td>\n",
       "      <td>7.110</td>\n",
       "      <td>99.6</td>\n",
       "      <td>32.4</td>\n",
       "      <td>1.12</td>\n",
       "      <td>1020.0</td>\n",
       "      <td>14.0</td>\n",
       "      <td>1.66</td>\n",
       "      <td>3600.0</td>\n",
       "      <td>2930.0</td>\n",
       "      <td>2920000</td>\n",
       "    </tr>\n",
       "    <tr>\n",
       "      <td>4</td>\n",
       "      <td>Australia</td>\n",
       "      <td>7.309061</td>\n",
       "      <td>43800.0</td>\n",
       "      <td>82.6</td>\n",
       "      <td>100.0</td>\n",
       "      <td>100.0</td>\n",
       "      <td>60.2</td>\n",
       "      <td>1.240</td>\n",
       "      <td>NaN</td>\n",
       "      <td>34.7</td>\n",
       "      <td>1.11</td>\n",
       "      <td>5480.0</td>\n",
       "      <td>3.8</td>\n",
       "      <td>1.86</td>\n",
       "      <td>22000.0</td>\n",
       "      <td>3280.0</td>\n",
       "      <td>23800000</td>\n",
       "    </tr>\n",
       "  </tbody>\n",
       "</table>\n",
       "</div>"
      ],
      "text/plain": [
       "       country  happiness   income  lifeexp  sanitation  water  \\\n",
       "0  Afghanistan   3.982855   1750.0     57.9        39.2   63.0   \n",
       "1      Albania   4.606651  11000.0     77.6        97.7   91.4   \n",
       "2    Argentina   6.697131  19100.0     76.5        94.8   99.6   \n",
       "3      Armenia   4.348320   8180.0     75.4        91.6   98.9   \n",
       "4    Australia   7.309061  43800.0     82.6       100.0  100.0   \n",
       "\n",
       "   urbanpopulation  unemployment  literacy  inequality  murder  energy  \\\n",
       "0             11.0           NaN      39.0         NaN     NaN     NaN   \n",
       "1              NaN         6.090      96.8        29.0    2.30   808.0   \n",
       "2             43.1         0.856      97.9        41.4    4.65  2020.0   \n",
       "3             36.7         7.110      99.6        32.4    1.12  1020.0   \n",
       "4             60.2         1.240       NaN        34.7    1.11  5480.0   \n",
       "\n",
       "   childmortality  fertility      hiv  foodsupply  population  \n",
       "0            73.2       4.80   5800.0      2090.0    33700000  \n",
       "1            14.0       1.71      NaN      3190.0     2920000  \n",
       "2            11.6       2.31  95000.0      3230.0    43400000  \n",
       "3            14.0       1.66   3600.0      2930.0     2920000  \n",
       "4             3.8       1.86  22000.0      3280.0    23800000  "
      ]
     },
     "execution_count": 9,
     "metadata": {},
     "output_type": "execute_result"
    }
   ],
   "source": [
    "# Inspeccionar las primeras filas\n",
    "\n",
    "dataset.head()"
   ]
  },
  {
   "cell_type": "markdown",
   "metadata": {},
   "source": [
    "Comprobar que los tipos de datos son sensatos para cada característica, es decir, no quiero que ninguna característica numérica se muestre como objet."
   ]
  },
  {
   "cell_type": "code",
   "execution_count": 10,
   "metadata": {},
   "outputs": [
    {
     "data": {
      "text/plain": [
       "country             object\n",
       "happiness          float64\n",
       "income             float64\n",
       "lifeexp            float64\n",
       "sanitation         float64\n",
       "water              float64\n",
       "urbanpopulation    float64\n",
       "unemployment       float64\n",
       "literacy           float64\n",
       "inequality         float64\n",
       "murder             float64\n",
       "energy             float64\n",
       "childmortality     float64\n",
       "fertility          float64\n",
       "hiv                float64\n",
       "foodsupply         float64\n",
       "population           int64\n",
       "dtype: object"
      ]
     },
     "execution_count": 10,
     "metadata": {},
     "output_type": "execute_result"
    }
   ],
   "source": [
    "# Revisar el tipo de dato\n",
    "\n",
    "dataset.dtypes"
   ]
  },
  {
   "cell_type": "markdown",
   "metadata": {},
   "source": [
    "Registros nulos."
   ]
  },
  {
   "cell_type": "code",
   "execution_count": 15,
   "metadata": {},
   "outputs": [
    {
     "data": {
      "text/plain": [
       "country           0.000000\n",
       "sanitation        0.000000\n",
       "water             0.000000\n",
       "population        0.000000\n",
       "income            0.005155\n",
       "childmortality    0.005155\n",
       "lifeexp           0.036082\n",
       "fertility         0.051546\n",
       "energy            0.128866\n",
       "foodsupply        0.134021\n",
       "inequality        0.175258\n",
       "literacy          0.231959\n",
       "hiv               0.231959\n",
       "happiness         0.278351\n",
       "dtype: float64"
      ]
     },
     "execution_count": 15,
     "metadata": {},
     "output_type": "execute_result"
    }
   ],
   "source": [
    "# Revisar si hay registros nulos\n",
    "\n",
    "dataset.isnull().mean().sort_values()"
   ]
  },
  {
   "cell_type": "markdown",
   "metadata": {},
   "source": [
    "## Limpieza de Datos\n",
    "\n",
    "Algunas de estas características (asesinato, población urbana, desempleo) están muy poco pobladas. Si dejara los nulos, estaría estimando un gran número de valores por lo que voy a descartarlos por ahora."
   ]
  },
  {
   "cell_type": "code",
   "execution_count": 13,
   "metadata": {},
   "outputs": [],
   "source": [
    "# Discard very sparse features\n",
    "\n",
    "dataset = dataset.drop([\"murder\",\"urbanpopulation\",\"unemployment\"], axis=1)"
   ]
  },
  {
   "cell_type": "markdown",
   "metadata": {},
   "source": [
    "A las demás características sólo les asignaré el valor medio de la característica.  "
   ]
  },
  {
   "cell_type": "code",
   "execution_count": 16,
   "metadata": {},
   "outputs": [],
   "source": [
    "# Calcular la media de cada característica\n",
    "\n",
    "means = dataset.mean().to_dict()\n",
    "\n",
    "# Asignar cada nulo con la media de esa característica\n",
    "\n",
    "for m in means:\n",
    "    dataset[m] = dataset[m].fillna(value=means[m])"
   ]
  },
  {
   "cell_type": "markdown",
   "metadata": {},
   "source": [
    "Piensa en mi estrategia de limpieza en éste punt.  ¿Podría tomar un enfoque más sofisticado?"
   ]
  },
  {
   "cell_type": "markdown",
   "metadata": {},
   "source": [
    "Confirmar que no tengo nulos luego de haber agregar la media de cada característica."
   ]
  },
  {
   "cell_type": "code",
   "execution_count": 18,
   "metadata": {},
   "outputs": [
    {
     "data": {
      "text/plain": [
       "country           0.0\n",
       "happiness         0.0\n",
       "income            0.0\n",
       "lifeexp           0.0\n",
       "sanitation        0.0\n",
       "water             0.0\n",
       "literacy          0.0\n",
       "inequality        0.0\n",
       "energy            0.0\n",
       "childmortality    0.0\n",
       "fertility         0.0\n",
       "hiv               0.0\n",
       "foodsupply        0.0\n",
       "population        0.0\n",
       "dtype: float64"
      ]
     },
     "execution_count": 18,
     "metadata": {},
     "output_type": "execute_result"
    }
   ],
   "source": [
    "# Revisar si hay registros nulos\n",
    "\n",
    "dataset.isnull().mean()"
   ]
  },
  {
   "cell_type": "markdown",
   "metadata": {},
   "source": [
    "## Comprender los Datos\n",
    "\n",
    "### Estadísticas descriptivas\n",
    "Las estadísticas descriptivas dan una idea del rango y la extensión de los valores de cada característica y nos permite detectar patrones inesperados. "
   ]
  },
  {
   "cell_type": "code",
   "execution_count": 19,
   "metadata": {},
   "outputs": [
    {
     "data": {
      "text/html": [
       "<div>\n",
       "<style scoped>\n",
       "    .dataframe tbody tr th:only-of-type {\n",
       "        vertical-align: middle;\n",
       "    }\n",
       "\n",
       "    .dataframe tbody tr th {\n",
       "        vertical-align: top;\n",
       "    }\n",
       "\n",
       "    .dataframe thead th {\n",
       "        text-align: right;\n",
       "    }\n",
       "</style>\n",
       "<table border=\"1\" class=\"dataframe\">\n",
       "  <thead>\n",
       "    <tr style=\"text-align: right;\">\n",
       "      <th></th>\n",
       "      <th>happiness</th>\n",
       "      <th>income</th>\n",
       "      <th>lifeexp</th>\n",
       "      <th>sanitation</th>\n",
       "      <th>water</th>\n",
       "      <th>literacy</th>\n",
       "      <th>inequality</th>\n",
       "      <th>energy</th>\n",
       "      <th>childmortality</th>\n",
       "      <th>fertility</th>\n",
       "      <th>hiv</th>\n",
       "      <th>foodsupply</th>\n",
       "      <th>population</th>\n",
       "    </tr>\n",
       "  </thead>\n",
       "  <tbody>\n",
       "    <tr>\n",
       "      <td>count</td>\n",
       "      <td>194.000000</td>\n",
       "      <td>194.000000</td>\n",
       "      <td>194.000000</td>\n",
       "      <td>194.000000</td>\n",
       "      <td>194.000000</td>\n",
       "      <td>194.000000</td>\n",
       "      <td>194.000000</td>\n",
       "      <td>194.000000</td>\n",
       "      <td>194.000000</td>\n",
       "      <td>194.000000</td>\n",
       "      <td>1.940000e+02</td>\n",
       "      <td>194.000000</td>\n",
       "      <td>1.940000e+02</td>\n",
       "    </tr>\n",
       "    <tr>\n",
       "      <td>mean</td>\n",
       "      <td>5.395765</td>\n",
       "      <td>17432.849741</td>\n",
       "      <td>71.933690</td>\n",
       "      <td>73.838247</td>\n",
       "      <td>86.329381</td>\n",
       "      <td>81.573826</td>\n",
       "      <td>38.579375</td>\n",
       "      <td>2183.725325</td>\n",
       "      <td>31.441451</td>\n",
       "      <td>2.835924</td>\n",
       "      <td>2.179917e+05</td>\n",
       "      <td>2845.952381</td>\n",
       "      <td>3.787195e+07</td>\n",
       "    </tr>\n",
       "    <tr>\n",
       "      <td>std</td>\n",
       "      <td>0.953547</td>\n",
       "      <td>19072.580021</td>\n",
       "      <td>7.466359</td>\n",
       "      <td>29.269367</td>\n",
       "      <td>17.568245</td>\n",
       "      <td>17.055722</td>\n",
       "      <td>7.257464</td>\n",
       "      <td>2618.536430</td>\n",
       "      <td>31.237992</td>\n",
       "      <td>1.336162</td>\n",
       "      <td>5.521169e+05</td>\n",
       "      <td>413.199619</td>\n",
       "      <td>1.419670e+08</td>\n",
       "    </tr>\n",
       "    <tr>\n",
       "      <td>min</td>\n",
       "      <td>2.701591</td>\n",
       "      <td>623.000000</td>\n",
       "      <td>49.600000</td>\n",
       "      <td>7.080000</td>\n",
       "      <td>19.300000</td>\n",
       "      <td>25.300000</td>\n",
       "      <td>16.600000</td>\n",
       "      <td>9.580000</td>\n",
       "      <td>2.200000</td>\n",
       "      <td>1.240000</td>\n",
       "      <td>6.000000e+01</td>\n",
       "      <td>1880.000000</td>\n",
       "      <td>1.100000e+04</td>\n",
       "    </tr>\n",
       "    <tr>\n",
       "      <td>25%</td>\n",
       "      <td>4.891838</td>\n",
       "      <td>3297.500000</td>\n",
       "      <td>66.425000</td>\n",
       "      <td>49.225000</td>\n",
       "      <td>77.900000</td>\n",
       "      <td>75.575000</td>\n",
       "      <td>34.000000</td>\n",
       "      <td>614.500000</td>\n",
       "      <td>8.200000</td>\n",
       "      <td>1.790000</td>\n",
       "      <td>1.025000e+04</td>\n",
       "      <td>2570.000000</td>\n",
       "      <td>1.982500e+06</td>\n",
       "    </tr>\n",
       "    <tr>\n",
       "      <td>50%</td>\n",
       "      <td>5.395765</td>\n",
       "      <td>11050.000000</td>\n",
       "      <td>72.550000</td>\n",
       "      <td>87.900000</td>\n",
       "      <td>94.950000</td>\n",
       "      <td>81.573826</td>\n",
       "      <td>38.579375</td>\n",
       "      <td>1565.000000</td>\n",
       "      <td>17.900000</td>\n",
       "      <td>2.415000</td>\n",
       "      <td>7.000000e+04</td>\n",
       "      <td>2845.952381</td>\n",
       "      <td>8.435000e+06</td>\n",
       "    </tr>\n",
       "    <tr>\n",
       "      <td>75%</td>\n",
       "      <td>5.880369</td>\n",
       "      <td>24100.000000</td>\n",
       "      <td>77.400000</td>\n",
       "      <td>97.700000</td>\n",
       "      <td>99.300000</td>\n",
       "      <td>95.375000</td>\n",
       "      <td>42.175000</td>\n",
       "      <td>2425.000000</td>\n",
       "      <td>49.225000</td>\n",
       "      <td>3.687500</td>\n",
       "      <td>2.179917e+05</td>\n",
       "      <td>3140.000000</td>\n",
       "      <td>2.742500e+07</td>\n",
       "    </tr>\n",
       "    <tr>\n",
       "      <td>max</td>\n",
       "      <td>7.603434</td>\n",
       "      <td>120000.000000</td>\n",
       "      <td>83.800000</td>\n",
       "      <td>100.000000</td>\n",
       "      <td>100.000000</td>\n",
       "      <td>100.000000</td>\n",
       "      <td>63.000000</td>\n",
       "      <td>18600.000000</td>\n",
       "      <td>137.000000</td>\n",
       "      <td>7.290000</td>\n",
       "      <td>5.600000e+06</td>\n",
       "      <td>3770.000000</td>\n",
       "      <td>1.400000e+09</td>\n",
       "    </tr>\n",
       "  </tbody>\n",
       "</table>\n",
       "</div>"
      ],
      "text/plain": [
       "        happiness         income     lifeexp  sanitation       water  \\\n",
       "count  194.000000     194.000000  194.000000  194.000000  194.000000   \n",
       "mean     5.395765   17432.849741   71.933690   73.838247   86.329381   \n",
       "std      0.953547   19072.580021    7.466359   29.269367   17.568245   \n",
       "min      2.701591     623.000000   49.600000    7.080000   19.300000   \n",
       "25%      4.891838    3297.500000   66.425000   49.225000   77.900000   \n",
       "50%      5.395765   11050.000000   72.550000   87.900000   94.950000   \n",
       "75%      5.880369   24100.000000   77.400000   97.700000   99.300000   \n",
       "max      7.603434  120000.000000   83.800000  100.000000  100.000000   \n",
       "\n",
       "         literacy  inequality        energy  childmortality   fertility  \\\n",
       "count  194.000000  194.000000    194.000000      194.000000  194.000000   \n",
       "mean    81.573826   38.579375   2183.725325       31.441451    2.835924   \n",
       "std     17.055722    7.257464   2618.536430       31.237992    1.336162   \n",
       "min     25.300000   16.600000      9.580000        2.200000    1.240000   \n",
       "25%     75.575000   34.000000    614.500000        8.200000    1.790000   \n",
       "50%     81.573826   38.579375   1565.000000       17.900000    2.415000   \n",
       "75%     95.375000   42.175000   2425.000000       49.225000    3.687500   \n",
       "max    100.000000   63.000000  18600.000000      137.000000    7.290000   \n",
       "\n",
       "                hiv   foodsupply    population  \n",
       "count  1.940000e+02   194.000000  1.940000e+02  \n",
       "mean   2.179917e+05  2845.952381  3.787195e+07  \n",
       "std    5.521169e+05   413.199619  1.419670e+08  \n",
       "min    6.000000e+01  1880.000000  1.100000e+04  \n",
       "25%    1.025000e+04  2570.000000  1.982500e+06  \n",
       "50%    7.000000e+04  2845.952381  8.435000e+06  \n",
       "75%    2.179917e+05  3140.000000  2.742500e+07  \n",
       "max    5.600000e+06  3770.000000  1.400000e+09  "
      ]
     },
     "execution_count": 19,
     "metadata": {},
     "output_type": "execute_result"
    }
   ],
   "source": [
    "# Procesar las estadísticas descriptivas\n",
    "\n",
    "dataset.describe()"
   ]
  },
  {
   "cell_type": "markdown",
   "metadata": {},
   "source": [
    "### Matriz de Correlación\n",
    "\n",
    "Se puede utilizar una matriz de correlación para detectar las correlaciones entre las características.  "
   ]
  },
  {
   "cell_type": "code",
   "execution_count": 22,
   "metadata": {},
   "outputs": [
    {
     "data": {
      "image/png": "[encoded data removed]",
      "text/plain": [
       "<Figure size 720x720 with 2 Axes>"
      ]
     },
     "metadata": {
      "needs_background": "light"
     },
     "output_type": "display_data"
    }
   ],
   "source": [
    "# Display a correlation matrix\n",
    "\n",
    "correlationMatrix(dataset)"
   ]
  },
  {
   "cell_type": "markdown",
   "metadata": {},
   "source": [
    "Trazar algunos boxplots para entender la distribución de cada característica.  "
   ]
  },
  {
   "cell_type": "code",
   "execution_count": 23,
   "metadata": {},
   "outputs": [
    {
     "data": {
      "image/png": "[encoded data removed]",
      "text/plain": [
       "<Figure size 1440x2520 with 28 Axes>"
      ]
     },
     "metadata": {
      "needs_background": "light"
     },
     "output_type": "display_data"
    }
   ],
   "source": [
    "# Visualizar boxplots para cada característica numérica\n",
    "\n",
    "boxPlotAll(dataset)"
   ]
  },
  {
   "cell_type": "markdown",
   "metadata": {},
   "source": [
    "## Preparar los Datos\n",
    "### Ingeniería de Características\n",
    "\n",
    "Crear la característica \"lifeexp\", la cuál será la característica defina como target (destino)."
   ]
  },
  {
   "cell_type": "code",
   "execution_count": 24,
   "metadata": {},
   "outputs": [],
   "source": [
    "# Bin lifexp en las bandas L, M y H\n",
    "\n",
    "dataset = appendEqualCountsClass(dataset, \"lifeexp_band\", \"lifeexp\", 3, [\"L\",\"M\",\"H\"])"
   ]
  },
  {
   "cell_type": "markdown",
   "metadata": {},
   "source": [
    "Comprobar que tenemos una distribución uniforme de las filas a través de las bandas."
   ]
  },
  {
   "cell_type": "code",
   "execution_count": 25,
   "metadata": {},
   "outputs": [
    {
     "data": {
      "text/plain": [
       "H    65\n",
       "L    65\n",
       "M    64\n",
       "Name: lifeexp_band, dtype: int64"
      ]
     },
     "execution_count": 25,
     "metadata": {},
     "output_type": "execute_result"
    }
   ],
   "source": [
    "# Comprobar cuántas filas hay en cada bin\n",
    "\n",
    "dataset.lifeexp_band.value_counts()"
   ]
  },
  {
   "cell_type": "markdown",
   "metadata": {},
   "source": [
    "Revisar unas cuantas filas están como se esperaba."
   ]
  },
  {
   "cell_type": "code",
   "execution_count": 26,
   "metadata": {},
   "outputs": [
    {
     "data": {
      "text/html": [
       "<div>\n",
       "<style scoped>\n",
       "    .dataframe tbody tr th:only-of-type {\n",
       "        vertical-align: middle;\n",
       "    }\n",
       "\n",
       "    .dataframe tbody tr th {\n",
       "        vertical-align: top;\n",
       "    }\n",
       "\n",
       "    .dataframe thead th {\n",
       "        text-align: right;\n",
       "    }\n",
       "</style>\n",
       "<table border=\"1\" class=\"dataframe\">\n",
       "  <thead>\n",
       "    <tr style=\"text-align: right;\">\n",
       "      <th></th>\n",
       "      <th>lifeexp</th>\n",
       "      <th>lifeexp_band</th>\n",
       "    </tr>\n",
       "  </thead>\n",
       "  <tbody>\n",
       "    <tr>\n",
       "      <td>0</td>\n",
       "      <td>57.9</td>\n",
       "      <td>L</td>\n",
       "    </tr>\n",
       "    <tr>\n",
       "      <td>1</td>\n",
       "      <td>77.6</td>\n",
       "      <td>H</td>\n",
       "    </tr>\n",
       "    <tr>\n",
       "      <td>2</td>\n",
       "      <td>76.5</td>\n",
       "      <td>H</td>\n",
       "    </tr>\n",
       "    <tr>\n",
       "      <td>3</td>\n",
       "      <td>75.4</td>\n",
       "      <td>M</td>\n",
       "    </tr>\n",
       "    <tr>\n",
       "      <td>4</td>\n",
       "      <td>82.6</td>\n",
       "      <td>H</td>\n",
       "    </tr>\n",
       "  </tbody>\n",
       "</table>\n",
       "</div>"
      ],
      "text/plain": [
       "   lifeexp lifeexp_band\n",
       "0     57.9            L\n",
       "1     77.6            H\n",
       "2     76.5            H\n",
       "3     75.4            M\n",
       "4     82.6            H"
      ]
     },
     "execution_count": 26,
     "metadata": {},
     "output_type": "execute_result"
    }
   ],
   "source": [
    "# Comprobar que el binning funciona como se esperaba\n",
    "\n",
    "dataset[['lifeexp','lifeexp_band']].head()"
   ]
  },
  {
   "cell_type": "markdown",
   "metadata": {},
   "source": [
    "### Seleccionar las características dividiéndolas en características de entrada y de destino\n",
    "\n",
    "Decidir cuales columnas usar como entrada y cuales como target (destino).  Recordemos las columnas que tenemos."
   ]
  },
  {
   "cell_type": "code",
   "execution_count": 27,
   "metadata": {},
   "outputs": [
    {
     "data": {
      "text/plain": [
       "Index(['country', 'happiness', 'income', 'lifeexp', 'sanitation', 'water',\n",
       "       'literacy', 'inequality', 'energy', 'childmortality', 'fertility',\n",
       "       'hiv', 'foodsupply', 'population', 'lifeexp_band'],\n",
       "      dtype='object')"
      ]
     },
     "execution_count": 27,
     "metadata": {},
     "output_type": "execute_result"
    }
   ],
   "source": [
    "dataset.columns"
   ]
  },
  {
   "cell_type": "markdown",
   "metadata": {},
   "source": [
    "Seleccionar lifeexp_band como nuestra característica de destino (la que predecimos) y todo lo demás como las características de entrada (las que usaremos para hacer la predicción)."
   ]
  },
  {
   "cell_type": "code",
   "execution_count": 29,
   "metadata": {},
   "outputs": [],
   "source": [
    "# Dividir en características de entrada y de destino\n",
    "\n",
    "y = dataset[\"lifeexp_band\"]\n",
    "X = dataset[['happiness', 'income', 'sanitation', 'water', 'literacy', 'inequality', 'energy', 'childmortality', 'fertility',  'hiv', 'foodsupply', 'population']]"
   ]
  },
  {
   "cell_type": "code",
   "execution_count": 30,
   "metadata": {},
   "outputs": [
    {
     "data": {
      "text/html": [
       "<div>\n",
       "<style scoped>\n",
       "    .dataframe tbody tr th:only-of-type {\n",
       "        vertical-align: middle;\n",
       "    }\n",
       "\n",
       "    .dataframe tbody tr th {\n",
       "        vertical-align: top;\n",
       "    }\n",
       "\n",
       "    .dataframe thead th {\n",
       "        text-align: right;\n",
       "    }\n",
       "</style>\n",
       "<table border=\"1\" class=\"dataframe\">\n",
       "  <thead>\n",
       "    <tr style=\"text-align: right;\">\n",
       "      <th></th>\n",
       "      <th>happiness</th>\n",
       "      <th>income</th>\n",
       "      <th>sanitation</th>\n",
       "      <th>water</th>\n",
       "      <th>literacy</th>\n",
       "      <th>inequality</th>\n",
       "      <th>energy</th>\n",
       "      <th>childmortality</th>\n",
       "      <th>fertility</th>\n",
       "      <th>hiv</th>\n",
       "      <th>foodsupply</th>\n",
       "      <th>population</th>\n",
       "    </tr>\n",
       "  </thead>\n",
       "  <tbody>\n",
       "    <tr>\n",
       "      <td>0</td>\n",
       "      <td>3.982855</td>\n",
       "      <td>1750.0</td>\n",
       "      <td>39.2</td>\n",
       "      <td>63.0</td>\n",
       "      <td>39.000000</td>\n",
       "      <td>38.579375</td>\n",
       "      <td>2183.725325</td>\n",
       "      <td>73.2</td>\n",
       "      <td>4.80</td>\n",
       "      <td>5800.000000</td>\n",
       "      <td>2090.0</td>\n",
       "      <td>33700000</td>\n",
       "    </tr>\n",
       "    <tr>\n",
       "      <td>1</td>\n",
       "      <td>4.606651</td>\n",
       "      <td>11000.0</td>\n",
       "      <td>97.7</td>\n",
       "      <td>91.4</td>\n",
       "      <td>96.800000</td>\n",
       "      <td>29.000000</td>\n",
       "      <td>808.000000</td>\n",
       "      <td>14.0</td>\n",
       "      <td>1.71</td>\n",
       "      <td>217991.677852</td>\n",
       "      <td>3190.0</td>\n",
       "      <td>2920000</td>\n",
       "    </tr>\n",
       "    <tr>\n",
       "      <td>2</td>\n",
       "      <td>6.697131</td>\n",
       "      <td>19100.0</td>\n",
       "      <td>94.8</td>\n",
       "      <td>99.6</td>\n",
       "      <td>97.900000</td>\n",
       "      <td>41.400000</td>\n",
       "      <td>2020.000000</td>\n",
       "      <td>11.6</td>\n",
       "      <td>2.31</td>\n",
       "      <td>95000.000000</td>\n",
       "      <td>3230.0</td>\n",
       "      <td>43400000</td>\n",
       "    </tr>\n",
       "    <tr>\n",
       "      <td>3</td>\n",
       "      <td>4.348320</td>\n",
       "      <td>8180.0</td>\n",
       "      <td>91.6</td>\n",
       "      <td>98.9</td>\n",
       "      <td>99.600000</td>\n",
       "      <td>32.400000</td>\n",
       "      <td>1020.000000</td>\n",
       "      <td>14.0</td>\n",
       "      <td>1.66</td>\n",
       "      <td>3600.000000</td>\n",
       "      <td>2930.0</td>\n",
       "      <td>2920000</td>\n",
       "    </tr>\n",
       "    <tr>\n",
       "      <td>4</td>\n",
       "      <td>7.309061</td>\n",
       "      <td>43800.0</td>\n",
       "      <td>100.0</td>\n",
       "      <td>100.0</td>\n",
       "      <td>81.573826</td>\n",
       "      <td>34.700000</td>\n",
       "      <td>5480.000000</td>\n",
       "      <td>3.8</td>\n",
       "      <td>1.86</td>\n",
       "      <td>22000.000000</td>\n",
       "      <td>3280.0</td>\n",
       "      <td>23800000</td>\n",
       "    </tr>\n",
       "  </tbody>\n",
       "</table>\n",
       "</div>"
      ],
      "text/plain": [
       "   happiness   income  sanitation  water   literacy  inequality       energy  \\\n",
       "0   3.982855   1750.0        39.2   63.0  39.000000   38.579375  2183.725325   \n",
       "1   4.606651  11000.0        97.7   91.4  96.800000   29.000000   808.000000   \n",
       "2   6.697131  19100.0        94.8   99.6  97.900000   41.400000  2020.000000   \n",
       "3   4.348320   8180.0        91.6   98.9  99.600000   32.400000  1020.000000   \n",
       "4   7.309061  43800.0       100.0  100.0  81.573826   34.700000  5480.000000   \n",
       "\n",
       "   childmortality  fertility            hiv  foodsupply  population  \n",
       "0            73.2       4.80    5800.000000      2090.0    33700000  \n",
       "1            14.0       1.71  217991.677852      3190.0     2920000  \n",
       "2            11.6       2.31   95000.000000      3230.0    43400000  \n",
       "3            14.0       1.66    3600.000000      2930.0     2920000  \n",
       "4             3.8       1.86   22000.000000      3280.0    23800000  "
      ]
     },
     "execution_count": 30,
     "metadata": {},
     "output_type": "execute_result"
    }
   ],
   "source": [
    "X.head()"
   ]
  },
  {
   "cell_type": "code",
   "execution_count": 31,
   "metadata": {},
   "outputs": [
    {
     "data": {
      "text/plain": [
       "0    L\n",
       "1    H\n",
       "2    H\n",
       "3    M\n",
       "4    H\n",
       "Name: lifeexp_band, dtype: category\n",
       "Categories (3, object): [L < M < H]"
      ]
     },
     "execution_count": 31,
     "metadata": {},
     "output_type": "execute_result"
    }
   ],
   "source": [
    "y.head()"
   ]
  },
  {
   "cell_type": "markdown",
   "metadata": {},
   "source": [
    "### Características de Escala\n",
    "\n",
    "Cuando ejecuté dataset.describe el rango de valores entre el mínimo y el máximo era diferente para las diferentes características."
   ]
  },
  {
   "cell_type": "code",
   "execution_count": 32,
   "metadata": {},
   "outputs": [
    {
     "data": {
      "text/html": [
       "<div>\n",
       "<style scoped>\n",
       "    .dataframe tbody tr th:only-of-type {\n",
       "        vertical-align: middle;\n",
       "    }\n",
       "\n",
       "    .dataframe tbody tr th {\n",
       "        vertical-align: top;\n",
       "    }\n",
       "\n",
       "    .dataframe thead th {\n",
       "        text-align: right;\n",
       "    }\n",
       "</style>\n",
       "<table border=\"1\" class=\"dataframe\">\n",
       "  <thead>\n",
       "    <tr style=\"text-align: right;\">\n",
       "      <th></th>\n",
       "      <th>happiness</th>\n",
       "      <th>income</th>\n",
       "      <th>sanitation</th>\n",
       "      <th>water</th>\n",
       "      <th>literacy</th>\n",
       "      <th>inequality</th>\n",
       "      <th>energy</th>\n",
       "      <th>childmortality</th>\n",
       "      <th>fertility</th>\n",
       "      <th>hiv</th>\n",
       "      <th>foodsupply</th>\n",
       "      <th>population</th>\n",
       "    </tr>\n",
       "  </thead>\n",
       "  <tbody>\n",
       "    <tr>\n",
       "      <td>count</td>\n",
       "      <td>194.000000</td>\n",
       "      <td>194.000000</td>\n",
       "      <td>194.000000</td>\n",
       "      <td>194.000000</td>\n",
       "      <td>194.000000</td>\n",
       "      <td>194.000000</td>\n",
       "      <td>194.000000</td>\n",
       "      <td>194.000000</td>\n",
       "      <td>194.000000</td>\n",
       "      <td>1.940000e+02</td>\n",
       "      <td>194.000000</td>\n",
       "      <td>1.940000e+02</td>\n",
       "    </tr>\n",
       "    <tr>\n",
       "      <td>mean</td>\n",
       "      <td>5.395765</td>\n",
       "      <td>17432.849741</td>\n",
       "      <td>73.838247</td>\n",
       "      <td>86.329381</td>\n",
       "      <td>81.573826</td>\n",
       "      <td>38.579375</td>\n",
       "      <td>2183.725325</td>\n",
       "      <td>31.441451</td>\n",
       "      <td>2.835924</td>\n",
       "      <td>2.179917e+05</td>\n",
       "      <td>2845.952381</td>\n",
       "      <td>3.787195e+07</td>\n",
       "    </tr>\n",
       "    <tr>\n",
       "      <td>std</td>\n",
       "      <td>0.953547</td>\n",
       "      <td>19072.580021</td>\n",
       "      <td>29.269367</td>\n",
       "      <td>17.568245</td>\n",
       "      <td>17.055722</td>\n",
       "      <td>7.257464</td>\n",
       "      <td>2618.536430</td>\n",
       "      <td>31.237992</td>\n",
       "      <td>1.336162</td>\n",
       "      <td>5.521169e+05</td>\n",
       "      <td>413.199619</td>\n",
       "      <td>1.419670e+08</td>\n",
       "    </tr>\n",
       "    <tr>\n",
       "      <td>min</td>\n",
       "      <td>2.701591</td>\n",
       "      <td>623.000000</td>\n",
       "      <td>7.080000</td>\n",
       "      <td>19.300000</td>\n",
       "      <td>25.300000</td>\n",
       "      <td>16.600000</td>\n",
       "      <td>9.580000</td>\n",
       "      <td>2.200000</td>\n",
       "      <td>1.240000</td>\n",
       "      <td>6.000000e+01</td>\n",
       "      <td>1880.000000</td>\n",
       "      <td>1.100000e+04</td>\n",
       "    </tr>\n",
       "    <tr>\n",
       "      <td>25%</td>\n",
       "      <td>4.891838</td>\n",
       "      <td>3297.500000</td>\n",
       "      <td>49.225000</td>\n",
       "      <td>77.900000</td>\n",
       "      <td>75.575000</td>\n",
       "      <td>34.000000</td>\n",
       "      <td>614.500000</td>\n",
       "      <td>8.200000</td>\n",
       "      <td>1.790000</td>\n",
       "      <td>1.025000e+04</td>\n",
       "      <td>2570.000000</td>\n",
       "      <td>1.982500e+06</td>\n",
       "    </tr>\n",
       "    <tr>\n",
       "      <td>50%</td>\n",
       "      <td>5.395765</td>\n",
       "      <td>11050.000000</td>\n",
       "      <td>87.900000</td>\n",
       "      <td>94.950000</td>\n",
       "      <td>81.573826</td>\n",
       "      <td>38.579375</td>\n",
       "      <td>1565.000000</td>\n",
       "      <td>17.900000</td>\n",
       "      <td>2.415000</td>\n",
       "      <td>7.000000e+04</td>\n",
       "      <td>2845.952381</td>\n",
       "      <td>8.435000e+06</td>\n",
       "    </tr>\n",
       "    <tr>\n",
       "      <td>75%</td>\n",
       "      <td>5.880369</td>\n",
       "      <td>24100.000000</td>\n",
       "      <td>97.700000</td>\n",
       "      <td>99.300000</td>\n",
       "      <td>95.375000</td>\n",
       "      <td>42.175000</td>\n",
       "      <td>2425.000000</td>\n",
       "      <td>49.225000</td>\n",
       "      <td>3.687500</td>\n",
       "      <td>2.179917e+05</td>\n",
       "      <td>3140.000000</td>\n",
       "      <td>2.742500e+07</td>\n",
       "    </tr>\n",
       "    <tr>\n",
       "      <td>max</td>\n",
       "      <td>7.603434</td>\n",
       "      <td>120000.000000</td>\n",
       "      <td>100.000000</td>\n",
       "      <td>100.000000</td>\n",
       "      <td>100.000000</td>\n",
       "      <td>63.000000</td>\n",
       "      <td>18600.000000</td>\n",
       "      <td>137.000000</td>\n",
       "      <td>7.290000</td>\n",
       "      <td>5.600000e+06</td>\n",
       "      <td>3770.000000</td>\n",
       "      <td>1.400000e+09</td>\n",
       "    </tr>\n",
       "  </tbody>\n",
       "</table>\n",
       "</div>"
      ],
      "text/plain": [
       "        happiness         income  sanitation       water    literacy  \\\n",
       "count  194.000000     194.000000  194.000000  194.000000  194.000000   \n",
       "mean     5.395765   17432.849741   73.838247   86.329381   81.573826   \n",
       "std      0.953547   19072.580021   29.269367   17.568245   17.055722   \n",
       "min      2.701591     623.000000    7.080000   19.300000   25.300000   \n",
       "25%      4.891838    3297.500000   49.225000   77.900000   75.575000   \n",
       "50%      5.395765   11050.000000   87.900000   94.950000   81.573826   \n",
       "75%      5.880369   24100.000000   97.700000   99.300000   95.375000   \n",
       "max      7.603434  120000.000000  100.000000  100.000000  100.000000   \n",
       "\n",
       "       inequality        energy  childmortality   fertility           hiv  \\\n",
       "count  194.000000    194.000000      194.000000  194.000000  1.940000e+02   \n",
       "mean    38.579375   2183.725325       31.441451    2.835924  2.179917e+05   \n",
       "std      7.257464   2618.536430       31.237992    1.336162  5.521169e+05   \n",
       "min     16.600000      9.580000        2.200000    1.240000  6.000000e+01   \n",
       "25%     34.000000    614.500000        8.200000    1.790000  1.025000e+04   \n",
       "50%     38.579375   1565.000000       17.900000    2.415000  7.000000e+04   \n",
       "75%     42.175000   2425.000000       49.225000    3.687500  2.179917e+05   \n",
       "max     63.000000  18600.000000      137.000000    7.290000  5.600000e+06   \n",
       "\n",
       "        foodsupply    population  \n",
       "count   194.000000  1.940000e+02  \n",
       "mean   2845.952381  3.787195e+07  \n",
       "std     413.199619  1.419670e+08  \n",
       "min    1880.000000  1.100000e+04  \n",
       "25%    2570.000000  1.982500e+06  \n",
       "50%    2845.952381  8.435000e+06  \n",
       "75%    3140.000000  2.742500e+07  \n",
       "max    3770.000000  1.400000e+09  "
      ]
     },
     "execution_count": 32,
     "metadata": {},
     "output_type": "execute_result"
    }
   ],
   "source": [
    "X.describe()"
   ]
  },
  {
   "cell_type": "markdown",
   "metadata": {},
   "source": [
    "Muchos algoritmos no funcionarán al máximo cuando se les presenten tales datos, por lo que los escalaré para que todos estén en el rango de 0 a 1."
   ]
  },
  {
   "cell_type": "code",
   "execution_count": 34,
   "metadata": {},
   "outputs": [],
   "source": [
    "# Reescalar los datos\n",
    "\n",
    "scaler = MinMaxScaler(feature_range=(0,1))\n",
    "rescaledX = scaler.fit_transform(X)\n",
    "\n",
    "# Convertir X de nuevo en un DataFrame de Pandas por conveniencia\n",
    "\n",
    "X = pd.DataFrame(rescaledX, columns=X.columns)"
   ]
  },
  {
   "cell_type": "markdown",
   "metadata": {},
   "source": [
    "Ahora se puede ver que cada característica tiene un mínimo de 0 y un máximo de 1:."
   ]
  },
  {
   "cell_type": "code",
   "execution_count": 35,
   "metadata": {},
   "outputs": [
    {
     "data": {
      "text/html": [
       "<div>\n",
       "<style scoped>\n",
       "    .dataframe tbody tr th:only-of-type {\n",
       "        vertical-align: middle;\n",
       "    }\n",
       "\n",
       "    .dataframe tbody tr th {\n",
       "        vertical-align: top;\n",
       "    }\n",
       "\n",
       "    .dataframe thead th {\n",
       "        text-align: right;\n",
       "    }\n",
       "</style>\n",
       "<table border=\"1\" class=\"dataframe\">\n",
       "  <thead>\n",
       "    <tr style=\"text-align: right;\">\n",
       "      <th></th>\n",
       "      <th>happiness</th>\n",
       "      <th>income</th>\n",
       "      <th>sanitation</th>\n",
       "      <th>water</th>\n",
       "      <th>literacy</th>\n",
       "      <th>inequality</th>\n",
       "      <th>energy</th>\n",
       "      <th>childmortality</th>\n",
       "      <th>fertility</th>\n",
       "      <th>hiv</th>\n",
       "      <th>foodsupply</th>\n",
       "      <th>population</th>\n",
       "    </tr>\n",
       "  </thead>\n",
       "  <tbody>\n",
       "    <tr>\n",
       "      <td>count</td>\n",
       "      <td>194.000000</td>\n",
       "      <td>194.000000</td>\n",
       "      <td>194.000000</td>\n",
       "      <td>194.000000</td>\n",
       "      <td>194.000000</td>\n",
       "      <td>194.000000</td>\n",
       "      <td>194.000000</td>\n",
       "      <td>194.000000</td>\n",
       "      <td>194.000000</td>\n",
       "      <td>194.000000</td>\n",
       "      <td>194.000000</td>\n",
       "      <td>194.000000</td>\n",
       "    </tr>\n",
       "    <tr>\n",
       "      <td>mean</td>\n",
       "      <td>0.549625</td>\n",
       "      <td>0.140813</td>\n",
       "      <td>0.718449</td>\n",
       "      <td>0.830600</td>\n",
       "      <td>0.753331</td>\n",
       "      <td>0.473693</td>\n",
       "      <td>0.116950</td>\n",
       "      <td>0.216925</td>\n",
       "      <td>0.263789</td>\n",
       "      <td>0.038917</td>\n",
       "      <td>0.511086</td>\n",
       "      <td>0.027044</td>\n",
       "    </tr>\n",
       "    <tr>\n",
       "      <td>std</td>\n",
       "      <td>0.194528</td>\n",
       "      <td>0.159768</td>\n",
       "      <td>0.314995</td>\n",
       "      <td>0.217698</td>\n",
       "      <td>0.228323</td>\n",
       "      <td>0.156411</td>\n",
       "      <td>0.140854</td>\n",
       "      <td>0.231736</td>\n",
       "      <td>0.220853</td>\n",
       "      <td>0.098593</td>\n",
       "      <td>0.218624</td>\n",
       "      <td>0.101406</td>\n",
       "    </tr>\n",
       "    <tr>\n",
       "      <td>min</td>\n",
       "      <td>0.000000</td>\n",
       "      <td>0.000000</td>\n",
       "      <td>0.000000</td>\n",
       "      <td>0.000000</td>\n",
       "      <td>0.000000</td>\n",
       "      <td>0.000000</td>\n",
       "      <td>0.000000</td>\n",
       "      <td>0.000000</td>\n",
       "      <td>0.000000</td>\n",
       "      <td>0.000000</td>\n",
       "      <td>0.000000</td>\n",
       "      <td>0.000000</td>\n",
       "    </tr>\n",
       "    <tr>\n",
       "      <td>25%</td>\n",
       "      <td>0.446821</td>\n",
       "      <td>0.022404</td>\n",
       "      <td>0.453562</td>\n",
       "      <td>0.726146</td>\n",
       "      <td>0.673025</td>\n",
       "      <td>0.375000</td>\n",
       "      <td>0.032539</td>\n",
       "      <td>0.044510</td>\n",
       "      <td>0.090909</td>\n",
       "      <td>0.001820</td>\n",
       "      <td>0.365079</td>\n",
       "      <td>0.001408</td>\n",
       "    </tr>\n",
       "    <tr>\n",
       "      <td>50%</td>\n",
       "      <td>0.549625</td>\n",
       "      <td>0.087345</td>\n",
       "      <td>0.869780</td>\n",
       "      <td>0.937423</td>\n",
       "      <td>0.753331</td>\n",
       "      <td>0.473693</td>\n",
       "      <td>0.083668</td>\n",
       "      <td>0.116469</td>\n",
       "      <td>0.194215</td>\n",
       "      <td>0.012489</td>\n",
       "      <td>0.511086</td>\n",
       "      <td>0.006017</td>\n",
       "    </tr>\n",
       "    <tr>\n",
       "      <td>75%</td>\n",
       "      <td>0.648486</td>\n",
       "      <td>0.196663</td>\n",
       "      <td>0.975248</td>\n",
       "      <td>0.991326</td>\n",
       "      <td>0.938086</td>\n",
       "      <td>0.551185</td>\n",
       "      <td>0.129928</td>\n",
       "      <td>0.348850</td>\n",
       "      <td>0.404545</td>\n",
       "      <td>0.038917</td>\n",
       "      <td>0.666667</td>\n",
       "      <td>0.019582</td>\n",
       "    </tr>\n",
       "    <tr>\n",
       "      <td>max</td>\n",
       "      <td>1.000000</td>\n",
       "      <td>1.000000</td>\n",
       "      <td>1.000000</td>\n",
       "      <td>1.000000</td>\n",
       "      <td>1.000000</td>\n",
       "      <td>1.000000</td>\n",
       "      <td>1.000000</td>\n",
       "      <td>1.000000</td>\n",
       "      <td>1.000000</td>\n",
       "      <td>1.000000</td>\n",
       "      <td>1.000000</td>\n",
       "      <td>1.000000</td>\n",
       "    </tr>\n",
       "  </tbody>\n",
       "</table>\n",
       "</div>"
      ],
      "text/plain": [
       "        happiness      income  sanitation       water    literacy  inequality  \\\n",
       "count  194.000000  194.000000  194.000000  194.000000  194.000000  194.000000   \n",
       "mean     0.549625    0.140813    0.718449    0.830600    0.753331    0.473693   \n",
       "std      0.194528    0.159768    0.314995    0.217698    0.228323    0.156411   \n",
       "min      0.000000    0.000000    0.000000    0.000000    0.000000    0.000000   \n",
       "25%      0.446821    0.022404    0.453562    0.726146    0.673025    0.375000   \n",
       "50%      0.549625    0.087345    0.869780    0.937423    0.753331    0.473693   \n",
       "75%      0.648486    0.196663    0.975248    0.991326    0.938086    0.551185   \n",
       "max      1.000000    1.000000    1.000000    1.000000    1.000000    1.000000   \n",
       "\n",
       "           energy  childmortality   fertility         hiv  foodsupply  \\\n",
       "count  194.000000      194.000000  194.000000  194.000000  194.000000   \n",
       "mean     0.116950        0.216925    0.263789    0.038917    0.511086   \n",
       "std      0.140854        0.231736    0.220853    0.098593    0.218624   \n",
       "min      0.000000        0.000000    0.000000    0.000000    0.000000   \n",
       "25%      0.032539        0.044510    0.090909    0.001820    0.365079   \n",
       "50%      0.083668        0.116469    0.194215    0.012489    0.511086   \n",
       "75%      0.129928        0.348850    0.404545    0.038917    0.666667   \n",
       "max      1.000000        1.000000    1.000000    1.000000    1.000000   \n",
       "\n",
       "       population  \n",
       "count  194.000000  \n",
       "mean     0.027044  \n",
       "std      0.101406  \n",
       "min      0.000000  \n",
       "25%      0.001408  \n",
       "50%      0.006017  \n",
       "75%      0.019582  \n",
       "max      1.000000  "
      ]
     },
     "execution_count": 35,
     "metadata": {},
     "output_type": "execute_result"
    }
   ],
   "source": [
    "X.describe()"
   ]
  },
  {
   "cell_type": "markdown",
   "metadata": {},
   "source": [
    "## Modelos de Construcción\n",
    "Construir modelos tanto decision trees como logistic regression y para definir cual tiene un mejor rendimiento.\n",
    "\n",
    "\n",
    "### Dividir en Conjuntos de Prueba y Entrenamiento\n",
    "Dividir los conjuntos X e Y en conjuntos de entrenamiento y de prueba."
   ]
  },
  {
   "cell_type": "code",
   "execution_count": 36,
   "metadata": {},
   "outputs": [],
   "source": [
    "# Dividir en sets de prueba y entrenamiento\n",
    "\n",
    "test_size = 0.33\n",
    "seed = 1\n",
    "X_train, X_test, Y_train, Y_test =  train_test_split(X, y, test_size=test_size, random_state=seed)"
   ]
  },
  {
   "cell_type": "markdown",
   "metadata": {},
   "source": [
    "### Crear Múltiples Modelos y Ajustarlos\n",
    "Construir modelos y ajustarlos (fit) con los datos de entrenamiento."
   ]
  },
  {
   "cell_type": "code",
   "execution_count": 37,
   "metadata": {},
   "outputs": [
    {
     "data": {
      "text/plain": [
       "DecisionTreeClassifier(class_weight=None, criterion='gini', max_depth=None,\n",
       "                       max_features=None, max_leaf_nodes=None,\n",
       "                       min_impurity_decrease=0.0, min_impurity_split=None,\n",
       "                       min_samples_leaf=1, min_samples_split=2,\n",
       "                       min_weight_fraction_leaf=0.0, presort=False,\n",
       "                       random_state=None, splitter='best')"
      ]
     },
     "execution_count": 37,
     "metadata": {},
     "output_type": "execute_result"
    }
   ],
   "source": [
    "# Construir un modelo de decision tree\n",
    "\n",
    "model_dt = DecisionTreeClassifier()\n",
    "model_dt.fit(X_train, Y_train)"
   ]
  },
  {
   "cell_type": "code",
   "execution_count": 38,
   "metadata": {},
   "outputs": [
    {
     "data": {
      "text/plain": [
       "LogisticRegression(C=1.0, class_weight=None, dual=False, fit_intercept=True,\n",
       "                   intercept_scaling=1, l1_ratio=None, max_iter=100,\n",
       "                   multi_class='auto', n_jobs=None, penalty='l2',\n",
       "                   random_state=None, solver='lbfgs', tol=0.0001, verbose=0,\n",
       "                   warm_start=False)"
      ]
     },
     "execution_count": 38,
     "metadata": {},
     "output_type": "execute_result"
    }
   ],
   "source": [
    "# Construir un modelo de logistic regression\n",
    "\n",
    "model_lr = LogisticRegression(solver='lbfgs', multi_class='auto')\n",
    "model_lr.fit(X_train, Y_train)"
   ]
  },
  {
   "cell_type": "markdown",
   "metadata": {},
   "source": [
    "### Revisar los Modelos\n",
    "\n",
    "Pasar los datos de entrenamiento a través de ambos modelos y para validar el rendimiento de los mismos."
   ]
  },
  {
   "cell_type": "code",
   "execution_count": 39,
   "metadata": {},
   "outputs": [
    {
     "name": "stdout",
     "output_type": "stream",
     "text": [
      "DecisionTreeClassifier 1.0\n"
     ]
    }
   ],
   "source": [
    "# Verificar el rendimiento del modelo con los datos de entrenamiento\n",
    "\n",
    "predictions_dt = model_dt.predict(X_train)\n",
    "print(\"DecisionTreeClassifier\", accuracy_score(Y_train, predictions_dt))"
   ]
  },
  {
   "cell_type": "code",
   "execution_count": 40,
   "metadata": {},
   "outputs": [
    {
     "name": "stdout",
     "output_type": "stream",
     "text": [
      "LogisticRegression 0.8217054263565892\n"
     ]
    }
   ],
   "source": [
    "# Compruebe el rendimiento del modelo logistic regression con los datos de entrenamiento\n",
    "\n",
    "predictions_lr = model_lr.predict(X_train)\n",
    "print(\"LogisticRegression\", accuracy_score(Y_train, predictions_lr))"
   ]
  },
  {
   "cell_type": "markdown",
   "metadata": {},
   "source": [
    "## Evaluar los Modelos\n",
    "Evaludar los modelos probándolos con el set de pruebas."
   ]
  },
  {
   "cell_type": "code",
   "execution_count": 41,
   "metadata": {},
   "outputs": [
    {
     "name": "stdout",
     "output_type": "stream",
     "text": [
      "DecisionTreeClassifier 0.676923076923077\n"
     ]
    }
   ],
   "source": [
    "predictions_dt = model_dt.predict(X_test)\n",
    "print(\"DecisionTreeClassifier\", accuracy_score(Y_test, predictions_dt))"
   ]
  },
  {
   "cell_type": "code",
   "execution_count": 42,
   "metadata": {},
   "outputs": [
    {
     "name": "stdout",
     "output_type": "stream",
     "text": [
      "LogisticRegression 0.7230769230769231\n"
     ]
    }
   ],
   "source": [
    "predictions_lr = model_lr.predict(X_test)\n",
    "print(\"LogisticRegression\", accuracy_score(Y_test, predictions_lr))"
   ]
  },
  {
   "cell_type": "markdown",
   "metadata": {},
   "source": [
    "### Elegir el Modelo con Mejor Rendimiento\n",
    "El modelo logistic regression será el modelo elegido ya que fue el que tuvo mejor rendimiento."
   ]
  },
  {
   "cell_type": "code",
   "execution_count": 43,
   "metadata": {},
   "outputs": [],
   "source": [
    "model = model_lr"
   ]
  },
  {
   "cell_type": "markdown",
   "metadata": {},
   "source": [
    "## Inspeccionar los Modelos\n",
    "Aquí está el árbol de decisiones creado para el presente proyecto."
   ]
  },
  {
   "cell_type": "code",
   "execution_count": 44,
   "metadata": {},
   "outputs": [
    {
     "data": {
      "image/svg+xml": [
       "<?xml version=\"1.0\" encoding=\"UTF-8\" standalone=\"no\"?>\r\n",
       "<!DOCTYPE svg PUBLIC \"-//W3C//DTD SVG 1.1//EN\"\r\n",
       " \"http://www.w3.org/Graphics/SVG/1.1/DTD/svg11.dtd\">\r\n",
       "<!-- Generated by graphviz version 2.38.0 (20140413.2041)\r\n",
       " -->\r\n",
       "<!-- Title: Tree Pages: 1 -->\r\n",
       "<svg width=\"1413pt\" height=\"1028pt\"\r\n",
       " viewBox=\"0.00 0.00 1413.00 1028.00\" xmlns=\"http://www.w3.org/2000/svg\" xmlns:xlink=\"http://www.w3.org/1999/xlink\">\r\n",
       "<g id=\"graph0\" class=\"graph\" transform=\"scale(1 1) rotate(0) translate(4 1024)\">\r\n",
       "<title>Tree</title>\r\n",
       "<polygon fill=\"white\" stroke=\"none\" points=\"-4,4 -4,-1024 1409,-1024 1409,4 -4,4\"/>\r\n",
       "<!-- 0 -->\r\n",
       "<g id=\"node1\" class=\"node\"><title>0</title>\r\n",
       "<path fill=\"#effdf5\" stroke=\"black\" d=\"M605,-1020C605,-1020 492,-1020 492,-1020 486,-1020 480,-1014 480,-1008 480,-1008 480,-949 480,-949 480,-943 486,-937 492,-937 492,-937 605,-937 605,-937 611,-937 617,-943 617,-949 617,-949 617,-1008 617,-1008 617,-1014 611,-1020 605,-1020\"/>\r\n",
       "<text text-anchor=\"start\" x=\"492.5\" y=\"-1004.8\" font-family=\"Helvetica,sans-Serif\" font-size=\"14.00\">sanitation ≤ 0.728</text>\r\n",
       "<text text-anchor=\"start\" x=\"511\" y=\"-989.8\" font-family=\"Helvetica,sans-Serif\" font-size=\"14.00\">gini = 0.663</text>\r\n",
       "<text text-anchor=\"start\" x=\"501\" y=\"-974.8\" font-family=\"Helvetica,sans-Serif\" font-size=\"14.00\">samples = 129</text>\r\n",
       "<text text-anchor=\"start\" x=\"488\" y=\"-959.8\" font-family=\"Helvetica,sans-Serif\" font-size=\"14.00\">value = [38, 49, 42]</text>\r\n",
       "<text text-anchor=\"start\" x=\"519.5\" y=\"-944.8\" font-family=\"Helvetica,sans-Serif\" font-size=\"14.00\">class = L</text>\r\n",
       "</g>\r\n",
       "<!-- 1 -->\r\n",
       "<g id=\"node2\" class=\"node\"><title>1</title>\r\n",
       "<path fill=\"#53e891\" stroke=\"black\" d=\"M522,-901C522,-901 425,-901 425,-901 419,-901 413,-895 413,-889 413,-889 413,-830 413,-830 413,-824 419,-818 425,-818 425,-818 522,-818 522,-818 528,-818 534,-824 534,-830 534,-830 534,-889 534,-889 534,-895 528,-901 522,-901\"/>\r\n",
       "<text text-anchor=\"start\" x=\"430.5\" y=\"-885.8\" font-family=\"Helvetica,sans-Serif\" font-size=\"14.00\">water ≤ 0.897</text>\r\n",
       "<text text-anchor=\"start\" x=\"436\" y=\"-870.8\" font-family=\"Helvetica,sans-Serif\" font-size=\"14.00\">gini = 0.204</text>\r\n",
       "<text text-anchor=\"start\" x=\"430\" y=\"-855.8\" font-family=\"Helvetica,sans-Serif\" font-size=\"14.00\">samples = 52</text>\r\n",
       "<text text-anchor=\"start\" x=\"421\" y=\"-840.8\" font-family=\"Helvetica,sans-Serif\" font-size=\"14.00\">value = [0, 46, 6]</text>\r\n",
       "<text text-anchor=\"start\" x=\"444.5\" y=\"-825.8\" font-family=\"Helvetica,sans-Serif\" font-size=\"14.00\">class = L</text>\r\n",
       "</g>\r\n",
       "<!-- 0&#45;&gt;1 -->\r\n",
       "<g id=\"edge1\" class=\"edge\"><title>0&#45;&gt;1</title>\r\n",
       "<path fill=\"none\" stroke=\"black\" d=\"M522.479,-936.907C516.836,-928.105 510.81,-918.703 504.982,-909.612\"/>\r\n",
       "<polygon fill=\"black\" stroke=\"black\" points=\"507.818,-907.551 499.475,-901.021 501.925,-911.328 507.818,-907.551\"/>\r\n",
       "<text text-anchor=\"middle\" x=\"494.132\" y=\"-921.743\" font-family=\"Helvetica,sans-Serif\" font-size=\"14.00\">True</text>\r\n",
       "</g>\r\n",
       "<!-- 10 -->\r\n",
       "<g id=\"node11\" class=\"node\"><title>10</title>\r\n",
       "<path fill=\"#fef9f5\" stroke=\"black\" d=\"M679.5,-901C679.5,-901 569.5,-901 569.5,-901 563.5,-901 557.5,-895 557.5,-889 557.5,-889 557.5,-830 557.5,-830 557.5,-824 563.5,-818 569.5,-818 569.5,-818 679.5,-818 679.5,-818 685.5,-818 691.5,-824 691.5,-830 691.5,-830 691.5,-889 691.5,-889 691.5,-895 685.5,-901 679.5,-901\"/>\r\n",
       "<text text-anchor=\"start\" x=\"565.5\" y=\"-885.8\" font-family=\"Helvetica,sans-Serif\" font-size=\"14.00\">happiness ≤ 0.744</text>\r\n",
       "<text text-anchor=\"start\" x=\"587\" y=\"-870.8\" font-family=\"Helvetica,sans-Serif\" font-size=\"14.00\">gini = 0.536</text>\r\n",
       "<text text-anchor=\"start\" x=\"581\" y=\"-855.8\" font-family=\"Helvetica,sans-Serif\" font-size=\"14.00\">samples = 77</text>\r\n",
       "<text text-anchor=\"start\" x=\"568\" y=\"-840.8\" font-family=\"Helvetica,sans-Serif\" font-size=\"14.00\">value = [38, 3, 36]</text>\r\n",
       "<text text-anchor=\"start\" x=\"595\" y=\"-825.8\" font-family=\"Helvetica,sans-Serif\" font-size=\"14.00\">class = H</text>\r\n",
       "</g>\r\n",
       "<!-- 0&#45;&gt;10 -->\r\n",
       "<g id=\"edge10\" class=\"edge\"><title>0&#45;&gt;10</title>\r\n",
       "<path fill=\"none\" stroke=\"black\" d=\"M574.868,-936.907C580.586,-928.105 586.693,-918.703 592.598,-909.612\"/>\r\n",
       "<polygon fill=\"black\" stroke=\"black\" points=\"595.667,-911.313 598.179,-901.021 589.796,-907.5 595.667,-911.313\"/>\r\n",
       "<text text-anchor=\"middle\" x=\"603.374\" y=\"-921.775\" font-family=\"Helvetica,sans-Serif\" font-size=\"14.00\">False</text>\r\n",
       "</g>\r\n",
       "<!-- 2 -->\r\n",
       "<g id=\"node3\" class=\"node\"><title>2</title>\r\n",
       "<path fill=\"#42e686\" stroke=\"black\" d=\"M377,-782C377,-782 274,-782 274,-782 268,-782 262,-776 262,-770 262,-770 262,-711 262,-711 262,-705 268,-699 274,-699 274,-699 377,-699 377,-699 383,-699 389,-705 389,-711 389,-711 389,-770 389,-770 389,-776 383,-782 377,-782\"/>\r\n",
       "<text text-anchor=\"start\" x=\"270\" y=\"-766.8\" font-family=\"Helvetica,sans-Serif\" font-size=\"14.00\">inequality ≤ 0.319</text>\r\n",
       "<text text-anchor=\"start\" x=\"292\" y=\"-751.8\" font-family=\"Helvetica,sans-Serif\" font-size=\"14.00\">gini = 0.08</text>\r\n",
       "<text text-anchor=\"start\" x=\"282\" y=\"-736.8\" font-family=\"Helvetica,sans-Serif\" font-size=\"14.00\">samples = 48</text>\r\n",
       "<text text-anchor=\"start\" x=\"273\" y=\"-721.8\" font-family=\"Helvetica,sans-Serif\" font-size=\"14.00\">value = [0, 46, 2]</text>\r\n",
       "<text text-anchor=\"start\" x=\"296.5\" y=\"-706.8\" font-family=\"Helvetica,sans-Serif\" font-size=\"14.00\">class = L</text>\r\n",
       "</g>\r\n",
       "<!-- 1&#45;&gt;2 -->\r\n",
       "<g id=\"edge2\" class=\"edge\"><title>1&#45;&gt;2</title>\r\n",
       "<path fill=\"none\" stroke=\"black\" d=\"M422.152,-817.907C410.099,-808.379 397.158,-798.148 384.788,-788.37\"/>\r\n",
       "<polygon fill=\"black\" stroke=\"black\" points=\"386.772,-785.477 376.757,-782.021 382.431,-790.968 386.772,-785.477\"/>\r\n",
       "</g>\r\n",
       "<!-- 9 -->\r\n",
       "<g id=\"node10\" class=\"node\"><title>9</title>\r\n",
       "<path fill=\"#8139e5\" stroke=\"black\" d=\"M518,-774.5C518,-774.5 429,-774.5 429,-774.5 423,-774.5 417,-768.5 417,-762.5 417,-762.5 417,-718.5 417,-718.5 417,-712.5 423,-706.5 429,-706.5 429,-706.5 518,-706.5 518,-706.5 524,-706.5 530,-712.5 530,-718.5 530,-718.5 530,-762.5 530,-762.5 530,-768.5 524,-774.5 518,-774.5\"/>\r\n",
       "<text text-anchor=\"start\" x=\"444.5\" y=\"-759.3\" font-family=\"Helvetica,sans-Serif\" font-size=\"14.00\">gini = 0.0</text>\r\n",
       "<text text-anchor=\"start\" x=\"434\" y=\"-744.3\" font-family=\"Helvetica,sans-Serif\" font-size=\"14.00\">samples = 4</text>\r\n",
       "<text text-anchor=\"start\" x=\"425\" y=\"-729.3\" font-family=\"Helvetica,sans-Serif\" font-size=\"14.00\">value = [0, 0, 4]</text>\r\n",
       "<text text-anchor=\"start\" x=\"443\" y=\"-714.3\" font-family=\"Helvetica,sans-Serif\" font-size=\"14.00\">class = M</text>\r\n",
       "</g>\r\n",
       "<!-- 1&#45;&gt;9 -->\r\n",
       "<g id=\"edge9\" class=\"edge\"><title>1&#45;&gt;9</title>\r\n",
       "<path fill=\"none\" stroke=\"black\" d=\"M473.5,-817.907C473.5,-807.204 473.5,-795.615 473.5,-784.776\"/>\r\n",
       "<polygon fill=\"black\" stroke=\"black\" points=\"477,-784.667 473.5,-774.667 470,-784.667 477,-784.667\"/>\r\n",
       "</g>\r\n",
       "<!-- 3 -->\r\n",
       "<g id=\"node4\" class=\"node\"><title>3</title>\r\n",
       "<path fill=\"#8139e5\" stroke=\"black\" d=\"M220,-655.5C220,-655.5 131,-655.5 131,-655.5 125,-655.5 119,-649.5 119,-643.5 119,-643.5 119,-599.5 119,-599.5 119,-593.5 125,-587.5 131,-587.5 131,-587.5 220,-587.5 220,-587.5 226,-587.5 232,-593.5 232,-599.5 232,-599.5 232,-643.5 232,-643.5 232,-649.5 226,-655.5 220,-655.5\"/>\r\n",
       "<text text-anchor=\"start\" x=\"146.5\" y=\"-640.3\" font-family=\"Helvetica,sans-Serif\" font-size=\"14.00\">gini = 0.0</text>\r\n",
       "<text text-anchor=\"start\" x=\"136\" y=\"-625.3\" font-family=\"Helvetica,sans-Serif\" font-size=\"14.00\">samples = 1</text>\r\n",
       "<text text-anchor=\"start\" x=\"127\" y=\"-610.3\" font-family=\"Helvetica,sans-Serif\" font-size=\"14.00\">value = [0, 0, 1]</text>\r\n",
       "<text text-anchor=\"start\" x=\"145\" y=\"-595.3\" font-family=\"Helvetica,sans-Serif\" font-size=\"14.00\">class = M</text>\r\n",
       "</g>\r\n",
       "<!-- 2&#45;&gt;3 -->\r\n",
       "<g id=\"edge3\" class=\"edge\"><title>2&#45;&gt;3</title>\r\n",
       "<path fill=\"none\" stroke=\"black\" d=\"M273.458,-698.907C258.18,-686.99 241.494,-673.976 226.295,-662.12\"/>\r\n",
       "<polygon fill=\"black\" stroke=\"black\" points=\"228.059,-659.058 218.022,-655.667 223.754,-664.577 228.059,-659.058\"/>\r\n",
       "</g>\r\n",
       "<!-- 4 -->\r\n",
       "<g id=\"node5\" class=\"node\"><title>4</title>\r\n",
       "<path fill=\"#3de684\" stroke=\"black\" d=\"M388.5,-663C388.5,-663 262.5,-663 262.5,-663 256.5,-663 250.5,-657 250.5,-651 250.5,-651 250.5,-592 250.5,-592 250.5,-586 256.5,-580 262.5,-580 262.5,-580 388.5,-580 388.5,-580 394.5,-580 400.5,-586 400.5,-592 400.5,-592 400.5,-651 400.5,-651 400.5,-657 394.5,-663 388.5,-663\"/>\r\n",
       "<text text-anchor=\"start\" x=\"258.5\" y=\"-647.8\" font-family=\"Helvetica,sans-Serif\" font-size=\"14.00\">childmortality ≤ 0.164</text>\r\n",
       "<text text-anchor=\"start\" x=\"288\" y=\"-632.8\" font-family=\"Helvetica,sans-Serif\" font-size=\"14.00\">gini = 0.042</text>\r\n",
       "<text text-anchor=\"start\" x=\"282\" y=\"-617.8\" font-family=\"Helvetica,sans-Serif\" font-size=\"14.00\">samples = 47</text>\r\n",
       "<text text-anchor=\"start\" x=\"273\" y=\"-602.8\" font-family=\"Helvetica,sans-Serif\" font-size=\"14.00\">value = [0, 46, 1]</text>\r\n",
       "<text text-anchor=\"start\" x=\"296.5\" y=\"-587.8\" font-family=\"Helvetica,sans-Serif\" font-size=\"14.00\">class = L</text>\r\n",
       "</g>\r\n",
       "<!-- 2&#45;&gt;4 -->\r\n",
       "<g id=\"edge4\" class=\"edge\"><title>2&#45;&gt;4</title>\r\n",
       "<path fill=\"none\" stroke=\"black\" d=\"M325.5,-698.907C325.5,-690.649 325.5,-681.864 325.5,-673.302\"/>\r\n",
       "<polygon fill=\"black\" stroke=\"black\" points=\"329,-673.021 325.5,-663.021 322,-673.021 329,-673.021\"/>\r\n",
       "</g>\r\n",
       "<!-- 5 -->\r\n",
       "<g id=\"node6\" class=\"node\"><title>5</title>\r\n",
       "<path fill=\"#ffffff\" stroke=\"black\" d=\"M232,-544C232,-544 143,-544 143,-544 137,-544 131,-538 131,-532 131,-532 131,-473 131,-473 131,-467 137,-461 143,-461 143,-461 232,-461 232,-461 238,-461 244,-467 244,-473 244,-473 244,-532 244,-532 244,-538 238,-544 232,-544\"/>\r\n",
       "<text text-anchor=\"start\" x=\"161\" y=\"-528.8\" font-family=\"Helvetica,sans-Serif\" font-size=\"14.00\">hiv ≤ 0.0</text>\r\n",
       "<text text-anchor=\"start\" x=\"158.5\" y=\"-513.8\" font-family=\"Helvetica,sans-Serif\" font-size=\"14.00\">gini = 0.5</text>\r\n",
       "<text text-anchor=\"start\" x=\"148\" y=\"-498.8\" font-family=\"Helvetica,sans-Serif\" font-size=\"14.00\">samples = 2</text>\r\n",
       "<text text-anchor=\"start\" x=\"139\" y=\"-483.8\" font-family=\"Helvetica,sans-Serif\" font-size=\"14.00\">value = [0, 1, 1]</text>\r\n",
       "<text text-anchor=\"start\" x=\"158.5\" y=\"-468.8\" font-family=\"Helvetica,sans-Serif\" font-size=\"14.00\">class = L</text>\r\n",
       "</g>\r\n",
       "<!-- 4&#45;&gt;5 -->\r\n",
       "<g id=\"edge5\" class=\"edge\"><title>4&#45;&gt;5</title>\r\n",
       "<path fill=\"none\" stroke=\"black\" d=\"M277.622,-579.907C266.489,-570.469 254.546,-560.343 243.112,-550.649\"/>\r\n",
       "<polygon fill=\"black\" stroke=\"black\" points=\"245.185,-547.818 235.294,-544.021 240.658,-553.157 245.185,-547.818\"/>\r\n",
       "</g>\r\n",
       "<!-- 8 -->\r\n",
       "<g id=\"node9\" class=\"node\"><title>8</title>\r\n",
       "<path fill=\"#39e581\" stroke=\"black\" d=\"M374,-536.5C374,-536.5 277,-536.5 277,-536.5 271,-536.5 265,-530.5 265,-524.5 265,-524.5 265,-480.5 265,-480.5 265,-474.5 271,-468.5 277,-468.5 277,-468.5 374,-468.5 374,-468.5 380,-468.5 386,-474.5 386,-480.5 386,-480.5 386,-524.5 386,-524.5 386,-530.5 380,-536.5 374,-536.5\"/>\r\n",
       "<text text-anchor=\"start\" x=\"296.5\" y=\"-521.3\" font-family=\"Helvetica,sans-Serif\" font-size=\"14.00\">gini = 0.0</text>\r\n",
       "<text text-anchor=\"start\" x=\"282\" y=\"-506.3\" font-family=\"Helvetica,sans-Serif\" font-size=\"14.00\">samples = 45</text>\r\n",
       "<text text-anchor=\"start\" x=\"273\" y=\"-491.3\" font-family=\"Helvetica,sans-Serif\" font-size=\"14.00\">value = [0, 45, 0]</text>\r\n",
       "<text text-anchor=\"start\" x=\"296.5\" y=\"-476.3\" font-family=\"Helvetica,sans-Serif\" font-size=\"14.00\">class = L</text>\r\n",
       "</g>\r\n",
       "<!-- 4&#45;&gt;8 -->\r\n",
       "<g id=\"edge8\" class=\"edge\"><title>4&#45;&gt;8</title>\r\n",
       "<path fill=\"none\" stroke=\"black\" d=\"M325.5,-579.907C325.5,-569.204 325.5,-557.615 325.5,-546.776\"/>\r\n",
       "<polygon fill=\"black\" stroke=\"black\" points=\"329,-546.667 325.5,-536.667 322,-546.667 329,-546.667\"/>\r\n",
       "</g>\r\n",
       "<!-- 6 -->\r\n",
       "<g id=\"node7\" class=\"node\"><title>6</title>\r\n",
       "<path fill=\"#39e581\" stroke=\"black\" d=\"M101,-417.5C101,-417.5 12,-417.5 12,-417.5 6,-417.5 0,-411.5 0,-405.5 0,-405.5 0,-361.5 0,-361.5 0,-355.5 6,-349.5 12,-349.5 12,-349.5 101,-349.5 101,-349.5 107,-349.5 113,-355.5 113,-361.5 113,-361.5 113,-405.5 113,-405.5 113,-411.5 107,-417.5 101,-417.5\"/>\r\n",
       "<text text-anchor=\"start\" x=\"27.5\" y=\"-402.3\" font-family=\"Helvetica,sans-Serif\" font-size=\"14.00\">gini = 0.0</text>\r\n",
       "<text text-anchor=\"start\" x=\"17\" y=\"-387.3\" font-family=\"Helvetica,sans-Serif\" font-size=\"14.00\">samples = 1</text>\r\n",
       "<text text-anchor=\"start\" x=\"8\" y=\"-372.3\" font-family=\"Helvetica,sans-Serif\" font-size=\"14.00\">value = [0, 1, 0]</text>\r\n",
       "<text text-anchor=\"start\" x=\"27.5\" y=\"-357.3\" font-family=\"Helvetica,sans-Serif\" font-size=\"14.00\">class = L</text>\r\n",
       "</g>\r\n",
       "<!-- 5&#45;&gt;6 -->\r\n",
       "<g id=\"edge6\" class=\"edge\"><title>5&#45;&gt;6</title>\r\n",
       "<path fill=\"none\" stroke=\"black\" d=\"M142.05,-460.907C128.83,-449.101 114.405,-436.217 101.23,-424.45\"/>\r\n",
       "<polygon fill=\"black\" stroke=\"black\" points=\"103.425,-421.718 93.6356,-417.667 98.7626,-426.939 103.425,-421.718\"/>\r\n",
       "</g>\r\n",
       "<!-- 7 -->\r\n",
       "<g id=\"node8\" class=\"node\"><title>7</title>\r\n",
       "<path fill=\"#8139e5\" stroke=\"black\" d=\"M232,-417.5C232,-417.5 143,-417.5 143,-417.5 137,-417.5 131,-411.5 131,-405.5 131,-405.5 131,-361.5 131,-361.5 131,-355.5 137,-349.5 143,-349.5 143,-349.5 232,-349.5 232,-349.5 238,-349.5 244,-355.5 244,-361.5 244,-361.5 244,-405.5 244,-405.5 244,-411.5 238,-417.5 232,-417.5\"/>\r\n",
       "<text text-anchor=\"start\" x=\"158.5\" y=\"-402.3\" font-family=\"Helvetica,sans-Serif\" font-size=\"14.00\">gini = 0.0</text>\r\n",
       "<text text-anchor=\"start\" x=\"148\" y=\"-387.3\" font-family=\"Helvetica,sans-Serif\" font-size=\"14.00\">samples = 1</text>\r\n",
       "<text text-anchor=\"start\" x=\"139\" y=\"-372.3\" font-family=\"Helvetica,sans-Serif\" font-size=\"14.00\">value = [0, 0, 1]</text>\r\n",
       "<text text-anchor=\"start\" x=\"157\" y=\"-357.3\" font-family=\"Helvetica,sans-Serif\" font-size=\"14.00\">class = M</text>\r\n",
       "</g>\r\n",
       "<!-- 5&#45;&gt;7 -->\r\n",
       "<g id=\"edge7\" class=\"edge\"><title>5&#45;&gt;7</title>\r\n",
       "<path fill=\"none\" stroke=\"black\" d=\"M187.5,-460.907C187.5,-450.204 187.5,-438.615 187.5,-427.776\"/>\r\n",
       "<polygon fill=\"black\" stroke=\"black\" points=\"191,-427.667 187.5,-417.667 184,-427.667 191,-427.667\"/>\r\n",
       "</g>\r\n",
       "<!-- 11 -->\r\n",
       "<g id=\"node12\" class=\"node\"><title>11</title>\r\n",
       "<path fill=\"#c29ff2\" stroke=\"black\" d=\"M677,-782C677,-782 572,-782 572,-782 566,-782 560,-776 560,-770 560,-770 560,-711 560,-711 560,-705 566,-699 572,-699 572,-699 677,-699 677,-699 683,-699 689,-705 689,-711 689,-711 689,-770 689,-770 689,-776 683,-782 677,-782\"/>\r\n",
       "<text text-anchor=\"start\" x=\"568.5\" y=\"-766.8\" font-family=\"Helvetica,sans-Serif\" font-size=\"14.00\">sanitation ≤ 0.959</text>\r\n",
       "<text text-anchor=\"start\" x=\"587\" y=\"-751.8\" font-family=\"Helvetica,sans-Serif\" font-size=\"14.00\">gini = 0.492</text>\r\n",
       "<text text-anchor=\"start\" x=\"581\" y=\"-736.8\" font-family=\"Helvetica,sans-Serif\" font-size=\"14.00\">samples = 56</text>\r\n",
       "<text text-anchor=\"start\" x=\"568\" y=\"-721.8\" font-family=\"Helvetica,sans-Serif\" font-size=\"14.00\">value = [17, 3, 36]</text>\r\n",
       "<text text-anchor=\"start\" x=\"594\" y=\"-706.8\" font-family=\"Helvetica,sans-Serif\" font-size=\"14.00\">class = M</text>\r\n",
       "</g>\r\n",
       "<!-- 10&#45;&gt;11 -->\r\n",
       "<g id=\"edge11\" class=\"edge\"><title>10&#45;&gt;11</title>\r\n",
       "<path fill=\"none\" stroke=\"black\" d=\"M624.5,-817.907C624.5,-809.649 624.5,-800.864 624.5,-792.302\"/>\r\n",
       "<polygon fill=\"black\" stroke=\"black\" points=\"628,-792.021 624.5,-782.021 621,-792.021 628,-792.021\"/>\r\n",
       "</g>\r\n",
       "<!-- 38 -->\r\n",
       "<g id=\"node39\" class=\"node\"><title>38</title>\r\n",
       "<path fill=\"#e58139\" stroke=\"black\" d=\"M816,-774.5C816,-774.5 719,-774.5 719,-774.5 713,-774.5 707,-768.5 707,-762.5 707,-762.5 707,-718.5 707,-718.5 707,-712.5 713,-706.5 719,-706.5 719,-706.5 816,-706.5 816,-706.5 822,-706.5 828,-712.5 828,-718.5 828,-718.5 828,-762.5 828,-762.5 828,-768.5 822,-774.5 816,-774.5\"/>\r\n",
       "<text text-anchor=\"start\" x=\"738.5\" y=\"-759.3\" font-family=\"Helvetica,sans-Serif\" font-size=\"14.00\">gini = 0.0</text>\r\n",
       "<text text-anchor=\"start\" x=\"724\" y=\"-744.3\" font-family=\"Helvetica,sans-Serif\" font-size=\"14.00\">samples = 21</text>\r\n",
       "<text text-anchor=\"start\" x=\"715\" y=\"-729.3\" font-family=\"Helvetica,sans-Serif\" font-size=\"14.00\">value = [21, 0, 0]</text>\r\n",
       "<text text-anchor=\"start\" x=\"738\" y=\"-714.3\" font-family=\"Helvetica,sans-Serif\" font-size=\"14.00\">class = H</text>\r\n",
       "</g>\r\n",
       "<!-- 10&#45;&gt;38 -->\r\n",
       "<g id=\"edge38\" class=\"edge\"><title>10&#45;&gt;38</title>\r\n",
       "<path fill=\"none\" stroke=\"black\" d=\"M674.113,-817.907C688.679,-805.99 704.585,-792.976 719.076,-781.12\"/>\r\n",
       "<polygon fill=\"black\" stroke=\"black\" points=\"721.439,-783.708 726.963,-774.667 717.007,-778.29 721.439,-783.708\"/>\r\n",
       "</g>\r\n",
       "<!-- 12 -->\r\n",
       "<g id=\"node13\" class=\"node\"><title>12</title>\r\n",
       "<path fill=\"#9a61ea\" stroke=\"black\" d=\"M687.5,-663C687.5,-663 561.5,-663 561.5,-663 555.5,-663 549.5,-657 549.5,-651 549.5,-651 549.5,-592 549.5,-592 549.5,-586 555.5,-580 561.5,-580 561.5,-580 687.5,-580 687.5,-580 693.5,-580 699.5,-586 699.5,-592 699.5,-592 699.5,-651 699.5,-651 699.5,-657 693.5,-663 687.5,-663\"/>\r\n",
       "<text text-anchor=\"start\" x=\"557.5\" y=\"-647.8\" font-family=\"Helvetica,sans-Serif\" font-size=\"14.00\">childmortality ≤ 0.142</text>\r\n",
       "<text text-anchor=\"start\" x=\"587\" y=\"-632.8\" font-family=\"Helvetica,sans-Serif\" font-size=\"14.00\">gini = 0.314</text>\r\n",
       "<text text-anchor=\"start\" x=\"581\" y=\"-617.8\" font-family=\"Helvetica,sans-Serif\" font-size=\"14.00\">samples = 33</text>\r\n",
       "<text text-anchor=\"start\" x=\"572\" y=\"-602.8\" font-family=\"Helvetica,sans-Serif\" font-size=\"14.00\">value = [3, 3, 27]</text>\r\n",
       "<text text-anchor=\"start\" x=\"594\" y=\"-587.8\" font-family=\"Helvetica,sans-Serif\" font-size=\"14.00\">class = M</text>\r\n",
       "</g>\r\n",
       "<!-- 11&#45;&gt;12 -->\r\n",
       "<g id=\"edge12\" class=\"edge\"><title>11&#45;&gt;12</title>\r\n",
       "<path fill=\"none\" stroke=\"black\" d=\"M624.5,-698.907C624.5,-690.649 624.5,-681.864 624.5,-673.302\"/>\r\n",
       "<polygon fill=\"black\" stroke=\"black\" points=\"628,-673.021 624.5,-663.021 621,-673.021 628,-673.021\"/>\r\n",
       "</g>\r\n",
       "<!-- 27 -->\r\n",
       "<g id=\"node28\" class=\"node\"><title>27</title>\r\n",
       "<path fill=\"#f6d2b8\" stroke=\"black\" d=\"M999,-663C999,-663 902,-663 902,-663 896,-663 890,-657 890,-651 890,-651 890,-592 890,-592 890,-586 896,-580 902,-580 902,-580 999,-580 999,-580 1005,-580 1011,-586 1011,-592 1011,-592 1011,-651 1011,-651 1011,-657 1005,-663 999,-663\"/>\r\n",
       "<text text-anchor=\"start\" x=\"904\" y=\"-647.8\" font-family=\"Helvetica,sans-Serif\" font-size=\"14.00\">fertility ≤ 0.135</text>\r\n",
       "<text text-anchor=\"start\" x=\"913\" y=\"-632.8\" font-family=\"Helvetica,sans-Serif\" font-size=\"14.00\">gini = 0.476</text>\r\n",
       "<text text-anchor=\"start\" x=\"907\" y=\"-617.8\" font-family=\"Helvetica,sans-Serif\" font-size=\"14.00\">samples = 23</text>\r\n",
       "<text text-anchor=\"start\" x=\"898\" y=\"-602.8\" font-family=\"Helvetica,sans-Serif\" font-size=\"14.00\">value = [14, 0, 9]</text>\r\n",
       "<text text-anchor=\"start\" x=\"921\" y=\"-587.8\" font-family=\"Helvetica,sans-Serif\" font-size=\"14.00\">class = H</text>\r\n",
       "</g>\r\n",
       "<!-- 11&#45;&gt;27 -->\r\n",
       "<g id=\"edge27\" class=\"edge\"><title>11&#45;&gt;27</title>\r\n",
       "<path fill=\"none\" stroke=\"black\" d=\"M689.02,-702.77C691.862,-701.449 694.697,-700.185 697.5,-699 757.455,-673.646 828.65,-652.901 880.219,-639.442\"/>\r\n",
       "<polygon fill=\"black\" stroke=\"black\" points=\"881.131,-642.821 889.937,-636.931 879.379,-636.044 881.131,-642.821\"/>\r\n",
       "</g>\r\n",
       "<!-- 13 -->\r\n",
       "<g id=\"node14\" class=\"node\"><title>13</title>\r\n",
       "<path fill=\"#8642e6\" stroke=\"black\" d=\"M540,-544C540,-544 443,-544 443,-544 437,-544 431,-538 431,-532 431,-532 431,-473 431,-473 431,-467 437,-461 443,-461 443,-461 540,-461 540,-461 546,-461 552,-467 552,-473 552,-473 552,-532 552,-532 552,-538 546,-544 540,-544\"/>\r\n",
       "<text text-anchor=\"start\" x=\"443\" y=\"-528.8\" font-family=\"Helvetica,sans-Serif\" font-size=\"14.00\">literacy ≤ 0.737</text>\r\n",
       "<text text-anchor=\"start\" x=\"458\" y=\"-513.8\" font-family=\"Helvetica,sans-Serif\" font-size=\"14.00\">gini = 0.08</text>\r\n",
       "<text text-anchor=\"start\" x=\"448\" y=\"-498.8\" font-family=\"Helvetica,sans-Serif\" font-size=\"14.00\">samples = 24</text>\r\n",
       "<text text-anchor=\"start\" x=\"439\" y=\"-483.8\" font-family=\"Helvetica,sans-Serif\" font-size=\"14.00\">value = [1, 0, 23]</text>\r\n",
       "<text text-anchor=\"start\" x=\"461\" y=\"-468.8\" font-family=\"Helvetica,sans-Serif\" font-size=\"14.00\">class = M</text>\r\n",
       "</g>\r\n",
       "<!-- 12&#45;&gt;13 -->\r\n",
       "<g id=\"edge13\" class=\"edge\"><title>12&#45;&gt;13</title>\r\n",
       "<path fill=\"none\" stroke=\"black\" d=\"M578.356,-579.907C567.628,-570.469 556.116,-560.343 545.097,-550.649\"/>\r\n",
       "<polygon fill=\"black\" stroke=\"black\" points=\"547.382,-547.998 537.562,-544.021 542.759,-553.254 547.382,-547.998\"/>\r\n",
       "</g>\r\n",
       "<!-- 18 -->\r\n",
       "<g id=\"node19\" class=\"node\"><title>18</title>\r\n",
       "<path fill=\"#eadefb\" stroke=\"black\" d=\"M671,-544C671,-544 582,-544 582,-544 576,-544 570,-538 570,-532 570,-532 570,-473 570,-473 570,-467 576,-461 582,-461 582,-461 671,-461 671,-461 677,-461 683,-467 683,-473 683,-473 683,-532 683,-532 683,-538 677,-544 671,-544\"/>\r\n",
       "<text text-anchor=\"start\" x=\"583.5\" y=\"-528.8\" font-family=\"Helvetica,sans-Serif\" font-size=\"14.00\">water ≤ 0.817</text>\r\n",
       "<text text-anchor=\"start\" x=\"589\" y=\"-513.8\" font-family=\"Helvetica,sans-Serif\" font-size=\"14.00\">gini = 0.642</text>\r\n",
       "<text text-anchor=\"start\" x=\"587\" y=\"-498.8\" font-family=\"Helvetica,sans-Serif\" font-size=\"14.00\">samples = 9</text>\r\n",
       "<text text-anchor=\"start\" x=\"578\" y=\"-483.8\" font-family=\"Helvetica,sans-Serif\" font-size=\"14.00\">value = [2, 3, 4]</text>\r\n",
       "<text text-anchor=\"start\" x=\"596\" y=\"-468.8\" font-family=\"Helvetica,sans-Serif\" font-size=\"14.00\">class = M</text>\r\n",
       "</g>\r\n",
       "<!-- 12&#45;&gt;18 -->\r\n",
       "<g id=\"edge18\" class=\"edge\"><title>12&#45;&gt;18</title>\r\n",
       "<path fill=\"none\" stroke=\"black\" d=\"M625.194,-579.907C625.337,-571.558 625.489,-562.671 625.636,-554.02\"/>\r\n",
       "<polygon fill=\"black\" stroke=\"black\" points=\"629.136,-554.079 625.807,-544.021 622.137,-553.959 629.136,-554.079\"/>\r\n",
       "</g>\r\n",
       "<!-- 14 -->\r\n",
       "<g id=\"node15\" class=\"node\"><title>14</title>\r\n",
       "<path fill=\"#ffffff\" stroke=\"black\" d=\"M400.5,-425C400.5,-425 274.5,-425 274.5,-425 268.5,-425 262.5,-419 262.5,-413 262.5,-413 262.5,-354 262.5,-354 262.5,-348 268.5,-342 274.5,-342 274.5,-342 400.5,-342 400.5,-342 406.5,-342 412.5,-348 412.5,-354 412.5,-354 412.5,-413 412.5,-413 412.5,-419 406.5,-425 400.5,-425\"/>\r\n",
       "<text text-anchor=\"start\" x=\"270.5\" y=\"-409.8\" font-family=\"Helvetica,sans-Serif\" font-size=\"14.00\">childmortality ≤ 0.093</text>\r\n",
       "<text text-anchor=\"start\" x=\"308.5\" y=\"-394.8\" font-family=\"Helvetica,sans-Serif\" font-size=\"14.00\">gini = 0.5</text>\r\n",
       "<text text-anchor=\"start\" x=\"298\" y=\"-379.8\" font-family=\"Helvetica,sans-Serif\" font-size=\"14.00\">samples = 2</text>\r\n",
       "<text text-anchor=\"start\" x=\"289\" y=\"-364.8\" font-family=\"Helvetica,sans-Serif\" font-size=\"14.00\">value = [1, 0, 1]</text>\r\n",
       "<text text-anchor=\"start\" x=\"308\" y=\"-349.8\" font-family=\"Helvetica,sans-Serif\" font-size=\"14.00\">class = H</text>\r\n",
       "</g>\r\n",
       "<!-- 13&#45;&gt;14 -->\r\n",
       "<g id=\"edge14\" class=\"edge\"><title>13&#45;&gt;14</title>\r\n",
       "<path fill=\"none\" stroke=\"black\" d=\"M438.07,-460.907C425.409,-451.288 411.806,-440.953 398.824,-431.09\"/>\r\n",
       "<polygon fill=\"black\" stroke=\"black\" points=\"400.915,-428.283 390.835,-425.021 396.68,-433.857 400.915,-428.283\"/>\r\n",
       "</g>\r\n",
       "<!-- 17 -->\r\n",
       "<g id=\"node18\" class=\"node\"><title>17</title>\r\n",
       "<path fill=\"#8139e5\" stroke=\"black\" d=\"M540,-417.5C540,-417.5 443,-417.5 443,-417.5 437,-417.5 431,-411.5 431,-405.5 431,-405.5 431,-361.5 431,-361.5 431,-355.5 437,-349.5 443,-349.5 443,-349.5 540,-349.5 540,-349.5 546,-349.5 552,-355.5 552,-361.5 552,-361.5 552,-405.5 552,-405.5 552,-411.5 546,-417.5 540,-417.5\"/>\r\n",
       "<text text-anchor=\"start\" x=\"462.5\" y=\"-402.3\" font-family=\"Helvetica,sans-Serif\" font-size=\"14.00\">gini = 0.0</text>\r\n",
       "<text text-anchor=\"start\" x=\"448\" y=\"-387.3\" font-family=\"Helvetica,sans-Serif\" font-size=\"14.00\">samples = 22</text>\r\n",
       "<text text-anchor=\"start\" x=\"439\" y=\"-372.3\" font-family=\"Helvetica,sans-Serif\" font-size=\"14.00\">value = [0, 0, 22]</text>\r\n",
       "<text text-anchor=\"start\" x=\"461\" y=\"-357.3\" font-family=\"Helvetica,sans-Serif\" font-size=\"14.00\">class = M</text>\r\n",
       "</g>\r\n",
       "<!-- 13&#45;&gt;17 -->\r\n",
       "<g id=\"edge17\" class=\"edge\"><title>13&#45;&gt;17</title>\r\n",
       "<path fill=\"none\" stroke=\"black\" d=\"M491.5,-460.907C491.5,-450.204 491.5,-438.615 491.5,-427.776\"/>\r\n",
       "<polygon fill=\"black\" stroke=\"black\" points=\"495,-427.667 491.5,-417.667 488,-427.667 495,-427.667\"/>\r\n",
       "</g>\r\n",
       "<!-- 15 -->\r\n",
       "<g id=\"node16\" class=\"node\"><title>15</title>\r\n",
       "<path fill=\"#e58139\" stroke=\"black\" d=\"M316,-298.5C316,-298.5 227,-298.5 227,-298.5 221,-298.5 215,-292.5 215,-286.5 215,-286.5 215,-242.5 215,-242.5 215,-236.5 221,-230.5 227,-230.5 227,-230.5 316,-230.5 316,-230.5 322,-230.5 328,-236.5 328,-242.5 328,-242.5 328,-286.5 328,-286.5 328,-292.5 322,-298.5 316,-298.5\"/>\r\n",
       "<text text-anchor=\"start\" x=\"242.5\" y=\"-283.3\" font-family=\"Helvetica,sans-Serif\" font-size=\"14.00\">gini = 0.0</text>\r\n",
       "<text text-anchor=\"start\" x=\"232\" y=\"-268.3\" font-family=\"Helvetica,sans-Serif\" font-size=\"14.00\">samples = 1</text>\r\n",
       "<text text-anchor=\"start\" x=\"223\" y=\"-253.3\" font-family=\"Helvetica,sans-Serif\" font-size=\"14.00\">value = [1, 0, 0]</text>\r\n",
       "<text text-anchor=\"start\" x=\"242\" y=\"-238.3\" font-family=\"Helvetica,sans-Serif\" font-size=\"14.00\">class = H</text>\r\n",
       "</g>\r\n",
       "<!-- 14&#45;&gt;15 -->\r\n",
       "<g id=\"edge15\" class=\"edge\"><title>14&#45;&gt;15</title>\r\n",
       "<path fill=\"none\" stroke=\"black\" d=\"M314.602,-341.907C308.315,-330.763 301.487,-318.658 295.158,-307.439\"/>\r\n",
       "<polygon fill=\"black\" stroke=\"black\" points=\"298.171,-305.657 290.21,-298.667 292.074,-309.096 298.171,-305.657\"/>\r\n",
       "</g>\r\n",
       "<!-- 16 -->\r\n",
       "<g id=\"node17\" class=\"node\"><title>16</title>\r\n",
       "<path fill=\"#8139e5\" stroke=\"black\" d=\"M447,-298.5C447,-298.5 358,-298.5 358,-298.5 352,-298.5 346,-292.5 346,-286.5 346,-286.5 346,-242.5 346,-242.5 346,-236.5 352,-230.5 358,-230.5 358,-230.5 447,-230.5 447,-230.5 453,-230.5 459,-236.5 459,-242.5 459,-242.5 459,-286.5 459,-286.5 459,-292.5 453,-298.5 447,-298.5\"/>\r\n",
       "<text text-anchor=\"start\" x=\"373.5\" y=\"-283.3\" font-family=\"Helvetica,sans-Serif\" font-size=\"14.00\">gini = 0.0</text>\r\n",
       "<text text-anchor=\"start\" x=\"363\" y=\"-268.3\" font-family=\"Helvetica,sans-Serif\" font-size=\"14.00\">samples = 1</text>\r\n",
       "<text text-anchor=\"start\" x=\"354\" y=\"-253.3\" font-family=\"Helvetica,sans-Serif\" font-size=\"14.00\">value = [0, 0, 1]</text>\r\n",
       "<text text-anchor=\"start\" x=\"372\" y=\"-238.3\" font-family=\"Helvetica,sans-Serif\" font-size=\"14.00\">class = M</text>\r\n",
       "</g>\r\n",
       "<!-- 14&#45;&gt;16 -->\r\n",
       "<g id=\"edge16\" class=\"edge\"><title>14&#45;&gt;16</title>\r\n",
       "<path fill=\"none\" stroke=\"black\" d=\"M360.051,-341.907C366.243,-330.763 372.968,-318.658 379.2,-307.439\"/>\r\n",
       "<polygon fill=\"black\" stroke=\"black\" points=\"382.277,-309.108 384.074,-298.667 376.158,-305.709 382.277,-309.108\"/>\r\n",
       "</g>\r\n",
       "<!-- 19 -->\r\n",
       "<g id=\"node20\" class=\"node\"><title>19</title>\r\n",
       "<path fill=\"#8139e5\" stroke=\"black\" d=\"M671,-417.5C671,-417.5 582,-417.5 582,-417.5 576,-417.5 570,-411.5 570,-405.5 570,-405.5 570,-361.5 570,-361.5 570,-355.5 576,-349.5 582,-349.5 582,-349.5 671,-349.5 671,-349.5 677,-349.5 683,-355.5 683,-361.5 683,-361.5 683,-405.5 683,-405.5 683,-411.5 677,-417.5 671,-417.5\"/>\r\n",
       "<text text-anchor=\"start\" x=\"597.5\" y=\"-402.3\" font-family=\"Helvetica,sans-Serif\" font-size=\"14.00\">gini = 0.0</text>\r\n",
       "<text text-anchor=\"start\" x=\"587\" y=\"-387.3\" font-family=\"Helvetica,sans-Serif\" font-size=\"14.00\">samples = 3</text>\r\n",
       "<text text-anchor=\"start\" x=\"578\" y=\"-372.3\" font-family=\"Helvetica,sans-Serif\" font-size=\"14.00\">value = [0, 0, 3]</text>\r\n",
       "<text text-anchor=\"start\" x=\"596\" y=\"-357.3\" font-family=\"Helvetica,sans-Serif\" font-size=\"14.00\">class = M</text>\r\n",
       "</g>\r\n",
       "<!-- 18&#45;&gt;19 -->\r\n",
       "<g id=\"edge19\" class=\"edge\"><title>18&#45;&gt;19</title>\r\n",
       "<path fill=\"none\" stroke=\"black\" d=\"M626.5,-460.907C626.5,-450.204 626.5,-438.615 626.5,-427.776\"/>\r\n",
       "<polygon fill=\"black\" stroke=\"black\" points=\"630,-427.667 626.5,-417.667 623,-427.667 630,-427.667\"/>\r\n",
       "</g>\r\n",
       "<!-- 20 -->\r\n",
       "<g id=\"node21\" class=\"node\"><title>20</title>\r\n",
       "<path fill=\"#cef8e0\" stroke=\"black\" d=\"M802,-425C802,-425 713,-425 713,-425 707,-425 701,-419 701,-413 701,-413 701,-354 701,-354 701,-348 707,-342 713,-342 713,-342 802,-342 802,-342 808,-342 814,-348 814,-354 814,-354 814,-413 814,-413 814,-419 808,-425 802,-425\"/>\r\n",
       "<text text-anchor=\"start\" x=\"714.5\" y=\"-409.8\" font-family=\"Helvetica,sans-Serif\" font-size=\"14.00\">water ≤ 0.965</text>\r\n",
       "<text text-anchor=\"start\" x=\"720\" y=\"-394.8\" font-family=\"Helvetica,sans-Serif\" font-size=\"14.00\">gini = 0.611</text>\r\n",
       "<text text-anchor=\"start\" x=\"718\" y=\"-379.8\" font-family=\"Helvetica,sans-Serif\" font-size=\"14.00\">samples = 6</text>\r\n",
       "<text text-anchor=\"start\" x=\"709\" y=\"-364.8\" font-family=\"Helvetica,sans-Serif\" font-size=\"14.00\">value = [2, 3, 1]</text>\r\n",
       "<text text-anchor=\"start\" x=\"728.5\" y=\"-349.8\" font-family=\"Helvetica,sans-Serif\" font-size=\"14.00\">class = L</text>\r\n",
       "</g>\r\n",
       "<!-- 18&#45;&gt;20 -->\r\n",
       "<g id=\"edge20\" class=\"edge\"><title>18&#45;&gt;20</title>\r\n",
       "<path fill=\"none\" stroke=\"black\" d=\"M671.95,-460.907C682.416,-451.56 693.637,-441.538 704.396,-431.929\"/>\r\n",
       "<polygon fill=\"black\" stroke=\"black\" points=\"707.004,-434.293 712.131,-425.021 702.341,-429.072 707.004,-434.293\"/>\r\n",
       "</g>\r\n",
       "<!-- 21 -->\r\n",
       "<g id=\"node22\" class=\"node\"><title>21</title>\r\n",
       "<path fill=\"#bdf6d5\" stroke=\"black\" d=\"M671,-306C671,-306 582,-306 582,-306 576,-306 570,-300 570,-294 570,-294 570,-235 570,-235 570,-229 576,-223 582,-223 582,-223 671,-223 671,-223 677,-223 683,-229 683,-235 683,-235 683,-294 683,-294 683,-300 677,-306 671,-306\"/>\r\n",
       "<text text-anchor=\"start\" x=\"578.5\" y=\"-290.8\" font-family=\"Helvetica,sans-Serif\" font-size=\"14.00\">energy ≤ 0.041</text>\r\n",
       "<text text-anchor=\"start\" x=\"593\" y=\"-275.8\" font-family=\"Helvetica,sans-Serif\" font-size=\"14.00\">gini = 0.48</text>\r\n",
       "<text text-anchor=\"start\" x=\"587\" y=\"-260.8\" font-family=\"Helvetica,sans-Serif\" font-size=\"14.00\">samples = 5</text>\r\n",
       "<text text-anchor=\"start\" x=\"578\" y=\"-245.8\" font-family=\"Helvetica,sans-Serif\" font-size=\"14.00\">value = [2, 3, 0]</text>\r\n",
       "<text text-anchor=\"start\" x=\"597.5\" y=\"-230.8\" font-family=\"Helvetica,sans-Serif\" font-size=\"14.00\">class = L</text>\r\n",
       "</g>\r\n",
       "<!-- 20&#45;&gt;21 -->\r\n",
       "<g id=\"edge21\" class=\"edge\"><title>20&#45;&gt;21</title>\r\n",
       "<path fill=\"none\" stroke=\"black\" d=\"M712.05,-341.907C701.584,-332.56 690.363,-322.538 679.604,-312.929\"/>\r\n",
       "<polygon fill=\"black\" stroke=\"black\" points=\"681.659,-310.072 671.869,-306.021 676.996,-315.293 681.659,-310.072\"/>\r\n",
       "</g>\r\n",
       "<!-- 26 -->\r\n",
       "<g id=\"node27\" class=\"node\"><title>26</title>\r\n",
       "<path fill=\"#8139e5\" stroke=\"black\" d=\"M802,-298.5C802,-298.5 713,-298.5 713,-298.5 707,-298.5 701,-292.5 701,-286.5 701,-286.5 701,-242.5 701,-242.5 701,-236.5 707,-230.5 713,-230.5 713,-230.5 802,-230.5 802,-230.5 808,-230.5 814,-236.5 814,-242.5 814,-242.5 814,-286.5 814,-286.5 814,-292.5 808,-298.5 802,-298.5\"/>\r\n",
       "<text text-anchor=\"start\" x=\"728.5\" y=\"-283.3\" font-family=\"Helvetica,sans-Serif\" font-size=\"14.00\">gini = 0.0</text>\r\n",
       "<text text-anchor=\"start\" x=\"718\" y=\"-268.3\" font-family=\"Helvetica,sans-Serif\" font-size=\"14.00\">samples = 1</text>\r\n",
       "<text text-anchor=\"start\" x=\"709\" y=\"-253.3\" font-family=\"Helvetica,sans-Serif\" font-size=\"14.00\">value = [0, 0, 1]</text>\r\n",
       "<text text-anchor=\"start\" x=\"727\" y=\"-238.3\" font-family=\"Helvetica,sans-Serif\" font-size=\"14.00\">class = M</text>\r\n",
       "</g>\r\n",
       "<!-- 20&#45;&gt;26 -->\r\n",
       "<g id=\"edge26\" class=\"edge\"><title>20&#45;&gt;26</title>\r\n",
       "<path fill=\"none\" stroke=\"black\" d=\"M757.5,-341.907C757.5,-331.204 757.5,-319.615 757.5,-308.776\"/>\r\n",
       "<polygon fill=\"black\" stroke=\"black\" points=\"761,-308.667 757.5,-298.667 754,-308.667 761,-308.667\"/>\r\n",
       "</g>\r\n",
       "<!-- 22 -->\r\n",
       "<g id=\"node23\" class=\"node\"><title>22</title>\r\n",
       "<path fill=\"#39e581\" stroke=\"black\" d=\"M596,-179.5C596,-179.5 507,-179.5 507,-179.5 501,-179.5 495,-173.5 495,-167.5 495,-167.5 495,-123.5 495,-123.5 495,-117.5 501,-111.5 507,-111.5 507,-111.5 596,-111.5 596,-111.5 602,-111.5 608,-117.5 608,-123.5 608,-123.5 608,-167.5 608,-167.5 608,-173.5 602,-179.5 596,-179.5\"/>\r\n",
       "<text text-anchor=\"start\" x=\"522.5\" y=\"-164.3\" font-family=\"Helvetica,sans-Serif\" font-size=\"14.00\">gini = 0.0</text>\r\n",
       "<text text-anchor=\"start\" x=\"512\" y=\"-149.3\" font-family=\"Helvetica,sans-Serif\" font-size=\"14.00\">samples = 2</text>\r\n",
       "<text text-anchor=\"start\" x=\"503\" y=\"-134.3\" font-family=\"Helvetica,sans-Serif\" font-size=\"14.00\">value = [0, 2, 0]</text>\r\n",
       "<text text-anchor=\"start\" x=\"522.5\" y=\"-119.3\" font-family=\"Helvetica,sans-Serif\" font-size=\"14.00\">class = L</text>\r\n",
       "</g>\r\n",
       "<!-- 21&#45;&gt;22 -->\r\n",
       "<g id=\"edge22\" class=\"edge\"><title>21&#45;&gt;22</title>\r\n",
       "<path fill=\"none\" stroke=\"black\" d=\"M600.479,-222.907C593.264,-211.652 585.422,-199.418 578.171,-188.106\"/>\r\n",
       "<polygon fill=\"black\" stroke=\"black\" points=\"581.104,-186.197 572.761,-179.667 575.211,-189.975 581.104,-186.197\"/>\r\n",
       "</g>\r\n",
       "<!-- 23 -->\r\n",
       "<g id=\"node24\" class=\"node\"><title>23</title>\r\n",
       "<path fill=\"#f2c09c\" stroke=\"black\" d=\"M764.5,-187C764.5,-187 638.5,-187 638.5,-187 632.5,-187 626.5,-181 626.5,-175 626.5,-175 626.5,-116 626.5,-116 626.5,-110 632.5,-104 638.5,-104 638.5,-104 764.5,-104 764.5,-104 770.5,-104 776.5,-110 776.5,-116 776.5,-116 776.5,-175 776.5,-175 776.5,-181 770.5,-187 764.5,-187\"/>\r\n",
       "<text text-anchor=\"start\" x=\"634.5\" y=\"-171.8\" font-family=\"Helvetica,sans-Serif\" font-size=\"14.00\">childmortality ≤ 0.198</text>\r\n",
       "<text text-anchor=\"start\" x=\"664\" y=\"-156.8\" font-family=\"Helvetica,sans-Serif\" font-size=\"14.00\">gini = 0.444</text>\r\n",
       "<text text-anchor=\"start\" x=\"662\" y=\"-141.8\" font-family=\"Helvetica,sans-Serif\" font-size=\"14.00\">samples = 3</text>\r\n",
       "<text text-anchor=\"start\" x=\"653\" y=\"-126.8\" font-family=\"Helvetica,sans-Serif\" font-size=\"14.00\">value = [2, 1, 0]</text>\r\n",
       "<text text-anchor=\"start\" x=\"672\" y=\"-111.8\" font-family=\"Helvetica,sans-Serif\" font-size=\"14.00\">class = H</text>\r\n",
       "</g>\r\n",
       "<!-- 21&#45;&gt;23 -->\r\n",
       "<g id=\"edge23\" class=\"edge\"><title>21&#45;&gt;23</title>\r\n",
       "<path fill=\"none\" stroke=\"black\" d=\"M652.521,-222.907C658.164,-214.105 664.19,-204.703 670.018,-195.612\"/>\r\n",
       "<polygon fill=\"black\" stroke=\"black\" points=\"673.075,-197.328 675.525,-187.021 667.182,-193.551 673.075,-197.328\"/>\r\n",
       "</g>\r\n",
       "<!-- 24 -->\r\n",
       "<g id=\"node25\" class=\"node\"><title>24</title>\r\n",
       "<path fill=\"#e58139\" stroke=\"black\" d=\"M680,-68C680,-68 591,-68 591,-68 585,-68 579,-62 579,-56 579,-56 579,-12 579,-12 579,-6 585,-0 591,-0 591,-0 680,-0 680,-0 686,-0 692,-6 692,-12 692,-12 692,-56 692,-56 692,-62 686,-68 680,-68\"/>\r\n",
       "<text text-anchor=\"start\" x=\"606.5\" y=\"-52.8\" font-family=\"Helvetica,sans-Serif\" font-size=\"14.00\">gini = 0.0</text>\r\n",
       "<text text-anchor=\"start\" x=\"596\" y=\"-37.8\" font-family=\"Helvetica,sans-Serif\" font-size=\"14.00\">samples = 2</text>\r\n",
       "<text text-anchor=\"start\" x=\"587\" y=\"-22.8\" font-family=\"Helvetica,sans-Serif\" font-size=\"14.00\">value = [2, 0, 0]</text>\r\n",
       "<text text-anchor=\"start\" x=\"606\" y=\"-7.8\" font-family=\"Helvetica,sans-Serif\" font-size=\"14.00\">class = H</text>\r\n",
       "</g>\r\n",
       "<!-- 23&#45;&gt;24 -->\r\n",
       "<g id=\"edge24\" class=\"edge\"><title>23&#45;&gt;24</title>\r\n",
       "<path fill=\"none\" stroke=\"black\" d=\"M676.924,-103.726C671.646,-94.9703 666.061,-85.7032 660.758,-76.9051\"/>\r\n",
       "<polygon fill=\"black\" stroke=\"black\" points=\"663.731,-75.0574 655.571,-68.2996 657.736,-78.671 663.731,-75.0574\"/>\r\n",
       "</g>\r\n",
       "<!-- 25 -->\r\n",
       "<g id=\"node26\" class=\"node\"><title>25</title>\r\n",
       "<path fill=\"#39e581\" stroke=\"black\" d=\"M811,-68C811,-68 722,-68 722,-68 716,-68 710,-62 710,-56 710,-56 710,-12 710,-12 710,-6 716,-0 722,-0 722,-0 811,-0 811,-0 817,-0 823,-6 823,-12 823,-12 823,-56 823,-56 823,-62 817,-68 811,-68\"/>\r\n",
       "<text text-anchor=\"start\" x=\"737.5\" y=\"-52.8\" font-family=\"Helvetica,sans-Serif\" font-size=\"14.00\">gini = 0.0</text>\r\n",
       "<text text-anchor=\"start\" x=\"727\" y=\"-37.8\" font-family=\"Helvetica,sans-Serif\" font-size=\"14.00\">samples = 1</text>\r\n",
       "<text text-anchor=\"start\" x=\"718\" y=\"-22.8\" font-family=\"Helvetica,sans-Serif\" font-size=\"14.00\">value = [0, 1, 0]</text>\r\n",
       "<text text-anchor=\"start\" x=\"737.5\" y=\"-7.8\" font-family=\"Helvetica,sans-Serif\" font-size=\"14.00\">class = L</text>\r\n",
       "</g>\r\n",
       "<!-- 23&#45;&gt;25 -->\r\n",
       "<g id=\"edge25\" class=\"edge\"><title>23&#45;&gt;25</title>\r\n",
       "<path fill=\"none\" stroke=\"black\" d=\"M725.704,-103.726C730.901,-94.9703 736.402,-85.7032 741.625,-76.9051\"/>\r\n",
       "<polygon fill=\"black\" stroke=\"black\" points=\"744.638,-78.6853 746.733,-68.2996 738.619,-75.1121 744.638,-78.6853\"/>\r\n",
       "</g>\r\n",
       "<!-- 28 -->\r\n",
       "<g id=\"node29\" class=\"node\"><title>28</title>\r\n",
       "<path fill=\"#e78c4b\" stroke=\"black\" d=\"M1002,-544C1002,-544 899,-544 899,-544 893,-544 887,-538 887,-532 887,-532 887,-473 887,-473 887,-467 893,-461 899,-461 899,-461 1002,-461 1002,-461 1008,-461 1014,-467 1014,-473 1014,-473 1014,-532 1014,-532 1014,-538 1008,-544 1002,-544\"/>\r\n",
       "<text text-anchor=\"start\" x=\"895\" y=\"-528.8\" font-family=\"Helvetica,sans-Serif\" font-size=\"14.00\">inequality ≤ 0.316</text>\r\n",
       "<text text-anchor=\"start\" x=\"913\" y=\"-513.8\" font-family=\"Helvetica,sans-Serif\" font-size=\"14.00\">gini = 0.153</text>\r\n",
       "<text text-anchor=\"start\" x=\"907\" y=\"-498.8\" font-family=\"Helvetica,sans-Serif\" font-size=\"14.00\">samples = 12</text>\r\n",
       "<text text-anchor=\"start\" x=\"898\" y=\"-483.8\" font-family=\"Helvetica,sans-Serif\" font-size=\"14.00\">value = [11, 0, 1]</text>\r\n",
       "<text text-anchor=\"start\" x=\"921\" y=\"-468.8\" font-family=\"Helvetica,sans-Serif\" font-size=\"14.00\">class = H</text>\r\n",
       "</g>\r\n",
       "<!-- 27&#45;&gt;28 -->\r\n",
       "<g id=\"edge28\" class=\"edge\"><title>27&#45;&gt;28</title>\r\n",
       "<path fill=\"none\" stroke=\"black\" d=\"M950.5,-579.907C950.5,-571.649 950.5,-562.864 950.5,-554.302\"/>\r\n",
       "<polygon fill=\"black\" stroke=\"black\" points=\"954,-554.021 950.5,-544.021 947,-554.021 954,-554.021\"/>\r\n",
       "</g>\r\n",
       "<!-- 33 -->\r\n",
       "<g id=\"node34\" class=\"node\"><title>33</title>\r\n",
       "<path fill=\"#b083ef\" stroke=\"black\" d=\"M1195,-544C1195,-544 1106,-544 1106,-544 1100,-544 1094,-538 1094,-532 1094,-532 1094,-473 1094,-473 1094,-467 1100,-461 1106,-461 1106,-461 1195,-461 1195,-461 1201,-461 1207,-467 1207,-473 1207,-473 1207,-532 1207,-532 1207,-538 1201,-544 1195,-544\"/>\r\n",
       "<text text-anchor=\"start\" x=\"1107.5\" y=\"-528.8\" font-family=\"Helvetica,sans-Serif\" font-size=\"14.00\">water ≤ 0.969</text>\r\n",
       "<text text-anchor=\"start\" x=\"1113\" y=\"-513.8\" font-family=\"Helvetica,sans-Serif\" font-size=\"14.00\">gini = 0.397</text>\r\n",
       "<text text-anchor=\"start\" x=\"1107\" y=\"-498.8\" font-family=\"Helvetica,sans-Serif\" font-size=\"14.00\">samples = 11</text>\r\n",
       "<text text-anchor=\"start\" x=\"1102\" y=\"-483.8\" font-family=\"Helvetica,sans-Serif\" font-size=\"14.00\">value = [3, 0, 8]</text>\r\n",
       "<text text-anchor=\"start\" x=\"1120\" y=\"-468.8\" font-family=\"Helvetica,sans-Serif\" font-size=\"14.00\">class = M</text>\r\n",
       "</g>\r\n",
       "<!-- 27&#45;&gt;33 -->\r\n",
       "<g id=\"edge33\" class=\"edge\"><title>27&#45;&gt;33</title>\r\n",
       "<path fill=\"none\" stroke=\"black\" d=\"M1011.05,-585.079C1034.5,-571.361 1061.39,-555.627 1085.27,-541.66\"/>\r\n",
       "<polygon fill=\"black\" stroke=\"black\" points=\"1087.05,-544.672 1093.92,-536.602 1083.52,-538.63 1087.05,-544.672\"/>\r\n",
       "</g>\r\n",
       "<!-- 29 -->\r\n",
       "<g id=\"node30\" class=\"node\"><title>29</title>\r\n",
       "<path fill=\"#f2c09c\" stroke=\"black\" d=\"M933,-425C933,-425 844,-425 844,-425 838,-425 832,-419 832,-413 832,-413 832,-354 832,-354 832,-348 838,-342 844,-342 844,-342 933,-342 933,-342 939,-342 945,-348 945,-354 945,-354 945,-413 945,-413 945,-419 939,-425 933,-425\"/>\r\n",
       "<text text-anchor=\"start\" x=\"845.5\" y=\"-409.8\" font-family=\"Helvetica,sans-Serif\" font-size=\"14.00\">water ≤ 0.997</text>\r\n",
       "<text text-anchor=\"start\" x=\"851\" y=\"-394.8\" font-family=\"Helvetica,sans-Serif\" font-size=\"14.00\">gini = 0.444</text>\r\n",
       "<text text-anchor=\"start\" x=\"849\" y=\"-379.8\" font-family=\"Helvetica,sans-Serif\" font-size=\"14.00\">samples = 3</text>\r\n",
       "<text text-anchor=\"start\" x=\"840\" y=\"-364.8\" font-family=\"Helvetica,sans-Serif\" font-size=\"14.00\">value = [2, 0, 1]</text>\r\n",
       "<text text-anchor=\"start\" x=\"859\" y=\"-349.8\" font-family=\"Helvetica,sans-Serif\" font-size=\"14.00\">class = H</text>\r\n",
       "</g>\r\n",
       "<!-- 28&#45;&gt;29 -->\r\n",
       "<g id=\"edge29\" class=\"edge\"><title>28&#45;&gt;29</title>\r\n",
       "<path fill=\"none\" stroke=\"black\" d=\"M928.989,-460.907C924.373,-452.195 919.445,-442.897 914.674,-433.893\"/>\r\n",
       "<polygon fill=\"black\" stroke=\"black\" points=\"917.748,-432.218 909.973,-425.021 911.562,-435.496 917.748,-432.218\"/>\r\n",
       "</g>\r\n",
       "<!-- 32 -->\r\n",
       "<g id=\"node33\" class=\"node\"><title>32</title>\r\n",
       "<path fill=\"#e58139\" stroke=\"black\" d=\"M1064,-417.5C1064,-417.5 975,-417.5 975,-417.5 969,-417.5 963,-411.5 963,-405.5 963,-405.5 963,-361.5 963,-361.5 963,-355.5 969,-349.5 975,-349.5 975,-349.5 1064,-349.5 1064,-349.5 1070,-349.5 1076,-355.5 1076,-361.5 1076,-361.5 1076,-405.5 1076,-405.5 1076,-411.5 1070,-417.5 1064,-417.5\"/>\r\n",
       "<text text-anchor=\"start\" x=\"990.5\" y=\"-402.3\" font-family=\"Helvetica,sans-Serif\" font-size=\"14.00\">gini = 0.0</text>\r\n",
       "<text text-anchor=\"start\" x=\"980\" y=\"-387.3\" font-family=\"Helvetica,sans-Serif\" font-size=\"14.00\">samples = 9</text>\r\n",
       "<text text-anchor=\"start\" x=\"971\" y=\"-372.3\" font-family=\"Helvetica,sans-Serif\" font-size=\"14.00\">value = [9, 0, 0]</text>\r\n",
       "<text text-anchor=\"start\" x=\"990\" y=\"-357.3\" font-family=\"Helvetica,sans-Serif\" font-size=\"14.00\">class = H</text>\r\n",
       "</g>\r\n",
       "<!-- 28&#45;&gt;32 -->\r\n",
       "<g id=\"edge32\" class=\"edge\"><title>28&#45;&gt;32</title>\r\n",
       "<path fill=\"none\" stroke=\"black\" d=\"M974.439,-460.907C981.012,-449.763 988.15,-437.658 994.767,-426.439\"/>\r\n",
       "<polygon fill=\"black\" stroke=\"black\" points=\"997.875,-428.059 999.94,-417.667 991.845,-424.503 997.875,-428.059\"/>\r\n",
       "</g>\r\n",
       "<!-- 30 -->\r\n",
       "<g id=\"node31\" class=\"node\"><title>30</title>\r\n",
       "<path fill=\"#e58139\" stroke=\"black\" d=\"M933,-298.5C933,-298.5 844,-298.5 844,-298.5 838,-298.5 832,-292.5 832,-286.5 832,-286.5 832,-242.5 832,-242.5 832,-236.5 838,-230.5 844,-230.5 844,-230.5 933,-230.5 933,-230.5 939,-230.5 945,-236.5 945,-242.5 945,-242.5 945,-286.5 945,-286.5 945,-292.5 939,-298.5 933,-298.5\"/>\r\n",
       "<text text-anchor=\"start\" x=\"859.5\" y=\"-283.3\" font-family=\"Helvetica,sans-Serif\" font-size=\"14.00\">gini = 0.0</text>\r\n",
       "<text text-anchor=\"start\" x=\"849\" y=\"-268.3\" font-family=\"Helvetica,sans-Serif\" font-size=\"14.00\">samples = 2</text>\r\n",
       "<text text-anchor=\"start\" x=\"840\" y=\"-253.3\" font-family=\"Helvetica,sans-Serif\" font-size=\"14.00\">value = [2, 0, 0]</text>\r\n",
       "<text text-anchor=\"start\" x=\"859\" y=\"-238.3\" font-family=\"Helvetica,sans-Serif\" font-size=\"14.00\">class = H</text>\r\n",
       "</g>\r\n",
       "<!-- 29&#45;&gt;30 -->\r\n",
       "<g id=\"edge30\" class=\"edge\"><title>29&#45;&gt;30</title>\r\n",
       "<path fill=\"none\" stroke=\"black\" d=\"M888.5,-341.907C888.5,-331.204 888.5,-319.615 888.5,-308.776\"/>\r\n",
       "<polygon fill=\"black\" stroke=\"black\" points=\"892,-308.667 888.5,-298.667 885,-308.667 892,-308.667\"/>\r\n",
       "</g>\r\n",
       "<!-- 31 -->\r\n",
       "<g id=\"node32\" class=\"node\"><title>31</title>\r\n",
       "<path fill=\"#8139e5\" stroke=\"black\" d=\"M1064,-298.5C1064,-298.5 975,-298.5 975,-298.5 969,-298.5 963,-292.5 963,-286.5 963,-286.5 963,-242.5 963,-242.5 963,-236.5 969,-230.5 975,-230.5 975,-230.5 1064,-230.5 1064,-230.5 1070,-230.5 1076,-236.5 1076,-242.5 1076,-242.5 1076,-286.5 1076,-286.5 1076,-292.5 1070,-298.5 1064,-298.5\"/>\r\n",
       "<text text-anchor=\"start\" x=\"990.5\" y=\"-283.3\" font-family=\"Helvetica,sans-Serif\" font-size=\"14.00\">gini = 0.0</text>\r\n",
       "<text text-anchor=\"start\" x=\"980\" y=\"-268.3\" font-family=\"Helvetica,sans-Serif\" font-size=\"14.00\">samples = 1</text>\r\n",
       "<text text-anchor=\"start\" x=\"971\" y=\"-253.3\" font-family=\"Helvetica,sans-Serif\" font-size=\"14.00\">value = [0, 0, 1]</text>\r\n",
       "<text text-anchor=\"start\" x=\"989\" y=\"-238.3\" font-family=\"Helvetica,sans-Serif\" font-size=\"14.00\">class = M</text>\r\n",
       "</g>\r\n",
       "<!-- 29&#45;&gt;31 -->\r\n",
       "<g id=\"edge31\" class=\"edge\"><title>29&#45;&gt;31</title>\r\n",
       "<path fill=\"none\" stroke=\"black\" d=\"M933.95,-341.907C947.17,-330.101 961.595,-317.217 974.77,-305.45\"/>\r\n",
       "<polygon fill=\"black\" stroke=\"black\" points=\"977.237,-307.939 982.364,-298.667 972.575,-302.718 977.237,-307.939\"/>\r\n",
       "</g>\r\n",
       "<!-- 34 -->\r\n",
       "<g id=\"node35\" class=\"node\"><title>34</title>\r\n",
       "<path fill=\"#8139e5\" stroke=\"black\" d=\"M1195,-417.5C1195,-417.5 1106,-417.5 1106,-417.5 1100,-417.5 1094,-411.5 1094,-405.5 1094,-405.5 1094,-361.5 1094,-361.5 1094,-355.5 1100,-349.5 1106,-349.5 1106,-349.5 1195,-349.5 1195,-349.5 1201,-349.5 1207,-355.5 1207,-361.5 1207,-361.5 1207,-405.5 1207,-405.5 1207,-411.5 1201,-417.5 1195,-417.5\"/>\r\n",
       "<text text-anchor=\"start\" x=\"1121.5\" y=\"-402.3\" font-family=\"Helvetica,sans-Serif\" font-size=\"14.00\">gini = 0.0</text>\r\n",
       "<text text-anchor=\"start\" x=\"1111\" y=\"-387.3\" font-family=\"Helvetica,sans-Serif\" font-size=\"14.00\">samples = 5</text>\r\n",
       "<text text-anchor=\"start\" x=\"1102\" y=\"-372.3\" font-family=\"Helvetica,sans-Serif\" font-size=\"14.00\">value = [0, 0, 5]</text>\r\n",
       "<text text-anchor=\"start\" x=\"1120\" y=\"-357.3\" font-family=\"Helvetica,sans-Serif\" font-size=\"14.00\">class = M</text>\r\n",
       "</g>\r\n",
       "<!-- 33&#45;&gt;34 -->\r\n",
       "<g id=\"edge34\" class=\"edge\"><title>33&#45;&gt;34</title>\r\n",
       "<path fill=\"none\" stroke=\"black\" d=\"M1150.5,-460.907C1150.5,-450.204 1150.5,-438.615 1150.5,-427.776\"/>\r\n",
       "<polygon fill=\"black\" stroke=\"black\" points=\"1154,-427.667 1150.5,-417.667 1147,-427.667 1154,-427.667\"/>\r\n",
       "</g>\r\n",
       "<!-- 35 -->\r\n",
       "<g id=\"node36\" class=\"node\"><title>35</title>\r\n",
       "<path fill=\"#ffffff\" stroke=\"black\" d=\"M1330,-425C1330,-425 1237,-425 1237,-425 1231,-425 1225,-419 1225,-413 1225,-413 1225,-354 1225,-354 1225,-348 1231,-342 1237,-342 1237,-342 1330,-342 1330,-342 1336,-342 1342,-348 1342,-354 1342,-354 1342,-413 1342,-413 1342,-419 1336,-425 1330,-425\"/>\r\n",
       "<text text-anchor=\"start\" x=\"1233\" y=\"-409.8\" font-family=\"Helvetica,sans-Serif\" font-size=\"14.00\">population ≤ 0.0</text>\r\n",
       "<text text-anchor=\"start\" x=\"1254.5\" y=\"-394.8\" font-family=\"Helvetica,sans-Serif\" font-size=\"14.00\">gini = 0.5</text>\r\n",
       "<text text-anchor=\"start\" x=\"1244\" y=\"-379.8\" font-family=\"Helvetica,sans-Serif\" font-size=\"14.00\">samples = 6</text>\r\n",
       "<text text-anchor=\"start\" x=\"1235\" y=\"-364.8\" font-family=\"Helvetica,sans-Serif\" font-size=\"14.00\">value = [3, 0, 3]</text>\r\n",
       "<text text-anchor=\"start\" x=\"1254\" y=\"-349.8\" font-family=\"Helvetica,sans-Serif\" font-size=\"14.00\">class = H</text>\r\n",
       "</g>\r\n",
       "<!-- 33&#45;&gt;35 -->\r\n",
       "<g id=\"edge35\" class=\"edge\"><title>33&#45;&gt;35</title>\r\n",
       "<path fill=\"none\" stroke=\"black\" d=\"M1196.64,-460.907C1207.37,-451.469 1218.88,-441.343 1229.9,-431.649\"/>\r\n",
       "<polygon fill=\"black\" stroke=\"black\" points=\"1232.24,-434.254 1237.44,-425.021 1227.62,-428.998 1232.24,-434.254\"/>\r\n",
       "</g>\r\n",
       "<!-- 36 -->\r\n",
       "<g id=\"node37\" class=\"node\"><title>36</title>\r\n",
       "<path fill=\"#8139e5\" stroke=\"black\" d=\"M1262,-298.5C1262,-298.5 1173,-298.5 1173,-298.5 1167,-298.5 1161,-292.5 1161,-286.5 1161,-286.5 1161,-242.5 1161,-242.5 1161,-236.5 1167,-230.5 1173,-230.5 1173,-230.5 1262,-230.5 1262,-230.5 1268,-230.5 1274,-236.5 1274,-242.5 1274,-242.5 1274,-286.5 1274,-286.5 1274,-292.5 1268,-298.5 1262,-298.5\"/>\r\n",
       "<text text-anchor=\"start\" x=\"1188.5\" y=\"-283.3\" font-family=\"Helvetica,sans-Serif\" font-size=\"14.00\">gini = 0.0</text>\r\n",
       "<text text-anchor=\"start\" x=\"1178\" y=\"-268.3\" font-family=\"Helvetica,sans-Serif\" font-size=\"14.00\">samples = 3</text>\r\n",
       "<text text-anchor=\"start\" x=\"1169\" y=\"-253.3\" font-family=\"Helvetica,sans-Serif\" font-size=\"14.00\">value = [0, 0, 3]</text>\r\n",
       "<text text-anchor=\"start\" x=\"1187\" y=\"-238.3\" font-family=\"Helvetica,sans-Serif\" font-size=\"14.00\">class = M</text>\r\n",
       "</g>\r\n",
       "<!-- 35&#45;&gt;36 -->\r\n",
       "<g id=\"edge36\" class=\"edge\"><title>35&#45;&gt;36</title>\r\n",
       "<path fill=\"none\" stroke=\"black\" d=\"M1260.6,-341.907C1254.31,-330.763 1247.49,-318.658 1241.16,-307.439\"/>\r\n",
       "<polygon fill=\"black\" stroke=\"black\" points=\"1244.17,-305.657 1236.21,-298.667 1238.07,-309.096 1244.17,-305.657\"/>\r\n",
       "</g>\r\n",
       "<!-- 37 -->\r\n",
       "<g id=\"node38\" class=\"node\"><title>37</title>\r\n",
       "<path fill=\"#e58139\" stroke=\"black\" d=\"M1393,-298.5C1393,-298.5 1304,-298.5 1304,-298.5 1298,-298.5 1292,-292.5 1292,-286.5 1292,-286.5 1292,-242.5 1292,-242.5 1292,-236.5 1298,-230.5 1304,-230.5 1304,-230.5 1393,-230.5 1393,-230.5 1399,-230.5 1405,-236.5 1405,-242.5 1405,-242.5 1405,-286.5 1405,-286.5 1405,-292.5 1399,-298.5 1393,-298.5\"/>\r\n",
       "<text text-anchor=\"start\" x=\"1319.5\" y=\"-283.3\" font-family=\"Helvetica,sans-Serif\" font-size=\"14.00\">gini = 0.0</text>\r\n",
       "<text text-anchor=\"start\" x=\"1309\" y=\"-268.3\" font-family=\"Helvetica,sans-Serif\" font-size=\"14.00\">samples = 3</text>\r\n",
       "<text text-anchor=\"start\" x=\"1300\" y=\"-253.3\" font-family=\"Helvetica,sans-Serif\" font-size=\"14.00\">value = [3, 0, 0]</text>\r\n",
       "<text text-anchor=\"start\" x=\"1319\" y=\"-238.3\" font-family=\"Helvetica,sans-Serif\" font-size=\"14.00\">class = H</text>\r\n",
       "</g>\r\n",
       "<!-- 35&#45;&gt;37 -->\r\n",
       "<g id=\"edge37\" class=\"edge\"><title>35&#45;&gt;37</title>\r\n",
       "<path fill=\"none\" stroke=\"black\" d=\"M1306.05,-341.907C1312.24,-330.763 1318.97,-318.658 1325.2,-307.439\"/>\r\n",
       "<polygon fill=\"black\" stroke=\"black\" points=\"1328.28,-309.108 1330.07,-298.667 1322.16,-305.709 1328.28,-309.108\"/>\r\n",
       "</g>\r\n",
       "</g>\r\n",
       "</svg>\r\n"
      ],
      "text/plain": [
       "<graphviz.files.Source at 0x2413d95d8c8>"
      ]
     },
     "execution_count": 44,
     "metadata": {},
     "output_type": "execute_result"
    }
   ],
   "source": [
    "viewDecisionTree(model_dt, X.columns)"
   ]
  },
  {
   "cell_type": "markdown",
   "metadata": {},
   "source": [
    "Importancia de las características."
   ]
  },
  {
   "cell_type": "code",
   "execution_count": 45,
   "metadata": {},
   "outputs": [
    {
     "data": {
      "image/png": "[encoded data removed]",
      "text/plain": [
       "<Figure size 576x288 with 1 Axes>"
      ]
     },
     "metadata": {
      "needs_background": "light"
     },
     "output_type": "display_data"
    }
   ],
   "source": [
    "decisionTreeSummary(model_dt, X.columns)"
   ]
  },
  {
   "cell_type": "markdown",
   "metadata": {},
   "source": [
    "Examinar los coeficientes del modelo logistic regression."
   ]
  },
  {
   "cell_type": "code",
   "execution_count": 48,
   "metadata": {},
   "outputs": [
    {
     "data": {
      "text/plain": [
       "array(['H', 'L', 'M'], dtype=object)"
      ]
     },
     "execution_count": 48,
     "metadata": {},
     "output_type": "execute_result"
    }
   ],
   "source": [
    "model_lr.classes_"
   ]
  },
  {
   "cell_type": "code",
   "execution_count": 49,
   "metadata": {},
   "outputs": [
    {
     "data": {
      "text/plain": [
       "array([[ 1.56109512,  1.43854829,  1.21032309,  0.71015589,  0.16496136,\n",
       "        -0.21151471,  0.38168319, -0.90984066, -0.7007721 , -0.06693589,\n",
       "         1.35850726, -0.26528544],\n",
       "       [-1.04391607, -0.40989364, -1.85609818, -1.39903662, -0.71497946,\n",
       "         0.2072231 , -0.15851575,  1.53414928,  1.15354453,  0.24971128,\n",
       "        -0.74221789,  0.09642796],\n",
       "       [-0.51717906, -1.02865465,  0.64577509,  0.68888074,  0.5500181 ,\n",
       "         0.00429161, -0.22316744, -0.62430862, -0.45277243, -0.18277539,\n",
       "        -0.61628937,  0.16885748]])"
      ]
     },
     "execution_count": 49,
     "metadata": {},
     "output_type": "execute_result"
    }
   ],
   "source": [
    "model_lr.coef_"
   ]
  },
  {
   "cell_type": "markdown",
   "metadata": {},
   "source": [
    "Plot de los coeficientes del modelo logistic regression."
   ]
  },
  {
   "cell_type": "code",
   "execution_count": 50,
   "metadata": {},
   "outputs": [
    {
     "data": {
      "image/png": "[encoded data removed]",
      "text/plain": [
       "<Figure size 576x288 with 1 Axes>"
      ]
     },
     "metadata": {
      "needs_background": "light"
     },
     "output_type": "display_data"
    },
    {
     "data": {
      "image/png": "[encoded data removed]",
      "text/plain": [
       "<Figure size 576x288 with 1 Axes>"
      ]
     },
     "metadata": {
      "needs_background": "light"
     },
     "output_type": "display_data"
    },
    {
     "data": {
      "image/png": "[encoded data removed]",
      "text/plain": [
       "<Figure size 576x288 with 1 Axes>"
      ]
     },
     "metadata": {
      "needs_background": "light"
     },
     "output_type": "display_data"
    }
   ],
   "source": [
    "logisticRegressionSummary(model_lr, X.columns)"
   ]
  }
 ],
 "metadata": {
  "kernelspec": {
   "display_name": "Python 3",
   "language": "python",
   "name": "python3"
  },
  "language_info": {
   "codemirror_mode": {
    "name": "ipython",
    "version": 3
   },
   "file_extension": ".py",
   "mimetype": "text/x-python",
   "name": "python",
   "nbconvert_exporter": "python",
   "pygments_lexer": "ipython3",
   "version": "3.7.4"
  }
 },
 "nbformat": 4,
 "nbformat_minor": 2
}
